{
 "cells": [
  {
   "cell_type": "code",
   "execution_count": 1,
   "metadata": {},
   "outputs": [],
   "source": [
    "import pandas as pd\n",
    "import numpy as np\n",
    "import matplotlib.pyplot as plt\n",
    "from sklearn import preprocessing\n",
    "from itertools import repeat\n",
    "df = pd.read_csv(\"CombinedSequences_ppr.csv\")"
   ]
  },
  {
   "cell_type": "code",
   "execution_count": 2,
   "metadata": {},
   "outputs": [],
   "source": [
    "seq = df['Sequence'].to_numpy()\n",
    "\n",
    "def kmerise(line,k):  # String and k are inputs\n",
    "    kmerised_array = []; # Final kmerised list\n",
    "    for i in line:\n",
    "        temp = []\n",
    "        for j in range(0,len(i),k): \n",
    "            temp.append(i[j:j+k]) #append substring in each iter \n",
    "        kmerised_array.append(temp)\n",
    "    \n",
    "    return kmerised_array"
   ]
  },
  {
   "cell_type": "code",
   "execution_count": 3,
   "metadata": {},
   "outputs": [
    {
     "data": {
      "text/html": [
       "<div>\n",
       "<style scoped>\n",
       "    .dataframe tbody tr th:only-of-type {\n",
       "        vertical-align: middle;\n",
       "    }\n",
       "\n",
       "    .dataframe tbody tr th {\n",
       "        vertical-align: top;\n",
       "    }\n",
       "\n",
       "    .dataframe thead th {\n",
       "        text-align: right;\n",
       "    }\n",
       "</style>\n",
       "<table border=\"1\" class=\"dataframe\">\n",
       "  <thead>\n",
       "    <tr style=\"text-align: right;\">\n",
       "      <th></th>\n",
       "      <th>AccessionID</th>\n",
       "      <th>Sequence</th>\n",
       "    </tr>\n",
       "  </thead>\n",
       "  <tbody>\n",
       "    <tr>\n",
       "      <th>0</th>\n",
       "      <td>0</td>\n",
       "      <td>ATGAGAGTTCAAAGACCACCCACTCTCTTGTTAGTGTTCTCACTCT...</td>\n",
       "    </tr>\n",
       "    <tr>\n",
       "      <th>1</th>\n",
       "      <td>0</td>\n",
       "      <td>ATGATACACTCAGTGTTTCTACTGATGTTCTTGTTAACACCTACAG...</td>\n",
       "    </tr>\n",
       "    <tr>\n",
       "      <th>2</th>\n",
       "      <td>0</td>\n",
       "      <td>TATGCCTAACATGTGTAGGATTTTCGCGTCTCTGATTTTGGCACGC...</td>\n",
       "    </tr>\n",
       "    <tr>\n",
       "      <th>3</th>\n",
       "      <td>0</td>\n",
       "      <td>TATGCCTAACATGTGTAGGATTTTTGCATCTCTGATTTTGGCACGC...</td>\n",
       "    </tr>\n",
       "    <tr>\n",
       "      <th>4</th>\n",
       "      <td>0</td>\n",
       "      <td>TATGCCTAACATGTGTAGGATTTTCGCGTCTCTGATTTTGGCACGC...</td>\n",
       "    </tr>\n",
       "  </tbody>\n",
       "</table>\n",
       "</div>"
      ],
      "text/plain": [
       "   AccessionID                                           Sequence\n",
       "0            0  ATGAGAGTTCAAAGACCACCCACTCTCTTGTTAGTGTTCTCACTCT...\n",
       "1            0  ATGATACACTCAGTGTTTCTACTGATGTTCTTGTTAACACCTACAG...\n",
       "2            0  TATGCCTAACATGTGTAGGATTTTCGCGTCTCTGATTTTGGCACGC...\n",
       "3            0  TATGCCTAACATGTGTAGGATTTTTGCATCTCTGATTTTGGCACGC...\n",
       "4            0  TATGCCTAACATGTGTAGGATTTTCGCGTCTCTGATTTTGGCACGC..."
      ]
     },
     "execution_count": 3,
     "metadata": {},
     "output_type": "execute_result"
    }
   ],
   "source": [
    "df['AccessionID'] = pd.factorize(df['AccessionID'])[0]\n",
    "df.head()"
   ]
  },
  {
   "cell_type": "code",
   "execution_count": 4,
   "metadata": {},
   "outputs": [
    {
     "data": {
      "text/html": [
       "<div>\n",
       "<style scoped>\n",
       "    .dataframe tbody tr th:only-of-type {\n",
       "        vertical-align: middle;\n",
       "    }\n",
       "\n",
       "    .dataframe tbody tr th {\n",
       "        vertical-align: top;\n",
       "    }\n",
       "\n",
       "    .dataframe thead th {\n",
       "        text-align: right;\n",
       "    }\n",
       "</style>\n",
       "<table border=\"1\" class=\"dataframe\">\n",
       "  <thead>\n",
       "    <tr style=\"text-align: right;\">\n",
       "      <th></th>\n",
       "      <th>AccessionID</th>\n",
       "      <th>Sequence</th>\n",
       "    </tr>\n",
       "  </thead>\n",
       "  <tbody>\n",
       "    <tr>\n",
       "      <th>2519</th>\n",
       "      <td>2</td>\n",
       "      <td>GACTAAAGATAAAAATTATATACGTATAATTTTTGTCTCTCTAGCT...</td>\n",
       "    </tr>\n",
       "    <tr>\n",
       "      <th>2520</th>\n",
       "      <td>2</td>\n",
       "      <td>GACAAAGGTGAAAATTAATATATATATATTAATTTTACTCCTCCTC...</td>\n",
       "    </tr>\n",
       "    <tr>\n",
       "      <th>2521</th>\n",
       "      <td>2</td>\n",
       "      <td>GTCATTTGGTAAAATATAATATATATTTTATCACTCTAGCTTCGCT...</td>\n",
       "    </tr>\n",
       "    <tr>\n",
       "      <th>2522</th>\n",
       "      <td>2</td>\n",
       "      <td>GACAAAGCTCAAAAATATATATATATATTTTTGTTGCTCCTAGCTT...</td>\n",
       "    </tr>\n",
       "    <tr>\n",
       "      <th>2523</th>\n",
       "      <td>2</td>\n",
       "      <td>GACTAAAGATAAAAATTATAGCATTAGTCTATAATTTTATCTCCCT...</td>\n",
       "    </tr>\n",
       "  </tbody>\n",
       "</table>\n",
       "</div>"
      ],
      "text/plain": [
       "      AccessionID                                           Sequence\n",
       "2519            2  GACTAAAGATAAAAATTATATACGTATAATTTTTGTCTCTCTAGCT...\n",
       "2520            2  GACAAAGGTGAAAATTAATATATATATATTAATTTTACTCCTCCTC...\n",
       "2521            2  GTCATTTGGTAAAATATAATATATATTTTATCACTCTAGCTTCGCT...\n",
       "2522            2  GACAAAGCTCAAAAATATATATATATATTTTTGTTGCTCCTAGCTT...\n",
       "2523            2  GACTAAAGATAAAAATTATAGCATTAGTCTATAATTTTATCTCCCT..."
      ]
     },
     "execution_count": 4,
     "metadata": {},
     "output_type": "execute_result"
    }
   ],
   "source": [
    "df.tail()"
   ]
  },
  {
   "cell_type": "code",
   "execution_count": 5,
   "metadata": {},
   "outputs": [],
   "source": [
    "k = 15\n",
    "kmers_list =  kmerise(seq,k)"
   ]
  },
  {
   "cell_type": "code",
   "execution_count": 6,
   "metadata": {},
   "outputs": [],
   "source": [
    "baseDict = {'A': 1, 'C': 2, 'G': 3, 'T': 4, 'R': 5, 'Y': 6, 'S': 7, 'W': 8, 'K': 9, 'M': 10, 'B': 11, 'D': 12, 'H': 13, 'V': 14,'N': 15}"
   ]
  },
  {
   "cell_type": "code",
   "execution_count": 7,
   "metadata": {},
   "outputs": [],
   "source": [
    "def vectorizedList(line):  # String and k are inputs\n",
    "    vectorized_array = []; # Final vectorised list\n",
    "    for i in line:\n",
    "        temp = \"\"\n",
    "        for j in range(len(i)):\n",
    "            temp += str(baseDict[i[j]])\n",
    "        vectorized_array.append(int(temp))\n",
    "    \n",
    "    return vectorized_array"
   ]
  },
  {
   "cell_type": "code",
   "execution_count": 8,
   "metadata": {},
   "outputs": [],
   "source": [
    "Vec = []\n",
    "len_vec = []\n",
    "for i in range(len(kmers_list)):\n",
    "    Vec.append(vectorizedList(kmers_list[i]))\n",
    "    len_vec.append(len(kmers_list[i]))\n",
    "#Vec"
   ]
  },
  {
   "cell_type": "code",
   "execution_count": 9,
   "metadata": {},
   "outputs": [],
   "source": [
    "f = [[float(i) for i in j] for j in Vec]\n",
    "Vec = [[i / sum(j) for i in j] for j in f]"
   ]
  },
  {
   "cell_type": "code",
   "execution_count": 10,
   "metadata": {},
   "outputs": [],
   "source": [
    "def padding(seq, len_vec):\n",
    "    anotherseq = seq.copy()\n",
    "    max_kmerlen = max(len_vec)\n",
    "    for i in anotherseq:\n",
    "        diff = max_kmerlen - len(i)\n",
    "        i.extend(repeat(0, diff))\n",
    "    \n",
    "    return anotherseq    "
   ]
  },
  {
   "cell_type": "code",
   "execution_count": 11,
   "metadata": {},
   "outputs": [],
   "source": [
    "pad = padding(Vec, len_vec)"
   ]
  },
  {
   "cell_type": "code",
   "execution_count": 12,
   "metadata": {},
   "outputs": [],
   "source": [
    "import keras\n",
    "from keras.layers import Dense, Embedding, Bidirectional, LSTM\n",
    "from keras.layers import Input, Dropout, Activation\n",
    "from keras.optimizers import Adam\n",
    "from sklearn.model_selection import train_test_split"
   ]
  },
  {
   "cell_type": "code",
   "execution_count": 13,
   "metadata": {},
   "outputs": [],
   "source": [
    "X = np.asarray(pad)#.astype(np.float32)\n",
    "y = df['AccessionID'].to_numpy()#.astype(np.float32)"
   ]
  },
  {
   "cell_type": "code",
   "execution_count": 14,
   "metadata": {},
   "outputs": [
    {
     "data": {
      "text/plain": [
       "(2524, 2118)"
      ]
     },
     "execution_count": 14,
     "metadata": {},
     "output_type": "execute_result"
    }
   ],
   "source": [
    "X.shape"
   ]
  },
  {
   "cell_type": "code",
   "execution_count": 54,
   "metadata": {},
   "outputs": [],
   "source": [
    "x_train, x_test, y_train, Y_test = train_test_split(X, y, test_size=0.33)"
   ]
  },
  {
   "cell_type": "code",
   "execution_count": 16,
   "metadata": {},
   "outputs": [],
   "source": [
    "x_train = x_train.astype('float32') \n",
    "x_test = x_test.astype('float32') "
   ]
  },
  {
   "cell_type": "code",
   "execution_count": 18,
   "metadata": {},
   "outputs": [],
   "source": [
    "y_train = keras.utils.to_categorical(y_train) \n",
    "y_test = keras.utils.to_categorical(y_test) "
   ]
  },
  {
   "cell_type": "code",
   "execution_count": 19,
   "metadata": {},
   "outputs": [
    {
     "name": "stdout",
     "output_type": "stream",
     "text": [
      "(1691, 2118)\n",
      "(833, 2118)\n"
     ]
    }
   ],
   "source": [
    "print(x_train.shape)\n",
    "print(x_test.shape)"
   ]
  },
  {
   "cell_type": "code",
   "execution_count": 20,
   "metadata": {},
   "outputs": [
    {
     "name": "stdout",
     "output_type": "stream",
     "text": [
      "(1691, 3)\n",
      "(833, 3)\n"
     ]
    }
   ],
   "source": [
    "print(y_train.shape)\n",
    "print(y_test.shape)"
   ]
  },
  {
   "cell_type": "code",
   "execution_count": 21,
   "metadata": {},
   "outputs": [],
   "source": [
    "from keras.utils.np_utils import to_categorical\n",
    "from keras.models import Model ,Sequential\n",
    "from sklearn.metrics import precision_recall_fscore_support as score\n",
    "from sklearn.metrics import precision_score, recall_score, f1_score\n",
    "from sklearn.model_selection import StratifiedKFold"
   ]
  },
  {
   "cell_type": "code",
   "execution_count": 47,
   "metadata": {},
   "outputs": [],
   "source": [
    "# Input for variable-length sequences of integers\n",
    "model = Sequential()\n",
    "\n",
    "# Embed each integer in a 256-dimensional vector\n",
    "model.add(Embedding(x_train.shape[1], 128))\n",
    "\n",
    "# Add 2 bidirectional LSTMs\n",
    "model.add(Bidirectional(LSTM(128, return_sequences=True)))\n",
    "model.add(Bidirectional(LSTM(128, return_sequences=True)))\n",
    "model.add(Bidirectional(LSTM(16)))\n",
    "\n",
    "# Add a classifier\n",
    "model.add(Dense(3, activation=\"sigmoid\"))"
   ]
  },
  {
   "cell_type": "code",
   "execution_count": 48,
   "metadata": {},
   "outputs": [],
   "source": [
    "model.compile(optimizer='adam', loss = \"mean_squared_error\", metrics = ['accuracy']) "
   ]
  },
  {
   "cell_type": "code",
   "execution_count": 49,
   "metadata": {},
   "outputs": [
    {
     "name": "stdout",
     "output_type": "stream",
     "text": [
      "Epoch 1/8\n",
      "53/53 [==============================] - 157s 3s/step - loss: 0.1773 - accuracy: 0.6688\n",
      "Epoch 2/8\n",
      "53/53 [==============================] - 153s 3s/step - loss: 0.1496 - accuracy: 0.6782\n",
      "Epoch 3/8\n",
      "53/53 [==============================] - 155s 3s/step - loss: 0.1472 - accuracy: 0.6776\n",
      "Epoch 4/8\n",
      "53/53 [==============================] - 153s 3s/step - loss: 0.1468 - accuracy: 0.6748\n",
      "Epoch 5/8\n",
      "53/53 [==============================] - 152s 3s/step - loss: 0.1415 - accuracy: 0.6870\n",
      "Epoch 6/8\n",
      "53/53 [==============================] - 151s 3s/step - loss: 0.1446 - accuracy: 0.6764\n",
      "Epoch 7/8\n",
      "53/53 [==============================] - 171s 3s/step - loss: 0.1460 - accuracy: 0.6666\n",
      "Epoch 8/8\n",
      "53/53 [==============================] - 165s 3s/step - loss: 0.1459 - accuracy: 0.6661\n",
      "Model: \"sequential_14\"\n",
      "_________________________________________________________________\n",
      "Layer (type)                 Output Shape              Param #   \n",
      "=================================================================\n",
      "embedding_10 (Embedding)     (None, None, 128)         271104    \n",
      "_________________________________________________________________\n",
      "bidirectional_20 (Bidirectio (None, None, 128)         98816     \n",
      "_________________________________________________________________\n",
      "bidirectional_21 (Bidirectio (None, 64)                41216     \n",
      "_________________________________________________________________\n",
      "dense_8 (Dense)              (None, 3)                 195       \n",
      "=================================================================\n",
      "Total params: 411,331\n",
      "Trainable params: 411,331\n",
      "Non-trainable params: 0\n",
      "_________________________________________________________________\n"
     ]
    }
   ],
   "source": [
    "model.fit(x_train, y_train, epochs = 8)\n",
    "model.summary()"
   ]
  },
  {
   "cell_type": "code",
   "execution_count": 51,
   "metadata": {},
   "outputs": [
    {
     "name": "stdout",
     "output_type": "stream",
     "text": [
      "loss= 0.14713913202285767\n",
      "accuracy= 0.6614645719528198\n"
     ]
    }
   ],
   "source": [
    "score = model.evaluate(x_test, y_test, verbose=0) \n",
    "print('loss=', score[0])\n",
    "print('accuracy=', score[1])"
   ]
  },
  {
   "cell_type": "code",
   "execution_count": 52,
   "metadata": {},
   "outputs": [],
   "source": [
    "y_pred = model.predict(x_test)\n",
    "Y_pred_classes = np.argmax(y_pred,axis=1)\n",
    "y_act = np.argmax(y_test,axis=1)"
   ]
  },
  {
   "cell_type": "code",
   "execution_count": 55,
   "metadata": {},
   "outputs": [
    {
     "data": {
      "text/plain": [
       "array([[  0.,   0.,   0.],\n",
       "       [272., 551.,  10.],\n",
       "       [  0.,   0.,   0.]])"
      ]
     },
     "execution_count": 55,
     "metadata": {},
     "output_type": "execute_result"
    }
   ],
   "source": [
    "conf_matrix = np.zeros((3,3))\n",
    "for i in range(len(y_act)):\n",
    "    conf_matrix[Y_pred_classes[i]][y_act[i]] += 1\n",
    "conf_matrix"
   ]
  },
  {
   "cell_type": "code",
   "execution_count": 1,
   "metadata": {},
   "outputs": [
    {
     "ename": "NameError",
     "evalue": "name 'precision_score' is not defined",
     "output_type": "error",
     "traceback": [
      "\u001b[1;31m---------------------------------------------------------------------------\u001b[0m",
      "\u001b[1;31mNameError\u001b[0m                                 Traceback (most recent call last)",
      "\u001b[1;32m<ipython-input-1-854e9d33ef86>\u001b[0m in \u001b[0;36m<module>\u001b[1;34m\u001b[0m\n\u001b[1;32m----> 1\u001b[1;33m \u001b[0mprecision\u001b[0m \u001b[1;33m=\u001b[0m \u001b[0mprecision_score\u001b[0m\u001b[1;33m(\u001b[0m\u001b[0mY_test\u001b[0m\u001b[1;33m,\u001b[0m \u001b[0mY_pred_classes\u001b[0m\u001b[1;33m,\u001b[0m \u001b[0maverage\u001b[0m\u001b[1;33m=\u001b[0m\u001b[1;34m'micro'\u001b[0m\u001b[1;33m)\u001b[0m\u001b[1;33m\u001b[0m\u001b[1;33m\u001b[0m\u001b[0m\n\u001b[0m\u001b[0;32m      2\u001b[0m \u001b[0mrecall\u001b[0m \u001b[1;33m=\u001b[0m \u001b[0mrecall_score\u001b[0m\u001b[1;33m(\u001b[0m\u001b[0mY_test\u001b[0m\u001b[1;33m,\u001b[0m \u001b[0mY_pred_classes\u001b[0m\u001b[1;33m,\u001b[0m \u001b[0maverage\u001b[0m\u001b[1;33m=\u001b[0m\u001b[1;34m'micro'\u001b[0m\u001b[1;33m)\u001b[0m\u001b[1;33m\u001b[0m\u001b[1;33m\u001b[0m\u001b[0m\n\u001b[0;32m      3\u001b[0m \u001b[0mf1score\u001b[0m \u001b[1;33m=\u001b[0m \u001b[0mf1_score\u001b[0m\u001b[1;33m(\u001b[0m\u001b[0mY_test\u001b[0m\u001b[1;33m,\u001b[0m \u001b[0mY_pred_classes\u001b[0m\u001b[1;33m,\u001b[0m \u001b[0maverage\u001b[0m\u001b[1;33m=\u001b[0m\u001b[1;34m'micro'\u001b[0m\u001b[1;33m)\u001b[0m\u001b[1;33m\u001b[0m\u001b[1;33m\u001b[0m\u001b[0m\n\u001b[0;32m      4\u001b[0m \u001b[0mprint\u001b[0m\u001b[1;33m(\u001b[0m\u001b[1;34m\"Precision: \"\u001b[0m\u001b[1;33m,\u001b[0m \u001b[0mprecision\u001b[0m\u001b[1;33m)\u001b[0m\u001b[1;33m\u001b[0m\u001b[1;33m\u001b[0m\u001b[0m\n\u001b[0;32m      5\u001b[0m \u001b[0mprint\u001b[0m\u001b[1;33m(\u001b[0m\u001b[1;34m\"Recall: \"\u001b[0m\u001b[1;33m,\u001b[0m \u001b[0mrecall\u001b[0m\u001b[1;33m)\u001b[0m\u001b[1;33m\u001b[0m\u001b[1;33m\u001b[0m\u001b[0m\n",
      "\u001b[1;31mNameError\u001b[0m: name 'precision_score' is not defined"
     ]
    }
   ],
   "source": [
    "precision = precision_score(Y_test, Y_pred_classes, average='micro')\n",
    "recall = recall_score(Y_test, Y_pred_classes, average='micro')\n",
    "f1score = f1_score(Y_test, Y_pred_classes, average='micro')\n",
    "print(\"Precision: \", precision)\n",
    "print(\"Recall: \", recall)\n",
    "print(\"F1-score: \", f1score)"
   ]
  }
 ],
 "metadata": {
  "kernelspec": {
   "display_name": "Python 3 (ipykernel)",
   "language": "python",
   "name": "python3"
  },
  "language_info": {
   "codemirror_mode": {
    "name": "ipython",
    "version": 3
   },
   "file_extension": ".py",
   "mimetype": "text/x-python",
   "name": "python",
   "nbconvert_exporter": "python",
   "pygments_lexer": "ipython3",
   "version": "3.9.7"
  }
 },
 "nbformat": 4,
 "nbformat_minor": 4
}
