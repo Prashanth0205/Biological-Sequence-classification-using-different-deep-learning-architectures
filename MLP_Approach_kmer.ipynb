{
 "cells": [
  {
   "cell_type": "code",
   "execution_count": 1,
   "metadata": {},
   "outputs": [],
   "source": [
    "import pandas as pd\n",
    "import numpy as np\n",
    "import matplotlib.pyplot as plt\n",
    "from sklearn import preprocessing\n",
    "from itertools import repeat\n",
    "df = pd.read_csv(\"CombinedSequences_ppr.csv\")"
   ]
  },
  {
   "cell_type": "code",
   "execution_count": 2,
   "metadata": {},
   "outputs": [],
   "source": [
    "seq = df['Sequence'].to_numpy()\n",
    "#Function to strip each sequence into k-mers\n",
    "def kmerise(line,k):  # String and k are inputs\n",
    "    kmerised_array = []; # Final kmerised list\n",
    "    for i in line:\n",
    "        temp = []\n",
    "        for j in range(0,len(i),k): \n",
    "            temp.append(i[j:j+k]) #append substring in each iter \n",
    "        kmerised_array.append(temp)\n",
    "    \n",
    "    return kmerised_array"
   ]
  },
  {
   "cell_type": "code",
   "execution_count": 3,
   "metadata": {},
   "outputs": [
    {
     "data": {
      "text/html": [
       "<div>\n",
       "<style scoped>\n",
       "    .dataframe tbody tr th:only-of-type {\n",
       "        vertical-align: middle;\n",
       "    }\n",
       "\n",
       "    .dataframe tbody tr th {\n",
       "        vertical-align: top;\n",
       "    }\n",
       "\n",
       "    .dataframe thead th {\n",
       "        text-align: right;\n",
       "    }\n",
       "</style>\n",
       "<table border=\"1\" class=\"dataframe\">\n",
       "  <thead>\n",
       "    <tr style=\"text-align: right;\">\n",
       "      <th></th>\n",
       "      <th>AccessionID</th>\n",
       "      <th>Sequence</th>\n",
       "    </tr>\n",
       "  </thead>\n",
       "  <tbody>\n",
       "    <tr>\n",
       "      <th>0</th>\n",
       "      <td>0</td>\n",
       "      <td>ATGAGAGTTCAAAGACCACCCACTCTCTTGTTAGTGTTCTCACTCT...</td>\n",
       "    </tr>\n",
       "    <tr>\n",
       "      <th>1</th>\n",
       "      <td>0</td>\n",
       "      <td>ATGATACACTCAGTGTTTCTACTGATGTTCTTGTTAACACCTACAG...</td>\n",
       "    </tr>\n",
       "    <tr>\n",
       "      <th>2</th>\n",
       "      <td>0</td>\n",
       "      <td>TATGCCTAACATGTGTAGGATTTTCGCGTCTCTGATTTTGGCACGC...</td>\n",
       "    </tr>\n",
       "    <tr>\n",
       "      <th>3</th>\n",
       "      <td>0</td>\n",
       "      <td>TATGCCTAACATGTGTAGGATTTTTGCATCTCTGATTTTGGCACGC...</td>\n",
       "    </tr>\n",
       "    <tr>\n",
       "      <th>4</th>\n",
       "      <td>0</td>\n",
       "      <td>TATGCCTAACATGTGTAGGATTTTCGCGTCTCTGATTTTGGCACGC...</td>\n",
       "    </tr>\n",
       "  </tbody>\n",
       "</table>\n",
       "</div>"
      ],
      "text/plain": [
       "   AccessionID                                           Sequence\n",
       "0            0  ATGAGAGTTCAAAGACCACCCACTCTCTTGTTAGTGTTCTCACTCT...\n",
       "1            0  ATGATACACTCAGTGTTTCTACTGATGTTCTTGTTAACACCTACAG...\n",
       "2            0  TATGCCTAACATGTGTAGGATTTTCGCGTCTCTGATTTTGGCACGC...\n",
       "3            0  TATGCCTAACATGTGTAGGATTTTTGCATCTCTGATTTTGGCACGC...\n",
       "4            0  TATGCCTAACATGTGTAGGATTTTCGCGTCTCTGATTTTGGCACGC..."
      ]
     },
     "execution_count": 3,
     "metadata": {},
     "output_type": "execute_result"
    }
   ],
   "source": [
    "df['AccessionID'] = pd.factorize(df['AccessionID'])[0]\n",
    "df.head()"
   ]
  },
  {
   "cell_type": "code",
   "execution_count": 4,
   "metadata": {},
   "outputs": [
    {
     "data": {
      "text/html": [
       "<div>\n",
       "<style scoped>\n",
       "    .dataframe tbody tr th:only-of-type {\n",
       "        vertical-align: middle;\n",
       "    }\n",
       "\n",
       "    .dataframe tbody tr th {\n",
       "        vertical-align: top;\n",
       "    }\n",
       "\n",
       "    .dataframe thead th {\n",
       "        text-align: right;\n",
       "    }\n",
       "</style>\n",
       "<table border=\"1\" class=\"dataframe\">\n",
       "  <thead>\n",
       "    <tr style=\"text-align: right;\">\n",
       "      <th></th>\n",
       "      <th>AccessionID</th>\n",
       "      <th>Sequence</th>\n",
       "    </tr>\n",
       "  </thead>\n",
       "  <tbody>\n",
       "    <tr>\n",
       "      <th>2519</th>\n",
       "      <td>2</td>\n",
       "      <td>GACTAAAGATAAAAATTATATACGTATAATTTTTGTCTCTCTAGCT...</td>\n",
       "    </tr>\n",
       "    <tr>\n",
       "      <th>2520</th>\n",
       "      <td>2</td>\n",
       "      <td>GACAAAGGTGAAAATTAATATATATATATTAATTTTACTCCTCCTC...</td>\n",
       "    </tr>\n",
       "    <tr>\n",
       "      <th>2521</th>\n",
       "      <td>2</td>\n",
       "      <td>GTCATTTGGTAAAATATAATATATATTTTATCACTCTAGCTTCGCT...</td>\n",
       "    </tr>\n",
       "    <tr>\n",
       "      <th>2522</th>\n",
       "      <td>2</td>\n",
       "      <td>GACAAAGCTCAAAAATATATATATATATTTTTGTTGCTCCTAGCTT...</td>\n",
       "    </tr>\n",
       "    <tr>\n",
       "      <th>2523</th>\n",
       "      <td>2</td>\n",
       "      <td>GACTAAAGATAAAAATTATAGCATTAGTCTATAATTTTATCTCCCT...</td>\n",
       "    </tr>\n",
       "  </tbody>\n",
       "</table>\n",
       "</div>"
      ],
      "text/plain": [
       "      AccessionID                                           Sequence\n",
       "2519            2  GACTAAAGATAAAAATTATATACGTATAATTTTTGTCTCTCTAGCT...\n",
       "2520            2  GACAAAGGTGAAAATTAATATATATATATTAATTTTACTCCTCCTC...\n",
       "2521            2  GTCATTTGGTAAAATATAATATATATTTTATCACTCTAGCTTCGCT...\n",
       "2522            2  GACAAAGCTCAAAAATATATATATATATTTTTGTTGCTCCTAGCTT...\n",
       "2523            2  GACTAAAGATAAAAATTATAGCATTAGTCTATAATTTTATCTCCCT..."
      ]
     },
     "execution_count": 4,
     "metadata": {},
     "output_type": "execute_result"
    }
   ],
   "source": [
    "df.tail()"
   ]
  },
  {
   "cell_type": "code",
   "execution_count": 5,
   "metadata": {},
   "outputs": [],
   "source": [
    "kmers_list =  kmerise(seq,15)"
   ]
  },
  {
   "cell_type": "code",
   "execution_count": 6,
   "metadata": {},
   "outputs": [],
   "source": [
    "baseDict = {'A': 1, 'C': 2, 'G': 3, 'T': 4, 'R': 5, 'Y': 6, 'S': 7, 'W': 8, 'K': 9, 'M': 10, 'B': 11, 'D': 12, 'H': 13, 'V': 14,'N': 15}\n",
    "# Dictionary to convert each base to corr. number"
   ]
  },
  {
   "cell_type": "code",
   "execution_count": 7,
   "metadata": {},
   "outputs": [],
   "source": [
    "#Function to convert each k-mer in list to vectors \n",
    "def vectorizedList(line):  # String and k are inputs\n",
    "    vectorized_array = []; # Final vectorised list\n",
    "    for i in line:\n",
    "        temp = \"\"\n",
    "        for j in range(len(i)):\n",
    "            temp += str(baseDict[i[j]])\n",
    "        vectorized_array.append(int(temp))\n",
    "    \n",
    "    return vectorized_array"
   ]
  },
  {
   "cell_type": "code",
   "execution_count": 8,
   "metadata": {
    "scrolled": true
   },
   "outputs": [],
   "source": [
    "Vec = []\n",
    "len_vec = []\n",
    "for i in range(len(kmers_list)):\n",
    "    Vec.append(vectorizedList(kmers_list[i]))\n",
    "    len_vec.append(len(kmers_list[i]))\n",
    "#Vec"
   ]
  },
  {
   "cell_type": "code",
   "execution_count": 9,
   "metadata": {},
   "outputs": [],
   "source": [
    "f = [[float(i) for i in j] for j in Vec]\n",
    "Vec = [[i / sum(j) for i in j] for j in f]"
   ]
  },
  {
   "cell_type": "code",
   "execution_count": 10,
   "metadata": {},
   "outputs": [],
   "source": [
    "#Padding with extra zeros to match length of all sequences\n",
    "def padding(seq, len_vec):\n",
    "    anotherseq = seq.copy()\n",
    "    max_kmerlen = max(len_vec)\n",
    "    for i in anotherseq:\n",
    "        diff = max_kmerlen - len(i)\n",
    "        i.extend(repeat(0, diff))\n",
    "    \n",
    "    return anotherseq    "
   ]
  },
  {
   "cell_type": "code",
   "execution_count": 11,
   "metadata": {},
   "outputs": [],
   "source": [
    "pad = padding(Vec, len_vec)"
   ]
  },
  {
   "cell_type": "code",
   "execution_count": 12,
   "metadata": {},
   "outputs": [],
   "source": [
    "from keras.models import Model ,Sequential\n",
    "from keras.layers import Input, Dropout, Flatten, Dense, Activation\n",
    "from keras.optimizers import Adam\n",
    "from sklearn.model_selection import train_test_split\n",
    "from sklearn.metrics import precision_recall_fscore_support as score\n",
    "from sklearn.metrics import precision_score, recall_score, f1_score\n",
    "from sklearn.metrics import roc_auc_score,roc_curve\n",
    "import keras "
   ]
  },
  {
   "cell_type": "code",
   "execution_count": 13,
   "metadata": {},
   "outputs": [],
   "source": [
    "X = np.asarray(pad)#.astype(np.float32)\n",
    "y = df['AccessionID'].to_numpy()#.astype(np.float32)"
   ]
  },
  {
   "cell_type": "code",
   "execution_count": 14,
   "metadata": {},
   "outputs": [],
   "source": [
    "x_train, x_test, y_train, Y_test = train_test_split(X, y, test_size=0.33)"
   ]
  },
  {
   "cell_type": "code",
   "execution_count": 15,
   "metadata": {},
   "outputs": [],
   "source": [
    "x_train = x_train.astype('float32') \n",
    "x_test = x_test.astype('float32') "
   ]
  },
  {
   "cell_type": "code",
   "execution_count": 16,
   "metadata": {},
   "outputs": [],
   "source": [
    "# Converting into one-hot encoded format\n",
    "fields = len(np.unique(df['AccessionID']))\n",
    "from keras.utils.np_utils import to_categorical\n",
    "#For training data\n",
    "y_train = np.uint8(to_categorical(y_train, num_classes = fields))\n",
    "\n",
    "#For test data\n",
    "y_test = np.uint8(to_categorical(Y_test, num_classes = fields))"
   ]
  },
  {
   "cell_type": "code",
   "execution_count": 17,
   "metadata": {},
   "outputs": [
    {
     "data": {
      "text/plain": [
       "array([[0.04372344, 0.07441494, 0.07820745, ..., 0.        , 0.        ,\n",
       "        0.        ],\n",
       "       [0.04424227, 0.03109292, 0.05433986, ..., 0.        , 0.        ,\n",
       "        0.        ],\n",
       "       [0.0090762 , 0.01013899, 0.03439976, ..., 0.        , 0.        ,\n",
       "        0.        ],\n",
       "       ...,\n",
       "       [0.0021217 , 0.00652944, 0.00183608, ..., 0.        , 0.        ,\n",
       "        0.        ],\n",
       "       [0.09748992, 0.09979343, 0.0276199 , ..., 0.        , 0.        ,\n",
       "        0.        ],\n",
       "       [0.03677528, 0.0125312 , 0.03748517, ..., 0.        , 0.        ,\n",
       "        0.        ]], dtype=float32)"
      ]
     },
     "execution_count": 17,
     "metadata": {},
     "output_type": "execute_result"
    }
   ],
   "source": [
    "x_train"
   ]
  },
  {
   "cell_type": "code",
   "execution_count": 18,
   "metadata": {},
   "outputs": [
    {
     "name": "stdout",
     "output_type": "stream",
     "text": [
      "(1691, 2118)\n",
      "(833, 2118)\n"
     ]
    }
   ],
   "source": [
    "print(x_train.shape)\n",
    "print(x_test.shape)"
   ]
  },
  {
   "cell_type": "code",
   "execution_count": 19,
   "metadata": {},
   "outputs": [
    {
     "name": "stdout",
     "output_type": "stream",
     "text": [
      "(1691, 3)\n",
      "(833, 3)\n"
     ]
    }
   ],
   "source": [
    "print(y_train.shape)\n",
    "print(y_test.shape)"
   ]
  },
  {
   "cell_type": "code",
   "execution_count": 20,
   "metadata": {},
   "outputs": [
    {
     "data": {
      "text/plain": [
       "array([[0, 1, 0],\n",
       "       [0, 1, 0],\n",
       "       [0, 1, 0],\n",
       "       ...,\n",
       "       [0, 1, 0],\n",
       "       [1, 0, 0],\n",
       "       [1, 0, 0]], dtype=uint8)"
      ]
     },
     "execution_count": 20,
     "metadata": {},
     "output_type": "execute_result"
    }
   ],
   "source": [
    "y_train"
   ]
  },
  {
   "cell_type": "code",
   "execution_count": 21,
   "metadata": {},
   "outputs": [],
   "source": [
    "model = Sequential()\n",
    "\n",
    "model.add(Dense(32, input_dim = (x_train.shape[1]), activation='relu'))\n",
    "model.add(Dense(512, activation='relu'))\n",
    "model.add(Dense(64, activation='relu'))\n",
    "model.add(Dense(fields, activation='softmax'))"
   ]
  },
  {
   "cell_type": "code",
   "execution_count": 22,
   "metadata": {},
   "outputs": [
    {
     "name": "stdout",
     "output_type": "stream",
     "text": [
      "Model: \"sequential\"\n",
      "_________________________________________________________________\n",
      "Layer (type)                 Output Shape              Param #   \n",
      "=================================================================\n",
      "dense (Dense)                (None, 32)                67808     \n",
      "_________________________________________________________________\n",
      "dense_1 (Dense)              (None, 512)               16896     \n",
      "_________________________________________________________________\n",
      "dense_2 (Dense)              (None, 64)                32832     \n",
      "_________________________________________________________________\n",
      "dense_3 (Dense)              (None, 3)                 195       \n",
      "=================================================================\n",
      "Total params: 117,731\n",
      "Trainable params: 117,731\n",
      "Non-trainable params: 0\n",
      "_________________________________________________________________\n"
     ]
    }
   ],
   "source": [
    "model.compile(optimizer=\"ADAM\", loss=\"categorical_crossentropy\" ,metrics = ['accuracy'])\n",
    "model.summary()"
   ]
  },
  {
   "cell_type": "code",
   "execution_count": 23,
   "metadata": {
    "scrolled": true
   },
   "outputs": [
    {
     "name": "stdout",
     "output_type": "stream",
     "text": [
      "Epoch 1/40\n",
      "53/53 [==============================] - 1s 2ms/step - loss: 0.9036 - accuracy: 0.6645\n",
      "Epoch 2/40\n",
      "53/53 [==============================] - 0s 2ms/step - loss: 0.5757 - accuracy: 0.6958\n",
      "Epoch 3/40\n",
      "53/53 [==============================] - 0s 2ms/step - loss: 0.4780 - accuracy: 0.8224\n",
      "Epoch 4/40\n",
      "53/53 [==============================] - 0s 2ms/step - loss: 0.3915 - accuracy: 0.8464\n",
      "Epoch 5/40\n",
      "53/53 [==============================] - 0s 2ms/step - loss: 0.3724 - accuracy: 0.8395\n",
      "Epoch 6/40\n",
      "53/53 [==============================] - 0s 2ms/step - loss: 0.3335 - accuracy: 0.8650\n",
      "Epoch 7/40\n",
      "53/53 [==============================] - 0s 2ms/step - loss: 0.3049 - accuracy: 0.8701\n",
      "Epoch 8/40\n",
      "53/53 [==============================] - 0s 2ms/step - loss: 0.2809 - accuracy: 0.8720\n",
      "Epoch 9/40\n",
      "53/53 [==============================] - 0s 2ms/step - loss: 0.3012 - accuracy: 0.8765\n",
      "Epoch 10/40\n",
      "53/53 [==============================] - 0s 2ms/step - loss: 0.2703 - accuracy: 0.8927\n",
      "Epoch 11/40\n",
      "53/53 [==============================] - 0s 2ms/step - loss: 0.2507 - accuracy: 0.8931\n",
      "Epoch 12/40\n",
      "53/53 [==============================] - 0s 2ms/step - loss: 0.2381 - accuracy: 0.9036\n",
      "Epoch 13/40\n",
      "53/53 [==============================] - 0s 1ms/step - loss: 0.2878 - accuracy: 0.8810\n",
      "Epoch 14/40\n",
      "53/53 [==============================] - 0s 2ms/step - loss: 0.2660 - accuracy: 0.8997\n",
      "Epoch 15/40\n",
      "53/53 [==============================] - 0s 2ms/step - loss: 0.2400 - accuracy: 0.9062\n",
      "Epoch 16/40\n",
      "53/53 [==============================] - 0s 2ms/step - loss: 0.2484 - accuracy: 0.9134\n",
      "Epoch 17/40\n",
      "53/53 [==============================] - 0s 2ms/step - loss: 0.2375 - accuracy: 0.9112\n",
      "Epoch 18/40\n",
      "53/53 [==============================] - 0s 2ms/step - loss: 0.2181 - accuracy: 0.9248\n",
      "Epoch 19/40\n",
      "53/53 [==============================] - 0s 2ms/step - loss: 0.2346 - accuracy: 0.9226\n",
      "Epoch 20/40\n",
      "53/53 [==============================] - 0s 2ms/step - loss: 0.2165 - accuracy: 0.9225\n",
      "Epoch 21/40\n",
      "53/53 [==============================] - 0s 1ms/step - loss: 0.2323 - accuracy: 0.9107\n",
      "Epoch 22/40\n",
      "53/53 [==============================] - 0s 2ms/step - loss: 0.2130 - accuracy: 0.9305\n",
      "Epoch 23/40\n",
      "53/53 [==============================] - 0s 2ms/step - loss: 0.2055 - accuracy: 0.9323\n",
      "Epoch 24/40\n",
      "53/53 [==============================] - 0s 2ms/step - loss: 0.2217 - accuracy: 0.9153\n",
      "Epoch 25/40\n",
      "53/53 [==============================] - 0s 1ms/step - loss: 0.1951 - accuracy: 0.9389\n",
      "Epoch 26/40\n",
      "53/53 [==============================] - 0s 2ms/step - loss: 0.2214 - accuracy: 0.9116\n",
      "Epoch 27/40\n",
      "53/53 [==============================] - 0s 2ms/step - loss: 0.2039 - accuracy: 0.9251\n",
      "Epoch 28/40\n",
      "53/53 [==============================] - 0s 2ms/step - loss: 0.1868 - accuracy: 0.9403\n",
      "Epoch 29/40\n",
      "53/53 [==============================] - 0s 2ms/step - loss: 0.2033 - accuracy: 0.9336\n",
      "Epoch 30/40\n",
      "53/53 [==============================] - 0s 2ms/step - loss: 0.1782 - accuracy: 0.9457\n",
      "Epoch 31/40\n",
      "53/53 [==============================] - 0s 2ms/step - loss: 0.1913 - accuracy: 0.9316\n",
      "Epoch 32/40\n",
      "53/53 [==============================] - 0s 2ms/step - loss: 0.1980 - accuracy: 0.9320\n",
      "Epoch 33/40\n",
      "53/53 [==============================] - 0s 2ms/step - loss: 0.2047 - accuracy: 0.9265\n",
      "Epoch 34/40\n",
      "53/53 [==============================] - 0s 2ms/step - loss: 0.1871 - accuracy: 0.9408\n",
      "Epoch 35/40\n",
      "53/53 [==============================] - 0s 2ms/step - loss: 0.1729 - accuracy: 0.9438\n",
      "Epoch 36/40\n",
      "53/53 [==============================] - 0s 2ms/step - loss: 0.1792 - accuracy: 0.9328\n",
      "Epoch 37/40\n",
      "53/53 [==============================] - 0s 2ms/step - loss: 0.1808 - accuracy: 0.9340\n",
      "Epoch 38/40\n",
      "53/53 [==============================] - 0s 2ms/step - loss: 0.1694 - accuracy: 0.9403\n",
      "Epoch 39/40\n",
      "53/53 [==============================] - 0s 2ms/step - loss: 0.1717 - accuracy: 0.9423\n",
      "Epoch 40/40\n",
      "53/53 [==============================] - 0s 2ms/step - loss: 0.1675 - accuracy: 0.9421\n"
     ]
    },
    {
     "data": {
      "text/plain": [
       "<tensorflow.python.keras.callbacks.History at 0x2ec83128f40>"
      ]
     },
     "execution_count": 23,
     "metadata": {},
     "output_type": "execute_result"
    }
   ],
   "source": [
    "model.fit(x_train, y_train, epochs = 40, verbose = 1)"
   ]
  },
  {
   "cell_type": "code",
   "execution_count": 24,
   "metadata": {},
   "outputs": [
    {
     "name": "stdout",
     "output_type": "stream",
     "text": [
      "53/53 [==============================] - 0s 1ms/step - loss: 0.1579 - accuracy: 0.9533\n",
      "Training Accuracy: 0.9533\n",
      "27/27 [==============================] - 0s 1ms/step - loss: 0.3321 - accuracy: 0.9016\n",
      "Testing Accuracy:  0.9016\n",
      "\n",
      "Final Loss =  0.3321060240268707\n"
     ]
    }
   ],
   "source": [
    "#Printing the loss and accuracy of training and testing sets\n",
    "loss, accuracy = model.evaluate(x_train, y_train, verbose=1)\n",
    "print(\"Training Accuracy: {:.4f}\".format(accuracy))\n",
    "loss, accuracy = model.evaluate(x_test, y_test, verbose=1)\n",
    "print(\"Testing Accuracy:  {:.4f}\".format(accuracy))\n",
    "print(\"\\nFinal Loss = \",loss)"
   ]
  },
  {
   "cell_type": "markdown",
   "metadata": {},
   "source": [
    "#### 10 fold Cross Validation for relu architecture "
   ]
  },
  {
   "cell_type": "code",
   "execution_count": 25,
   "metadata": {},
   "outputs": [],
   "source": [
    "from sklearn.model_selection import StratifiedKFold"
   ]
  },
  {
   "cell_type": "code",
   "execution_count": 26,
   "metadata": {},
   "outputs": [
    {
     "name": "stdout",
     "output_type": "stream",
     "text": [
      "accuracy: 89.92%\n",
      "accuracy: 89.56%\n",
      "accuracy: 88.24%\n",
      "accuracy: 90.64%\n",
      "accuracy: 89.20%\n",
      "accuracy: 90.52%\n",
      "accuracy: 90.52%\n",
      "accuracy: 90.16%\n",
      "accuracy: 89.20%\n",
      "accuracy: 90.40%\n"
     ]
    }
   ],
   "source": [
    "kfold = StratifiedKFold(n_splits=10, shuffle=True, random_state=123)\n",
    "cvscores = []\n",
    "for train, test in kfold.split(X, y):\n",
    "    model = Sequential()\n",
    "    model.add(Dense(32, input_dim = (x_train.shape[1]), activation='relu'))\n",
    "    model.add(Dense(512, activation='relu'))\n",
    "    model.add(Dense(64, activation='relu'))\n",
    "    model.add(Dense(fields, activation='softmax'))\n",
    "    model.compile(optimizer = \"adam\", loss = \"mean_squared_error\", metrics = \"accuracy\")\n",
    "    model.fit(x_train, y_train, epochs = 32,verbose = 0)\n",
    "    scores = model.evaluate(x_test, y_test, verbose = 0)\n",
    "    print(\"%s: %.2f%%\" % (model.metrics_names[1], scores[1]*100))\n",
    "    cvscores.append(scores[1] * 100)"
   ]
  },
  {
   "cell_type": "code",
   "execution_count": 27,
   "metadata": {},
   "outputs": [
    {
     "name": "stdout",
     "output_type": "stream",
     "text": [
      "89.83% (+/- 0.74%)\n"
     ]
    }
   ],
   "source": [
    "print(\"%.2f%% (+/- %.2f%%)\" % (np.mean(cvscores), np.std(cvscores)))"
   ]
  },
  {
   "cell_type": "code",
   "execution_count": 28,
   "metadata": {},
   "outputs": [],
   "source": [
    "y_pred = model.predict(x_test)\n",
    "Y_pred_classes = np.argmax(y_pred,axis=1)\n",
    "y_act = np.argmax(y_test,axis=1)"
   ]
  },
  {
   "cell_type": "code",
   "execution_count": 29,
   "metadata": {},
   "outputs": [],
   "source": [
    "conf_matrix = np.zeros((fields,fields))\n",
    "for i in range(len(y_act)):\n",
    "    conf_matrix[Y_pred_classes[i]][y_act[i]] += 1"
   ]
  },
  {
   "cell_type": "code",
   "execution_count": 30,
   "metadata": {},
   "outputs": [
    {
     "data": {
      "text/plain": [
       "array([[220.,  23.,   0.],\n",
       "       [ 57., 522.,   0.],\n",
       "       [  0.,   0.,  11.]])"
      ]
     },
     "execution_count": 30,
     "metadata": {},
     "output_type": "execute_result"
    }
   ],
   "source": [
    "conf_matrix"
   ]
  },
  {
   "cell_type": "code",
   "execution_count": 31,
   "metadata": {},
   "outputs": [
    {
     "name": "stdout",
     "output_type": "stream",
     "text": [
      "Precision:  0.935634732794587\n",
      "Recall:  0.9173406639508054\n",
      "F1-score:  0.9249931563098822\n"
     ]
    }
   ],
   "source": [
    "precision = precision_score(Y_test, Y_pred_classes, average='macro')\n",
    "recall = recall_score(Y_test, Y_pred_classes, average='macro')\n",
    "f1score = f1_score(Y_test, Y_pred_classes, average='macro')\n",
    "print(\"Precision: \", precision)\n",
    "print(\"Recall: \", recall)\n",
    "print(\"F1-score: \", f1score)"
   ]
  },
  {
   "cell_type": "code",
   "execution_count": 32,
   "metadata": {},
   "outputs": [
    {
     "data": {
      "text/plain": [
       "0.913880645183733"
      ]
     },
     "execution_count": 32,
     "metadata": {},
     "output_type": "execute_result"
    }
   ],
   "source": [
    "#roc auc score\n",
    "from sklearn.metrics import roc_auc_score,roc_curve\n",
    "from sklearn.metrics import roc_curve, auc\n",
    "roc_auc_score(y_test, y_pred, multi_class='ovo', average='weighted')"
   ]
  },
  {
   "cell_type": "code",
   "execution_count": 33,
   "metadata": {},
   "outputs": [
    {
     "data": {
      "image/png": "[encoded data removed]",
      "text/plain": [
       "<Figure size 432x288 with 1 Axes>"
      ]
     },
     "metadata": {
      "needs_background": "light"
     },
     "output_type": "display_data"
    }
   ],
   "source": [
    "from sklearn.metrics import roc_curve, auc\n",
    "# roc curve for classes\n",
    "fpr = {}\n",
    "tpr = {}\n",
    "roc_auc ={}\n",
    "\n",
    "for i in range(fields):\n",
    "    fpr[i], tpr[i], _ = roc_curve(y_test[:, i], y_pred[:, i])\n",
    "    roc_auc[i] = auc(fpr[i], tpr[i])\n",
    "\n",
    "# Compute micro-average ROC curve and ROC area\n",
    "fpr[\"micro\"], tpr[\"micro\"], _ = roc_curve(y_test.ravel(), y_pred.ravel())\n",
    "roc_auc[\"micro\"] = auc(fpr[\"micro\"], tpr[\"micro\"])\n",
    "\n",
    "# plotting    \n",
    "plt.plot(fpr[0], tpr[0], linestyle='--',color='orange', label='MERS vs Rest')\n",
    "plt.plot(fpr[1], tpr[1], linestyle='--',color='green', label='SARS vs Rest')\n",
    "plt.plot(fpr[2], tpr[2], linestyle='--',color='blue', label='SARS-COV 2 vs Rest')\n",
    "plt.title('MLP_kmer relu ROC curve')\n",
    "plt.xlabel('False Positive Rate')\n",
    "plt.ylabel('True Positive rate')\n",
    "plt.legend(loc='best')\n",
    "plt.show()"
   ]
  },
  {
   "cell_type": "markdown",
   "metadata": {},
   "source": [
    "### Sigmoid Activation"
   ]
  },
  {
   "cell_type": "code",
   "execution_count": 34,
   "metadata": {},
   "outputs": [],
   "source": [
    "model = Sequential()\n",
    "\n",
    "model.add(Dense(32, input_dim = (x_train.shape[1]), activation='sigmoid'))\n",
    "model.add(Dense(512, activation='sigmoid'))\n",
    "model.add(Dense(64, activation='sigmoid'))\n",
    "model.add(Dense(fields, activation='softmax'))"
   ]
  },
  {
   "cell_type": "code",
   "execution_count": 35,
   "metadata": {
    "scrolled": true
   },
   "outputs": [
    {
     "name": "stdout",
     "output_type": "stream",
     "text": [
      "Epoch 1/40\n",
      "53/53 [==============================] - 1s 2ms/step - loss: 0.7612 - accuracy: 0.6312\n",
      "Epoch 2/40\n",
      "53/53 [==============================] - 0s 2ms/step - loss: 0.6798 - accuracy: 0.6808\n",
      "Epoch 3/40\n",
      "53/53 [==============================] - 0s 2ms/step - loss: 0.6913 - accuracy: 0.6612\n",
      "Epoch 4/40\n",
      "53/53 [==============================] - 0s 2ms/step - loss: 0.6818 - accuracy: 0.6741\n",
      "Epoch 5/40\n",
      "53/53 [==============================] - 0s 2ms/step - loss: 0.6815 - accuracy: 0.6892\n",
      "Epoch 6/40\n",
      "53/53 [==============================] - 0s 2ms/step - loss: 0.6772 - accuracy: 0.6788\n",
      "Epoch 7/40\n",
      "53/53 [==============================] - 0s 2ms/step - loss: 0.6794 - accuracy: 0.6696\n",
      "Epoch 8/40\n",
      "53/53 [==============================] - 0s 2ms/step - loss: 0.6745 - accuracy: 0.6757\n",
      "Epoch 9/40\n",
      "53/53 [==============================] - 0s 2ms/step - loss: 0.6618 - accuracy: 0.6817\n",
      "Epoch 10/40\n",
      "53/53 [==============================] - 0s 2ms/step - loss: 0.6671 - accuracy: 0.6866\n",
      "Epoch 11/40\n",
      "53/53 [==============================] - 0s 2ms/step - loss: 0.6516 - accuracy: 0.6758\n",
      "Epoch 12/40\n",
      "53/53 [==============================] - 0s 2ms/step - loss: 0.6294 - accuracy: 0.6794\n",
      "Epoch 13/40\n",
      "53/53 [==============================] - 0s 2ms/step - loss: 0.6123 - accuracy: 0.7032\n",
      "Epoch 14/40\n",
      "53/53 [==============================] - 0s 2ms/step - loss: 0.6005 - accuracy: 0.7067\n",
      "Epoch 15/40\n",
      "53/53 [==============================] - 0s 2ms/step - loss: 0.5705 - accuracy: 0.7539\n",
      "Epoch 16/40\n",
      "53/53 [==============================] - 0s 2ms/step - loss: 0.5445 - accuracy: 0.7735\n",
      "Epoch 17/40\n",
      "53/53 [==============================] - 0s 2ms/step - loss: 0.5331 - accuracy: 0.7646\n",
      "Epoch 18/40\n",
      "53/53 [==============================] - 0s 2ms/step - loss: 0.5360 - accuracy: 0.7913\n",
      "Epoch 19/40\n",
      "53/53 [==============================] - 0s 2ms/step - loss: 0.5248 - accuracy: 0.7743\n",
      "Epoch 20/40\n",
      "53/53 [==============================] - 0s 2ms/step - loss: 0.5133 - accuracy: 0.8017\n",
      "Epoch 21/40\n",
      "53/53 [==============================] - 0s 2ms/step - loss: 0.4848 - accuracy: 0.7979\n",
      "Epoch 22/40\n",
      "53/53 [==============================] - 0s 2ms/step - loss: 0.4732 - accuracy: 0.8124\n",
      "Epoch 23/40\n",
      "53/53 [==============================] - 0s 2ms/step - loss: 0.4535 - accuracy: 0.8280\n",
      "Epoch 24/40\n",
      "53/53 [==============================] - 0s 2ms/step - loss: 0.4360 - accuracy: 0.8183\n",
      "Epoch 25/40\n",
      "53/53 [==============================] - 0s 2ms/step - loss: 0.4536 - accuracy: 0.8134\n",
      "Epoch 26/40\n",
      "53/53 [==============================] - 0s 2ms/step - loss: 0.4198 - accuracy: 0.8379\n",
      "Epoch 27/40\n",
      "53/53 [==============================] - 0s 2ms/step - loss: 0.4392 - accuracy: 0.8191\n",
      "Epoch 28/40\n",
      "53/53 [==============================] - 0s 2ms/step - loss: 0.4335 - accuracy: 0.8145\n",
      "Epoch 29/40\n",
      "53/53 [==============================] - 0s 2ms/step - loss: 0.4050 - accuracy: 0.8329\n",
      "Epoch 30/40\n",
      "53/53 [==============================] - 0s 2ms/step - loss: 0.4049 - accuracy: 0.8381\n",
      "Epoch 31/40\n",
      "53/53 [==============================] - 0s 2ms/step - loss: 0.3850 - accuracy: 0.8427\n",
      "Epoch 32/40\n",
      "53/53 [==============================] - 0s 2ms/step - loss: 0.3743 - accuracy: 0.8614\n",
      "Epoch 33/40\n",
      "53/53 [==============================] - 0s 2ms/step - loss: 0.3687 - accuracy: 0.8458\n",
      "Epoch 34/40\n",
      "53/53 [==============================] - 0s 2ms/step - loss: 0.3578 - accuracy: 0.8545\n",
      "Epoch 35/40\n",
      "53/53 [==============================] - 0s 2ms/step - loss: 0.3523 - accuracy: 0.8569\n",
      "Epoch 36/40\n",
      "53/53 [==============================] - 0s 2ms/step - loss: 0.3708 - accuracy: 0.8394\n",
      "Epoch 37/40\n",
      "53/53 [==============================] - 0s 2ms/step - loss: 0.3592 - accuracy: 0.8537\n",
      "Epoch 38/40\n",
      "53/53 [==============================] - 0s 2ms/step - loss: 0.3460 - accuracy: 0.8639\n",
      "Epoch 39/40\n",
      "53/53 [==============================] - 0s 2ms/step - loss: 0.3197 - accuracy: 0.8724\n",
      "Epoch 40/40\n",
      "53/53 [==============================] - 0s 2ms/step - loss: 0.3350 - accuracy: 0.8632\n"
     ]
    },
    {
     "data": {
      "text/plain": [
       "<tensorflow.python.keras.callbacks.History at 0x2ec882d88e0>"
      ]
     },
     "execution_count": 35,
     "metadata": {},
     "output_type": "execute_result"
    }
   ],
   "source": [
    "model.compile(optimizer=\"ADAM\", loss=\"categorical_crossentropy\" ,metrics = ['accuracy'])\n",
    "model.fit(x_train, y_train, epochs = 40, verbose = 1)"
   ]
  },
  {
   "cell_type": "code",
   "execution_count": 36,
   "metadata": {},
   "outputs": [
    {
     "name": "stdout",
     "output_type": "stream",
     "text": [
      "53/53 [==============================] - 0s 1ms/step - loss: 0.3217 - accuracy: 0.8770\n",
      "Training Accuracy: 0.8770\n",
      "27/27 [==============================] - 0s 1ms/step - loss: 0.3829 - accuracy: 0.8487\n",
      "Testing Accuracy:  0.8487\n",
      "\n",
      "Final Loss =  0.38286086916923523\n"
     ]
    }
   ],
   "source": [
    "#Printing the loss and accuracy of training and testing sets\n",
    "loss, accuracy = model.evaluate(x_train, y_train, verbose=1)\n",
    "print(\"Training Accuracy: {:.4f}\".format(accuracy))\n",
    "loss, accuracy = model.evaluate(x_test, y_test, verbose=1)\n",
    "print(\"Testing Accuracy:  {:.4f}\".format(accuracy))\n",
    "print(\"\\nFinal Loss = \",loss)"
   ]
  },
  {
   "cell_type": "code",
   "execution_count": 37,
   "metadata": {},
   "outputs": [],
   "source": [
    "y_pred = model.predict(x_test)\n",
    "Y_pred_classes = np.argmax(y_pred,axis=1)\n",
    "y_act = np.argmax(y_test,axis=1)"
   ]
  },
  {
   "cell_type": "code",
   "execution_count": 38,
   "metadata": {},
   "outputs": [
    {
     "data": {
      "text/plain": [
       "array([[188.,  37.,   0.],\n",
       "       [ 88., 508.,   0.],\n",
       "       [  1.,   0.,  11.]])"
      ]
     },
     "execution_count": 38,
     "metadata": {},
     "output_type": "execute_result"
    }
   ],
   "source": [
    "conf_matrix = np.zeros((fields,fields))\n",
    "for i in range(len(y_act)):\n",
    "    conf_matrix[Y_pred_classes[i]][y_act[i]] += 1\n",
    "conf_matrix"
   ]
  },
  {
   "cell_type": "code",
   "execution_count": 39,
   "metadata": {
    "scrolled": true
   },
   "outputs": [
    {
     "name": "stdout",
     "output_type": "stream",
     "text": [
      "Precision:  0.8681904051702709\n",
      "Recall:  0.8702701509179832\n",
      "F1-score:  0.8653242331769088\n"
     ]
    }
   ],
   "source": [
    "precision = precision_score(Y_test, Y_pred_classes, average='macro')\n",
    "recall = recall_score(Y_test, Y_pred_classes, average='macro')\n",
    "f1score = f1_score(Y_test, Y_pred_classes, average='macro')\n",
    "print(\"Precision: \", precision)\n",
    "print(\"Recall: \", recall)\n",
    "print(\"F1-score: \", f1score)"
   ]
  },
  {
   "cell_type": "code",
   "execution_count": 40,
   "metadata": {},
   "outputs": [
    {
     "data": {
      "image/png": "[encoded data removed]",
      "text/plain": [
       "<Figure size 432x288 with 1 Axes>"
      ]
     },
     "metadata": {
      "needs_background": "light"
     },
     "output_type": "display_data"
    }
   ],
   "source": [
    "roc_auc_score(y_test, y_pred, multi_class='ovo', average='weighted')\n",
    "\n",
    "# roc curve for classes\n",
    "fpr = {}\n",
    "tpr = {}\n",
    "roc_auc ={}\n",
    "\n",
    "for i in range(fields):\n",
    "    fpr[i], tpr[i], _ = roc_curve(y_test[:, i], y_pred[:, i])\n",
    "    roc_auc[i] = auc(fpr[i], tpr[i])\n",
    "\n",
    "# Compute micro-average ROC curve and ROC area\n",
    "fpr[\"micro\"], tpr[\"micro\"], _ = roc_curve(y_test.ravel(), y_pred.ravel())\n",
    "roc_auc[\"micro\"] = auc(fpr[\"micro\"], tpr[\"micro\"])\n",
    "\n",
    "# plotting    \n",
    "plt.plot(fpr[0], tpr[0], linestyle='--',color='orange', label='MERS vs Rest')\n",
    "plt.plot(fpr[1], tpr[1], linestyle='--',color='green', label='SARS vs Rest')\n",
    "plt.plot(fpr[2], tpr[2], linestyle='--',color='blue', label='SARS-COV 2 vs Rest')\n",
    "plt.title('MLP_kmer sigmoid ROC curve')\n",
    "plt.xlabel('False Positive Rate')\n",
    "plt.ylabel('True Positive rate')\n",
    "plt.legend(loc='best')\n",
    "plt.show()"
   ]
  },
  {
   "cell_type": "markdown",
   "metadata": {},
   "source": [
    "### tanh Activation"
   ]
  },
  {
   "cell_type": "code",
   "execution_count": 41,
   "metadata": {},
   "outputs": [],
   "source": [
    "model = Sequential()\n",
    "\n",
    "model.add(Dense(32, input_dim = (x_train.shape[1]), activation='sigmoid'))\n",
    "model.add(Dense(512, activation='sigmoid'))\n",
    "model.add(Dense(64, activation='sigmoid'))\n",
    "model.add(Dense(fields, activation='softmax'))"
   ]
  },
  {
   "cell_type": "code",
   "execution_count": 42,
   "metadata": {
    "scrolled": true
   },
   "outputs": [
    {
     "name": "stdout",
     "output_type": "stream",
     "text": [
      "Epoch 1/40\n",
      "53/53 [==============================] - 1s 2ms/step - loss: 0.7336 - accuracy: 0.6864\n",
      "Epoch 2/40\n",
      "53/53 [==============================] - 0s 2ms/step - loss: 0.6728 - accuracy: 0.7017\n",
      "Epoch 3/40\n",
      "53/53 [==============================] - 0s 2ms/step - loss: 0.6680 - accuracy: 0.6834\n",
      "Epoch 4/40\n",
      "53/53 [==============================] - 0s 2ms/step - loss: 0.6795 - accuracy: 0.6614\n",
      "Epoch 5/40\n",
      "53/53 [==============================] - 0s 2ms/step - loss: 0.6700 - accuracy: 0.6837: 0s - loss: 0.6642 - accuracy: 0.68\n",
      "Epoch 6/40\n",
      "53/53 [==============================] - 0s 2ms/step - loss: 0.7053 - accuracy: 0.6543\n",
      "Epoch 7/40\n",
      "53/53 [==============================] - 0s 2ms/step - loss: 0.6711 - accuracy: 0.6636\n",
      "Epoch 8/40\n",
      "53/53 [==============================] - 0s 2ms/step - loss: 0.6558 - accuracy: 0.6872\n",
      "Epoch 9/40\n",
      "53/53 [==============================] - 0s 2ms/step - loss: 0.6686 - accuracy: 0.6741\n",
      "Epoch 10/40\n",
      "53/53 [==============================] - 0s 2ms/step - loss: 0.6643 - accuracy: 0.6872\n",
      "Epoch 11/40\n",
      "53/53 [==============================] - 0s 1ms/step - loss: 0.6669 - accuracy: 0.6905\n",
      "Epoch 12/40\n",
      "53/53 [==============================] - 0s 2ms/step - loss: 0.6681 - accuracy: 0.6847\n",
      "Epoch 13/40\n",
      "53/53 [==============================] - 0s 2ms/step - loss: 0.6420 - accuracy: 0.6962\n",
      "Epoch 14/40\n",
      "53/53 [==============================] - 0s 2ms/step - loss: 0.6447 - accuracy: 0.7053\n",
      "Epoch 15/40\n",
      "53/53 [==============================] - 0s 2ms/step - loss: 0.5865 - accuracy: 0.6928\n",
      "Epoch 16/40\n",
      "53/53 [==============================] - 0s 2ms/step - loss: 0.5723 - accuracy: 0.7459\n",
      "Epoch 17/40\n",
      "53/53 [==============================] - 0s 2ms/step - loss: 0.5925 - accuracy: 0.7051\n",
      "Epoch 18/40\n",
      "53/53 [==============================] - 0s 2ms/step - loss: 0.5451 - accuracy: 0.7725\n",
      "Epoch 19/40\n",
      "53/53 [==============================] - 0s 2ms/step - loss: 0.4929 - accuracy: 0.8008\n",
      "Epoch 20/40\n",
      "53/53 [==============================] - 0s 2ms/step - loss: 0.5251 - accuracy: 0.8071\n",
      "Epoch 21/40\n",
      "53/53 [==============================] - 0s 2ms/step - loss: 0.5007 - accuracy: 0.8052\n",
      "Epoch 22/40\n",
      "53/53 [==============================] - 0s 2ms/step - loss: 0.5133 - accuracy: 0.8097\n",
      "Epoch 23/40\n",
      "53/53 [==============================] - 0s 2ms/step - loss: 0.4902 - accuracy: 0.8108\n",
      "Epoch 24/40\n",
      "53/53 [==============================] - 0s 2ms/step - loss: 0.4671 - accuracy: 0.7977\n",
      "Epoch 25/40\n",
      "53/53 [==============================] - 0s 2ms/step - loss: 0.4525 - accuracy: 0.8233\n",
      "Epoch 26/40\n",
      "53/53 [==============================] - 0s 2ms/step - loss: 0.4424 - accuracy: 0.8270\n",
      "Epoch 27/40\n",
      "53/53 [==============================] - 0s 2ms/step - loss: 0.4630 - accuracy: 0.8104\n",
      "Epoch 28/40\n",
      "53/53 [==============================] - 0s 2ms/step - loss: 0.4189 - accuracy: 0.8362\n",
      "Epoch 29/40\n",
      "53/53 [==============================] - 0s 2ms/step - loss: 0.4106 - accuracy: 0.8241\n",
      "Epoch 30/40\n",
      "53/53 [==============================] - 0s 2ms/step - loss: 0.3945 - accuracy: 0.8414\n",
      "Epoch 31/40\n",
      "53/53 [==============================] - 0s 2ms/step - loss: 0.3617 - accuracy: 0.8482\n",
      "Epoch 32/40\n",
      "53/53 [==============================] - 0s 2ms/step - loss: 0.3972 - accuracy: 0.8200\n",
      "Epoch 33/40\n",
      "53/53 [==============================] - 0s 2ms/step - loss: 0.3765 - accuracy: 0.8566\n",
      "Epoch 34/40\n",
      "53/53 [==============================] - 0s 2ms/step - loss: 0.3859 - accuracy: 0.8314\n",
      "Epoch 35/40\n",
      "53/53 [==============================] - 0s 2ms/step - loss: 0.3613 - accuracy: 0.8666\n",
      "Epoch 36/40\n",
      "53/53 [==============================] - 0s 2ms/step - loss: 0.3829 - accuracy: 0.8463\n",
      "Epoch 37/40\n",
      "53/53 [==============================] - 0s 2ms/step - loss: 0.3445 - accuracy: 0.8628\n",
      "Epoch 38/40\n",
      "53/53 [==============================] - 0s 2ms/step - loss: 0.3391 - accuracy: 0.8687\n",
      "Epoch 39/40\n",
      "53/53 [==============================] - 0s 2ms/step - loss: 0.3395 - accuracy: 0.8664\n",
      "Epoch 40/40\n",
      "53/53 [==============================] - 0s 2ms/step - loss: 0.3469 - accuracy: 0.8609\n"
     ]
    },
    {
     "data": {
      "text/plain": [
       "<tensorflow.python.keras.callbacks.History at 0x2ec85140a30>"
      ]
     },
     "execution_count": 42,
     "metadata": {},
     "output_type": "execute_result"
    }
   ],
   "source": [
    "model.compile(optimizer=\"adam\", loss=\"categorical_crossentropy\" ,metrics = ['accuracy'])\n",
    "model.fit(x_train, y_train, epochs = 40, verbose = 1)"
   ]
  },
  {
   "cell_type": "code",
   "execution_count": 43,
   "metadata": {},
   "outputs": [
    {
     "name": "stdout",
     "output_type": "stream",
     "text": [
      "53/53 [==============================] - 0s 1ms/step - loss: 0.3465 - accuracy: 0.8486\n",
      "Training Accuracy: 0.8486\n",
      "27/27 [==============================] - 0s 1ms/step - loss: 0.4089 - accuracy: 0.8211\n",
      "Testing Accuracy:  0.8211\n",
      "\n",
      "Final Loss =  0.4089203476905823\n"
     ]
    }
   ],
   "source": [
    "#Printing the loss and accuracy of training and testing sets\n",
    "loss, accuracy = model.evaluate(x_train, y_train, verbose=1)\n",
    "print(\"Training Accuracy: {:.4f}\".format(accuracy))\n",
    "loss, accuracy = model.evaluate(x_test, y_test, verbose=1)\n",
    "print(\"Testing Accuracy:  {:.4f}\".format(accuracy))\n",
    "print(\"\\nFinal Loss = \",loss)"
   ]
  },
  {
   "cell_type": "code",
   "execution_count": 44,
   "metadata": {},
   "outputs": [],
   "source": [
    "y_pred = model.predict(x_test)\n",
    "Y_pred_classes = np.argmax(y_pred,axis=1)\n",
    "y_act = np.argmax(y_test,axis=1)"
   ]
  },
  {
   "cell_type": "code",
   "execution_count": 45,
   "metadata": {},
   "outputs": [
    {
     "data": {
      "text/plain": [
       "array([[206.,  78.,   0.],\n",
       "       [ 70., 467.,   0.],\n",
       "       [  1.,   0.,  11.]])"
      ]
     },
     "execution_count": 45,
     "metadata": {},
     "output_type": "execute_result"
    }
   ],
   "source": [
    "conf_matrix = np.zeros((fields,fields))\n",
    "for i in range(len(y_act)):\n",
    "    conf_matrix[Y_pred_classes[i]][y_act[i]] += 1\n",
    "conf_matrix"
   ]
  },
  {
   "cell_type": "code",
   "execution_count": 46,
   "metadata": {},
   "outputs": [
    {
     "name": "stdout",
     "output_type": "stream",
     "text": [
      "Precision:  0.8372216539460225\n",
      "Recall:  0.8668543481380894\n",
      "F1-score:  0.8513802857846994\n"
     ]
    }
   ],
   "source": [
    "precision = precision_score(Y_test, Y_pred_classes, average='macro')\n",
    "recall = recall_score(Y_test, Y_pred_classes, average='macro')\n",
    "f1score = f1_score(Y_test, Y_pred_classes, average='macro')\n",
    "print(\"Precision: \", precision)\n",
    "print(\"Recall: \", recall)\n",
    "print(\"F1-score: \", f1score)"
   ]
  },
  {
   "cell_type": "code",
   "execution_count": 47,
   "metadata": {},
   "outputs": [
    {
     "data": {
      "image/png": "[encoded data removed]",
      "text/plain": [
       "<Figure size 432x288 with 1 Axes>"
      ]
     },
     "metadata": {
      "needs_background": "light"
     },
     "output_type": "display_data"
    }
   ],
   "source": [
    "roc_auc_score(y_test, y_pred, multi_class='ovo', average='weighted')\n",
    "\n",
    "# roc curve for classes\n",
    "fpr = {}\n",
    "tpr = {}\n",
    "roc_auc ={}\n",
    "\n",
    "for i in range(fields):\n",
    "    fpr[i], tpr[i], _ = roc_curve(y_test[:, i], y_pred[:, i])\n",
    "    roc_auc[i] = auc(fpr[i], tpr[i])\n",
    "\n",
    "# Compute micro-average ROC curve and ROC area\n",
    "fpr[\"micro\"], tpr[\"micro\"], _ = roc_curve(y_test.ravel(), y_pred.ravel())\n",
    "roc_auc[\"micro\"] = auc(fpr[\"micro\"], tpr[\"micro\"])\n",
    "\n",
    "# plotting    \n",
    "plt.plot(fpr[0], tpr[0], linestyle='--',color='orange', label='MERS vs Rest')\n",
    "plt.plot(fpr[1], tpr[1], linestyle='--',color='green', label='SARS vs Rest')\n",
    "plt.plot(fpr[2], tpr[2], linestyle='--',color='blue', label='SARS-COV 2 vs Rest')\n",
    "plt.title('MLP_kmer tanh ROC curve')\n",
    "plt.xlabel('False Positive Rate')\n",
    "plt.ylabel('True Positive rate')\n",
    "plt.legend(loc='best')\n",
    "plt.show()"
   ]
  },
  {
   "cell_type": "markdown",
   "metadata": {},
   "source": [
    "### elu activation"
   ]
  },
  {
   "cell_type": "code",
   "execution_count": 48,
   "metadata": {},
   "outputs": [],
   "source": [
    "model = Sequential()\n",
    "\n",
    "model.add(Dense(32, input_dim = (x_train.shape[1]), activation='elu'))\n",
    "model.add(Dense(512, activation='elu'))\n",
    "model.add(Dense(64, activation='elu'))\n",
    "model.add(Dense(fields, activation='softmax'))"
   ]
  },
  {
   "cell_type": "code",
   "execution_count": 49,
   "metadata": {
    "scrolled": true
   },
   "outputs": [
    {
     "name": "stdout",
     "output_type": "stream",
     "text": [
      "Epoch 1/20\n",
      "53/53 [==============================] - 1s 2ms/step - loss: 0.2186 - accuracy: 0.6439\n",
      "Epoch 2/20\n",
      "53/53 [==============================] - 0s 2ms/step - loss: 0.2083 - accuracy: 0.6542\n",
      "Epoch 3/20\n",
      "53/53 [==============================] - 0s 2ms/step - loss: 0.2000 - accuracy: 0.6652\n",
      "Epoch 4/20\n",
      "53/53 [==============================] - 0s 2ms/step - loss: 0.1937 - accuracy: 0.6581\n",
      "Epoch 5/20\n",
      "53/53 [==============================] - 0s 2ms/step - loss: 0.1879 - accuracy: 0.6664\n",
      "Epoch 6/20\n",
      "53/53 [==============================] - 0s 2ms/step - loss: 0.1815 - accuracy: 0.6809\n",
      "Epoch 7/20\n",
      "53/53 [==============================] - 0s 2ms/step - loss: 0.1794 - accuracy: 0.6648\n",
      "Epoch 8/20\n",
      "53/53 [==============================] - 0s 2ms/step - loss: 0.1728 - accuracy: 0.6912\n",
      "Epoch 9/20\n",
      "53/53 [==============================] - 0s 2ms/step - loss: 0.1707 - accuracy: 0.6868\n",
      "Epoch 10/20\n",
      "53/53 [==============================] - 0s 2ms/step - loss: 0.1681 - accuracy: 0.6858\n",
      "Epoch 11/20\n",
      "53/53 [==============================] - 0s 2ms/step - loss: 0.1677 - accuracy: 0.6742\n",
      "Epoch 12/20\n",
      "53/53 [==============================] - 0s 2ms/step - loss: 0.1664 - accuracy: 0.6717\n",
      "Epoch 13/20\n",
      "53/53 [==============================] - 0s 2ms/step - loss: 0.1643 - accuracy: 0.6750\n",
      "Epoch 14/20\n",
      "53/53 [==============================] - 0s 2ms/step - loss: 0.1634 - accuracy: 0.6737\n",
      "Epoch 15/20\n",
      "53/53 [==============================] - 0s 2ms/step - loss: 0.1612 - accuracy: 0.6786\n",
      "Epoch 16/20\n",
      "53/53 [==============================] - 0s 2ms/step - loss: 0.1616 - accuracy: 0.6712\n",
      "Epoch 17/20\n",
      "53/53 [==============================] - 0s 2ms/step - loss: 0.1584 - accuracy: 0.6833\n",
      "Epoch 18/20\n",
      "53/53 [==============================] - 0s 2ms/step - loss: 0.1544 - accuracy: 0.6983\n",
      "Epoch 19/20\n",
      "53/53 [==============================] - 0s 2ms/step - loss: 0.1599 - accuracy: 0.6678\n",
      "Epoch 20/20\n",
      "53/53 [==============================] - 0s 2ms/step - loss: 0.1595 - accuracy: 0.6672\n"
     ]
    },
    {
     "data": {
      "text/plain": [
       "<tensorflow.python.keras.callbacks.History at 0x2ec89604d90>"
      ]
     },
     "execution_count": 49,
     "metadata": {},
     "output_type": "execute_result"
    }
   ],
   "source": [
    "model.compile(optimizer=\"adagrad\", loss=\"mean_squared_error\" ,metrics = ['accuracy'])\n",
    "model.fit(x_train, y_train, epochs = 20, verbose = 1)"
   ]
  },
  {
   "cell_type": "code",
   "execution_count": 50,
   "metadata": {},
   "outputs": [
    {
     "name": "stdout",
     "output_type": "stream",
     "text": [
      "53/53 [==============================] - 0s 1ms/step - loss: 0.1568 - accuracy: 0.6777\n",
      "Training Accuracy: 0.6777\n",
      "27/27 [==============================] - 0s 1ms/step - loss: 0.1623 - accuracy: 0.6543\n",
      "Testing Accuracy:  0.6543\n",
      "\n",
      "Final Loss =  0.16231419146060944\n"
     ]
    }
   ],
   "source": [
    "#Printing the loss and accuracy of training and testing sets\n",
    "loss, accuracy = model.evaluate(x_train, y_train, verbose=1)\n",
    "print(\"Training Accuracy: {:.4f}\".format(accuracy))\n",
    "loss, accuracy = model.evaluate(x_test, y_test, verbose=1)\n",
    "print(\"Testing Accuracy:  {:.4f}\".format(accuracy))\n",
    "print(\"\\nFinal Loss = \",loss)"
   ]
  },
  {
   "cell_type": "code",
   "execution_count": 51,
   "metadata": {},
   "outputs": [],
   "source": [
    "y_pred = model.predict(x_test)\n",
    "Y_pred_classes = np.argmax(y_pred,axis=1)\n",
    "y_act = np.argmax(y_test,axis=1)"
   ]
  },
  {
   "cell_type": "code",
   "execution_count": 52,
   "metadata": {},
   "outputs": [
    {
     "data": {
      "text/plain": [
       "array([[  0.,   0.,   0.],\n",
       "       [277., 545.,  11.],\n",
       "       [  0.,   0.,   0.]])"
      ]
     },
     "execution_count": 52,
     "metadata": {},
     "output_type": "execute_result"
    }
   ],
   "source": [
    "conf_matrix = np.zeros((fields,fields))\n",
    "for i in range(len(y_act)):\n",
    "    conf_matrix[Y_pred_classes[i]][y_act[i]] += 1\n",
    "conf_matrix"
   ]
  },
  {
   "cell_type": "code",
   "execution_count": 53,
   "metadata": {},
   "outputs": [
    {
     "name": "stdout",
     "output_type": "stream",
     "text": [
      "Precision:  0.21808723489395757\n",
      "Recall:  0.3333333333333333\n",
      "F1-score:  0.26366715045960326\n"
     ]
    },
    {
     "name": "stderr",
     "output_type": "stream",
     "text": [
      "C:\\Users\\ARRUN\\anaconda3\\lib\\site-packages\\sklearn\\metrics\\_classification.py:1248: UndefinedMetricWarning: Precision is ill-defined and being set to 0.0 in labels with no predicted samples. Use `zero_division` parameter to control this behavior.\n",
      "  _warn_prf(average, modifier, msg_start, len(result))\n"
     ]
    }
   ],
   "source": [
    "precision = precision_score(Y_test, Y_pred_classes, average='macro')\n",
    "recall = recall_score(Y_test, Y_pred_classes, average='macro')\n",
    "f1score = f1_score(Y_test, Y_pred_classes, average='macro')\n",
    "print(\"Precision: \", precision)\n",
    "print(\"Recall: \", recall)\n",
    "print(\"F1-score: \", f1score)"
   ]
  },
  {
   "cell_type": "code",
   "execution_count": 54,
   "metadata": {},
   "outputs": [
    {
     "data": {
      "image/png": "[encoded data removed]",
      "text/plain": [
       "<Figure size 432x288 with 1 Axes>"
      ]
     },
     "metadata": {
      "needs_background": "light"
     },
     "output_type": "display_data"
    }
   ],
   "source": [
    "roc_auc_score(y_test, y_pred, multi_class='ovo', average='weighted')\n",
    "\n",
    "# roc curve for classes\n",
    "fpr = {}\n",
    "tpr = {}\n",
    "roc_auc ={}\n",
    "\n",
    "for i in range(fields):\n",
    "    fpr[i], tpr[i], _ = roc_curve(y_test[:, i], y_pred[:, i])\n",
    "    roc_auc[i] = auc(fpr[i], tpr[i])\n",
    "\n",
    "# Compute micro-average ROC curve and ROC area\n",
    "fpr[\"micro\"], tpr[\"micro\"], _ = roc_curve(y_test.ravel(), y_pred.ravel())\n",
    "roc_auc[\"micro\"] = auc(fpr[\"micro\"], tpr[\"micro\"])\n",
    "\n",
    "# plotting    \n",
    "plt.plot(fpr[0], tpr[0], linestyle='--',color='orange', label='MERS vs Rest')\n",
    "plt.plot(fpr[1], tpr[1], linestyle='--',color='green', label='SARS vs Rest')\n",
    "plt.plot(fpr[2], tpr[2], linestyle='--',color='blue', label='SARS-COV 2 vs Rest')\n",
    "plt.title('MLP_kmer elu ROC curve')\n",
    "plt.xlabel('False Positive Rate')\n",
    "plt.ylabel('True Positive rate')\n",
    "plt.legend(loc='best')\n",
    "plt.show()"
   ]
  },
  {
   "cell_type": "markdown",
   "metadata": {},
   "source": [
    "### selu Activation"
   ]
  },
  {
   "cell_type": "code",
   "execution_count": 55,
   "metadata": {},
   "outputs": [],
   "source": [
    "model = Sequential()\n",
    "\n",
    "model.add(Dense(32, input_dim = (x_train.shape[1]), activation='selu'))\n",
    "model.add(Dense(512, activation='selu'))\n",
    "model.add(Dense(64, activation='selu'))\n",
    "model.add(Dense(fields, activation='softmax'))"
   ]
  },
  {
   "cell_type": "code",
   "execution_count": 56,
   "metadata": {
    "scrolled": true
   },
   "outputs": [
    {
     "name": "stdout",
     "output_type": "stream",
     "text": [
      "Epoch 1/20\n",
      "53/53 [==============================] - 1s 2ms/step - loss: 0.2120 - accuracy: 0.6573\n",
      "Epoch 2/20\n",
      "53/53 [==============================] - 0s 2ms/step - loss: 0.1864 - accuracy: 0.6813\n",
      "Epoch 3/20\n",
      "53/53 [==============================] - 0s 2ms/step - loss: 0.1741 - accuracy: 0.6720\n",
      "Epoch 4/20\n",
      "53/53 [==============================] - 0s 2ms/step - loss: 0.1629 - accuracy: 0.6961\n",
      "Epoch 5/20\n",
      "53/53 [==============================] - 0s 2ms/step - loss: 0.1600 - accuracy: 0.6871\n",
      "Epoch 6/20\n",
      "53/53 [==============================] - 0s 2ms/step - loss: 0.1612 - accuracy: 0.6689\n",
      "Epoch 7/20\n",
      "53/53 [==============================] - 0s 2ms/step - loss: 0.1551 - accuracy: 0.6887\n",
      "Epoch 8/20\n",
      "53/53 [==============================] - 0s 2ms/step - loss: 0.1575 - accuracy: 0.6729\n",
      "Epoch 9/20\n",
      "53/53 [==============================] - 0s 2ms/step - loss: 0.1563 - accuracy: 0.6744\n",
      "Epoch 10/20\n",
      "53/53 [==============================] - 0s 2ms/step - loss: 0.1535 - accuracy: 0.6815\n",
      "Epoch 11/20\n",
      "53/53 [==============================] - 0s 2ms/step - loss: 0.1545 - accuracy: 0.6741\n",
      "Epoch 12/20\n",
      "53/53 [==============================] - 0s 2ms/step - loss: 0.1542 - accuracy: 0.6742\n",
      "Epoch 13/20\n",
      "53/53 [==============================] - 0s 2ms/step - loss: 0.1509 - accuracy: 0.6847\n",
      "Epoch 14/20\n",
      "53/53 [==============================] - 0s 2ms/step - loss: 0.1545 - accuracy: 0.6691\n",
      "Epoch 15/20\n",
      "53/53 [==============================] - 0s 2ms/step - loss: 0.1538 - accuracy: 0.6708\n",
      "Epoch 16/20\n",
      "53/53 [==============================] - 0s 2ms/step - loss: 0.1484 - accuracy: 0.6882\n",
      "Epoch 17/20\n",
      "53/53 [==============================] - 0s 2ms/step - loss: 0.1535 - accuracy: 0.6694\n",
      "Epoch 18/20\n",
      "53/53 [==============================] - 0s 2ms/step - loss: 0.1536 - accuracy: 0.6670\n",
      "Epoch 19/20\n",
      "53/53 [==============================] - 0s 2ms/step - loss: 0.1500 - accuracy: 0.6801\n",
      "Epoch 20/20\n",
      "53/53 [==============================] - 0s 2ms/step - loss: 0.1484 - accuracy: 0.6832\n"
     ]
    },
    {
     "data": {
      "text/plain": [
       "<tensorflow.python.keras.callbacks.History at 0x2ec84c309a0>"
      ]
     },
     "execution_count": 56,
     "metadata": {},
     "output_type": "execute_result"
    }
   ],
   "source": [
    "model.compile(optimizer=\"adagrad\", loss=\"mean_squared_error\" ,metrics = ['accuracy'])\n",
    "model.fit(x_train, y_train, epochs = 20, verbose = 1)"
   ]
  },
  {
   "cell_type": "code",
   "execution_count": 57,
   "metadata": {},
   "outputs": [
    {
     "name": "stdout",
     "output_type": "stream",
     "text": [
      "53/53 [==============================] - 0s 1ms/step - loss: 0.1498 - accuracy: 0.6777\n",
      "Training Accuracy: 0.6777\n",
      "27/27 [==============================] - 0s 1ms/step - loss: 0.1561 - accuracy: 0.6543\n",
      "Testing Accuracy:  0.6543\n",
      "\n",
      "Final Loss =  0.15614764392375946\n"
     ]
    }
   ],
   "source": [
    "#Printing the loss and accuracy of training and testing sets\n",
    "loss, accuracy = model.evaluate(x_train, y_train, verbose=1)\n",
    "print(\"Training Accuracy: {:.4f}\".format(accuracy))\n",
    "loss, accuracy = model.evaluate(x_test, y_test, verbose=1)\n",
    "print(\"Testing Accuracy:  {:.4f}\".format(accuracy))\n",
    "print(\"\\nFinal Loss = \",loss)"
   ]
  },
  {
   "cell_type": "code",
   "execution_count": 58,
   "metadata": {},
   "outputs": [],
   "source": [
    "y_pred = model.predict(x_test)\n",
    "Y_pred_classes = np.argmax(y_pred,axis=1)\n",
    "y_act = np.argmax(y_test,axis=1)"
   ]
  },
  {
   "cell_type": "code",
   "execution_count": 59,
   "metadata": {},
   "outputs": [
    {
     "data": {
      "text/plain": [
       "array([[  0.,   0.,   0.],\n",
       "       [277., 545.,  11.],\n",
       "       [  0.,   0.,   0.]])"
      ]
     },
     "execution_count": 59,
     "metadata": {},
     "output_type": "execute_result"
    }
   ],
   "source": [
    "conf_matrix = np.zeros((fields,fields))\n",
    "for i in range(len(y_act)):\n",
    "    conf_matrix[Y_pred_classes[i]][y_act[i]] += 1\n",
    "conf_matrix"
   ]
  },
  {
   "cell_type": "code",
   "execution_count": 60,
   "metadata": {},
   "outputs": [
    {
     "name": "stdout",
     "output_type": "stream",
     "text": [
      "Precision:  0.21808723489395757\n",
      "Recall:  0.3333333333333333\n",
      "F1-score:  0.26366715045960326\n"
     ]
    },
    {
     "name": "stderr",
     "output_type": "stream",
     "text": [
      "C:\\Users\\ARRUN\\anaconda3\\lib\\site-packages\\sklearn\\metrics\\_classification.py:1248: UndefinedMetricWarning: Precision is ill-defined and being set to 0.0 in labels with no predicted samples. Use `zero_division` parameter to control this behavior.\n",
      "  _warn_prf(average, modifier, msg_start, len(result))\n"
     ]
    }
   ],
   "source": [
    "precision = precision_score(Y_test, Y_pred_classes, average='macro')\n",
    "recall = recall_score(Y_test, Y_pred_classes, average='macro')\n",
    "f1score = f1_score(Y_test, Y_pred_classes, average='macro')\n",
    "print(\"Precision: \", precision)\n",
    "print(\"Recall: \", recall)\n",
    "print(\"F1-score: \", f1score)"
   ]
  },
  {
   "cell_type": "code",
   "execution_count": 61,
   "metadata": {},
   "outputs": [
    {
     "data": {
      "image/png": "[encoded data removed]",
      "text/plain": [
       "<Figure size 432x288 with 1 Axes>"
      ]
     },
     "metadata": {
      "needs_background": "light"
     },
     "output_type": "display_data"
    }
   ],
   "source": [
    "roc_auc_score(y_test, y_pred, multi_class='ovo', average='weighted')\n",
    "\n",
    "# roc curve for classes\n",
    "fpr = {}\n",
    "tpr = {}\n",
    "roc_auc ={}\n",
    "\n",
    "for i in range(fields):\n",
    "    fpr[i], tpr[i], _ = roc_curve(y_test[:, i], y_pred[:, i])\n",
    "    roc_auc[i] = auc(fpr[i], tpr[i])\n",
    "\n",
    "# Compute micro-average ROC curve and ROC area\n",
    "fpr[\"micro\"], tpr[\"micro\"], _ = roc_curve(y_test.ravel(), y_pred.ravel())\n",
    "roc_auc[\"micro\"] = auc(fpr[\"micro\"], tpr[\"micro\"])\n",
    "\n",
    "# plotting    \n",
    "plt.plot(fpr[0], tpr[0], linestyle='--',color='orange', label='MERS vs Rest')\n",
    "plt.plot(fpr[1], tpr[1], linestyle='--',color='green', label='SARS vs Rest')\n",
    "plt.plot(fpr[2], tpr[2], linestyle='--',color='blue', label='SARS-COV 2 vs Rest')\n",
    "plt.title('MLP_kmer selu ROC curve')\n",
    "plt.xlabel('False Positive Rate')\n",
    "plt.ylabel('True Positive rate')\n",
    "plt.legend(loc='best')\n",
    "plt.show()"
   ]
  }
 ],
 "metadata": {
  "kernelspec": {
   "display_name": "Python 3",
   "language": "python",
   "name": "python3"
  },
  "language_info": {
   "codemirror_mode": {
    "name": "ipython",
    "version": 3
   },
   "file_extension": ".py",
   "mimetype": "text/x-python",
   "name": "python",
   "nbconvert_exporter": "python",
   "pygments_lexer": "ipython3",
   "version": "3.8.5"
  }
 },
 "nbformat": 4,
 "nbformat_minor": 4
}
