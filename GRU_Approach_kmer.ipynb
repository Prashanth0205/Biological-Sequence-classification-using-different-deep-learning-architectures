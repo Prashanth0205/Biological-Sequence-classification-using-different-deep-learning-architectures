{
 "cells": [
  {
   "cell_type": "code",
   "execution_count": 1,
   "metadata": {},
   "outputs": [],
   "source": [
    "import pandas as pd\n",
    "import numpy as np\n",
    "import matplotlib.pyplot as plt\n",
    "from sklearn import preprocessing\n",
    "from itertools import repeat\n",
    "df = pd.read_csv(\"CombinedSequences_ppr.csv\")"
   ]
  },
  {
   "cell_type": "code",
   "execution_count": 2,
   "metadata": {},
   "outputs": [],
   "source": [
    "seq = df['Sequence'].to_numpy()\n",
    "\n",
    "def kmerise(line,k):  # String and k are inputs\n",
    "    kmerised_array = []; # Final kmerised list\n",
    "    for i in line:\n",
    "        temp = []\n",
    "        for j in range(0,len(i),k): \n",
    "            temp.append(i[j:j+k]) #append substring in each iter \n",
    "        kmerised_array.append(temp)\n",
    "    \n",
    "    return kmerised_array"
   ]
  },
  {
   "cell_type": "code",
   "execution_count": 3,
   "metadata": {},
   "outputs": [
    {
     "data": {
      "text/html": [
       "<div>\n",
       "<style scoped>\n",
       "    .dataframe tbody tr th:only-of-type {\n",
       "        vertical-align: middle;\n",
       "    }\n",
       "\n",
       "    .dataframe tbody tr th {\n",
       "        vertical-align: top;\n",
       "    }\n",
       "\n",
       "    .dataframe thead th {\n",
       "        text-align: right;\n",
       "    }\n",
       "</style>\n",
       "<table border=\"1\" class=\"dataframe\">\n",
       "  <thead>\n",
       "    <tr style=\"text-align: right;\">\n",
       "      <th></th>\n",
       "      <th>AccessionID</th>\n",
       "      <th>Sequence</th>\n",
       "    </tr>\n",
       "  </thead>\n",
       "  <tbody>\n",
       "    <tr>\n",
       "      <th>0</th>\n",
       "      <td>0</td>\n",
       "      <td>ATGAGAGTTCAAAGACCACCCACTCTCTTGTTAGTGTTCTCACTCT...</td>\n",
       "    </tr>\n",
       "    <tr>\n",
       "      <th>1</th>\n",
       "      <td>0</td>\n",
       "      <td>ATGATACACTCAGTGTTTCTACTGATGTTCTTGTTAACACCTACAG...</td>\n",
       "    </tr>\n",
       "    <tr>\n",
       "      <th>2</th>\n",
       "      <td>0</td>\n",
       "      <td>TATGCCTAACATGTGTAGGATTTTCGCGTCTCTGATTTTGGCACGC...</td>\n",
       "    </tr>\n",
       "    <tr>\n",
       "      <th>3</th>\n",
       "      <td>0</td>\n",
       "      <td>TATGCCTAACATGTGTAGGATTTTTGCATCTCTGATTTTGGCACGC...</td>\n",
       "    </tr>\n",
       "    <tr>\n",
       "      <th>4</th>\n",
       "      <td>0</td>\n",
       "      <td>TATGCCTAACATGTGTAGGATTTTCGCGTCTCTGATTTTGGCACGC...</td>\n",
       "    </tr>\n",
       "  </tbody>\n",
       "</table>\n",
       "</div>"
      ],
      "text/plain": [
       "   AccessionID                                           Sequence\n",
       "0            0  ATGAGAGTTCAAAGACCACCCACTCTCTTGTTAGTGTTCTCACTCT...\n",
       "1            0  ATGATACACTCAGTGTTTCTACTGATGTTCTTGTTAACACCTACAG...\n",
       "2            0  TATGCCTAACATGTGTAGGATTTTCGCGTCTCTGATTTTGGCACGC...\n",
       "3            0  TATGCCTAACATGTGTAGGATTTTTGCATCTCTGATTTTGGCACGC...\n",
       "4            0  TATGCCTAACATGTGTAGGATTTTCGCGTCTCTGATTTTGGCACGC..."
      ]
     },
     "execution_count": 3,
     "metadata": {},
     "output_type": "execute_result"
    }
   ],
   "source": [
    "df['AccessionID'] = pd.factorize(df['AccessionID'])[0]\n",
    "df.head()"
   ]
  },
  {
   "cell_type": "code",
   "execution_count": 4,
   "metadata": {},
   "outputs": [
    {
     "data": {
      "text/html": [
       "<div>\n",
       "<style scoped>\n",
       "    .dataframe tbody tr th:only-of-type {\n",
       "        vertical-align: middle;\n",
       "    }\n",
       "\n",
       "    .dataframe tbody tr th {\n",
       "        vertical-align: top;\n",
       "    }\n",
       "\n",
       "    .dataframe thead th {\n",
       "        text-align: right;\n",
       "    }\n",
       "</style>\n",
       "<table border=\"1\" class=\"dataframe\">\n",
       "  <thead>\n",
       "    <tr style=\"text-align: right;\">\n",
       "      <th></th>\n",
       "      <th>AccessionID</th>\n",
       "      <th>Sequence</th>\n",
       "    </tr>\n",
       "  </thead>\n",
       "  <tbody>\n",
       "    <tr>\n",
       "      <th>2519</th>\n",
       "      <td>2</td>\n",
       "      <td>GACTAAAGATAAAAATTATATACGTATAATTTTTGTCTCTCTAGCT...</td>\n",
       "    </tr>\n",
       "    <tr>\n",
       "      <th>2520</th>\n",
       "      <td>2</td>\n",
       "      <td>GACAAAGGTGAAAATTAATATATATATATTAATTTTACTCCTCCTC...</td>\n",
       "    </tr>\n",
       "    <tr>\n",
       "      <th>2521</th>\n",
       "      <td>2</td>\n",
       "      <td>GTCATTTGGTAAAATATAATATATATTTTATCACTCTAGCTTCGCT...</td>\n",
       "    </tr>\n",
       "    <tr>\n",
       "      <th>2522</th>\n",
       "      <td>2</td>\n",
       "      <td>GACAAAGCTCAAAAATATATATATATATTTTTGTTGCTCCTAGCTT...</td>\n",
       "    </tr>\n",
       "    <tr>\n",
       "      <th>2523</th>\n",
       "      <td>2</td>\n",
       "      <td>GACTAAAGATAAAAATTATAGCATTAGTCTATAATTTTATCTCCCT...</td>\n",
       "    </tr>\n",
       "  </tbody>\n",
       "</table>\n",
       "</div>"
      ],
      "text/plain": [
       "      AccessionID                                           Sequence\n",
       "2519            2  GACTAAAGATAAAAATTATATACGTATAATTTTTGTCTCTCTAGCT...\n",
       "2520            2  GACAAAGGTGAAAATTAATATATATATATTAATTTTACTCCTCCTC...\n",
       "2521            2  GTCATTTGGTAAAATATAATATATATTTTATCACTCTAGCTTCGCT...\n",
       "2522            2  GACAAAGCTCAAAAATATATATATATATTTTTGTTGCTCCTAGCTT...\n",
       "2523            2  GACTAAAGATAAAAATTATAGCATTAGTCTATAATTTTATCTCCCT..."
      ]
     },
     "execution_count": 4,
     "metadata": {},
     "output_type": "execute_result"
    }
   ],
   "source": [
    "df.tail()"
   ]
  },
  {
   "cell_type": "code",
   "execution_count": 5,
   "metadata": {},
   "outputs": [],
   "source": [
    "k = 15\n",
    "kmers_list =  kmerise(seq,k)"
   ]
  },
  {
   "cell_type": "code",
   "execution_count": 6,
   "metadata": {},
   "outputs": [],
   "source": [
    "baseDict = {'A': 1, 'C': 2, 'G': 3, 'T': 4, 'R': 5, 'Y': 6, 'S': 7, 'W': 8, 'K': 9, 'M': 10, 'B': 11, 'D': 12, 'H': 13, 'V': 14,'N': 15}"
   ]
  },
  {
   "cell_type": "code",
   "execution_count": 7,
   "metadata": {},
   "outputs": [],
   "source": [
    "def vectorizedList(line):  # String and k are inputs\n",
    "    vectorized_array = []; # Final vectorised list\n",
    "    for i in line:\n",
    "        temp = \"\"\n",
    "        for j in range(len(i)):\n",
    "            temp += str(baseDict[i[j]])\n",
    "        vectorized_array.append(int(temp))\n",
    "    \n",
    "    return vectorized_array"
   ]
  },
  {
   "cell_type": "code",
   "execution_count": 8,
   "metadata": {},
   "outputs": [],
   "source": [
    "Vec = []\n",
    "len_vec = []\n",
    "for i in range(len(kmers_list)):\n",
    "    Vec.append(vectorizedList(kmers_list[i]))\n",
    "    len_vec.append(len(kmers_list[i]))\n",
    "#Vec"
   ]
  },
  {
   "cell_type": "code",
   "execution_count": 9,
   "metadata": {},
   "outputs": [],
   "source": [
    "f = [[float(i) for i in j] for j in Vec]\n",
    "Vec = [[i / sum(j) for i in j] for j in f]"
   ]
  },
  {
   "cell_type": "code",
   "execution_count": 10,
   "metadata": {},
   "outputs": [],
   "source": [
    "def padding(seq, len_vec):\n",
    "    anotherseq = seq.copy()\n",
    "    max_kmerlen = max(len_vec)\n",
    "    for i in anotherseq:\n",
    "        diff = max_kmerlen - len(i)\n",
    "        i.extend(repeat(0, diff))\n",
    "    \n",
    "    return anotherseq    "
   ]
  },
  {
   "cell_type": "code",
   "execution_count": 11,
   "metadata": {},
   "outputs": [],
   "source": [
    "pad = padding(Vec, len_vec)"
   ]
  },
  {
   "cell_type": "code",
   "execution_count": 12,
   "metadata": {},
   "outputs": [],
   "source": [
    "import keras\n",
    "from keras.layers import Conv2D, MaxPooling2D,GRU, Dense, Embedding\n",
    "from keras.layers import Input, Dropout, Activation\n",
    "from keras.optimizers import Adam\n",
    "from sklearn.model_selection import train_test_split"
   ]
  },
  {
   "cell_type": "code",
   "execution_count": 13,
   "metadata": {},
   "outputs": [],
   "source": [
    "X = np.asarray(pad)#.astype(np.float32)\n",
    "y = df['AccessionID'].to_numpy()#.astype(np.float32)"
   ]
  },
  {
   "cell_type": "code",
   "execution_count": 14,
   "metadata": {},
   "outputs": [
    {
     "data": {
      "text/plain": [
       "(2524, 2118)"
      ]
     },
     "execution_count": 14,
     "metadata": {},
     "output_type": "execute_result"
    }
   ],
   "source": [
    "X.shape"
   ]
  },
  {
   "cell_type": "code",
   "execution_count": 15,
   "metadata": {},
   "outputs": [],
   "source": [
    "data_shape = [353,6]\n",
    "X = X.reshape(2524,data_shape[0],data_shape[1])\n",
    "x_train, x_test, y_train, Y_test = train_test_split(X, y, test_size=0.33)"
   ]
  },
  {
   "cell_type": "code",
   "execution_count": 16,
   "metadata": {},
   "outputs": [],
   "source": [
    "x_train = x_train.astype('float32') \n",
    "x_test = x_test.astype('float32') "
   ]
  },
  {
   "cell_type": "code",
   "execution_count": 17,
   "metadata": {},
   "outputs": [],
   "source": [
    "fields = len(np.unique(df['AccessionID']))\n",
    "#For training data\n",
    "y_train = np.uint8(keras.utils.to_categorical(y_train, num_classes = fields))\n",
    "\n",
    "#For test data\n",
    "y_test = np.uint8(keras.utils.to_categorical(Y_test, num_classes = fields))"
   ]
  },
  {
   "cell_type": "code",
   "execution_count": 18,
   "metadata": {},
   "outputs": [
    {
     "name": "stdout",
     "output_type": "stream",
     "text": [
      "(1691, 353, 6)\n",
      "(833, 353, 6)\n"
     ]
    }
   ],
   "source": [
    "print(x_train.shape)\n",
    "print(x_test.shape)"
   ]
  },
  {
   "cell_type": "code",
   "execution_count": 19,
   "metadata": {},
   "outputs": [
    {
     "name": "stdout",
     "output_type": "stream",
     "text": [
      "(1691, 3)\n",
      "(833, 3)\n"
     ]
    }
   ],
   "source": [
    "print(y_train.shape)\n",
    "print(y_test.shape)"
   ]
  },
  {
   "cell_type": "code",
   "execution_count": 20,
   "metadata": {},
   "outputs": [],
   "source": [
    "from keras.utils.np_utils import to_categorical\n",
    "from keras.models import Model ,Sequential\n",
    "from sklearn.metrics import precision_recall_fscore_support as score\n",
    "from sklearn.metrics import precision_score, recall_score, f1_score\n",
    "from sklearn.model_selection import StratifiedKFold"
   ]
  },
  {
   "cell_type": "code",
   "execution_count": 21,
   "metadata": {},
   "outputs": [],
   "source": [
    "# Input for variable-length sequences of integers\n",
    "model = Sequential()\n",
    "model.add(GRU(256,activation = 'relu'))\n",
    "model.add(Dense(1024, activation='relu'))\n",
    "model.add(Dense(64, activation='relu'))\n",
    "model.add(Dense(16, activation='relu'))\n",
    "# Add a classifier\n",
    "model.add(Dense(3, activation=\"softmax\"))"
   ]
  },
  {
   "cell_type": "code",
   "execution_count": 22,
   "metadata": {},
   "outputs": [],
   "source": [
    "model.compile(optimizer='adagrad', loss = \"categorical_crossentropy\", metrics = ['accuracy']) "
   ]
  },
  {
   "cell_type": "code",
   "execution_count": 23,
   "metadata": {},
   "outputs": [
    {
     "name": "stdout",
     "output_type": "stream",
     "text": [
      "Epoch 1/16\n",
      "53/53 [==============================] - 24s 361ms/step - loss: 1.0902 - accuracy: 0.6326\n",
      "Epoch 2/16\n",
      "53/53 [==============================] - 22s 421ms/step - loss: 1.0549 - accuracy: 0.6679\n",
      "Epoch 3/16\n",
      "53/53 [==============================] - 24s 451ms/step - loss: 1.0271 - accuracy: 0.6803\n",
      "Epoch 4/16\n",
      "53/53 [==============================] - 24s 445ms/step - loss: 1.0065 - accuracy: 0.6649\n",
      "Epoch 5/16\n",
      "53/53 [==============================] - 25s 463ms/step - loss: 0.9872 - accuracy: 0.6563\n",
      "Epoch 6/16\n",
      "53/53 [==============================] - 24s 459ms/step - loss: 0.9660 - accuracy: 0.6668\n",
      "Epoch 7/16\n",
      "53/53 [==============================] - 23s 440ms/step - loss: 0.9505 - accuracy: 0.6549\n",
      "Epoch 8/16\n",
      "53/53 [==============================] - 23s 431ms/step - loss: 0.9324 - accuracy: 0.6514\n",
      "Epoch 9/16\n",
      "53/53 [==============================] - 23s 436ms/step - loss: 0.9094 - accuracy: 0.6626\n",
      "Epoch 10/16\n",
      "53/53 [==============================] - 23s 438ms/step - loss: 0.8935 - accuracy: 0.6599\n",
      "Epoch 11/16\n",
      "53/53 [==============================] - 25s 462ms/step - loss: 0.8728 - accuracy: 0.6668\n",
      "Epoch 12/16\n",
      "53/53 [==============================] - 25s 467ms/step - loss: 0.8525 - accuracy: 0.6728\n",
      "Epoch 13/16\n",
      "53/53 [==============================] - 26s 481ms/step - loss: 0.8416 - accuracy: 0.6622\n",
      "Epoch 14/16\n",
      "53/53 [==============================] - 25s 464ms/step - loss: 0.8426 - accuracy: 0.6385\n",
      "Epoch 15/16\n",
      "53/53 [==============================] - 25s 476ms/step - loss: 0.8150 - accuracy: 0.6618\n",
      "Epoch 16/16\n",
      "53/53 [==============================] - 25s 466ms/step - loss: 0.8083 - accuracy: 0.6537\n",
      "Model: \"sequential\"\n",
      "_________________________________________________________________\n",
      "Layer (type)                 Output Shape              Param #   \n",
      "=================================================================\n",
      "gru (GRU)                    (None, 256)               202752    \n",
      "_________________________________________________________________\n",
      "dense (Dense)                (None, 1024)              263168    \n",
      "_________________________________________________________________\n",
      "dense_1 (Dense)              (None, 64)                65600     \n",
      "_________________________________________________________________\n",
      "dense_2 (Dense)              (None, 16)                1040      \n",
      "_________________________________________________________________\n",
      "dense_3 (Dense)              (None, 3)                 51        \n",
      "=================================================================\n",
      "Total params: 532,611\n",
      "Trainable params: 532,611\n",
      "Non-trainable params: 0\n",
      "_________________________________________________________________\n"
     ]
    }
   ],
   "source": [
    "history = model.fit(x_train, y_train, epochs = 16)\n",
    "model.summary()"
   ]
  },
  {
   "cell_type": "code",
   "execution_count": 24,
   "metadata": {},
   "outputs": [
    {
     "name": "stdout",
     "output_type": "stream",
     "text": [
      "53/53 [==============================] - 6s 108ms/step - loss: 0.7928 - accuracy: 0.6629\n",
      "Training Accuracy: 0.6629\n",
      "27/27 [==============================] - 3s 102ms/step - loss: 0.7759 - accuracy: 0.6843\n",
      "Testing Accuracy:  0.6843\n",
      "\n",
      "Final Loss =  0.7759156227111816\n"
     ]
    }
   ],
   "source": [
    "#Printing the loss and accuracy of training and testing sets\n",
    "loss, accuracy = model.evaluate(x_train, y_train, verbose=1)\n",
    "print(\"Training Accuracy: {:.4f}\".format(accuracy))\n",
    "loss, accuracy = model.evaluate(x_test, y_test, verbose=1)\n",
    "print(\"Testing Accuracy:  {:.4f}\".format(accuracy))\n",
    "print(\"\\nFinal Loss = \",loss)"
   ]
  },
  {
   "cell_type": "code",
   "execution_count": 25,
   "metadata": {},
   "outputs": [],
   "source": [
    "y_pred = model.predict(x_test)\n",
    "Y_pred_classes = np.argmax(y_pred,axis=1)\n",
    "y_act = np.argmax(y_test,axis=1)"
   ]
  },
  {
   "cell_type": "code",
   "execution_count": 26,
   "metadata": {},
   "outputs": [
    {
     "data": {
      "text/plain": [
       "array([[  0.,   0.,   0.],\n",
       "       [256., 570.,   7.],\n",
       "       [  0.,   0.,   0.]])"
      ]
     },
     "execution_count": 26,
     "metadata": {},
     "output_type": "execute_result"
    }
   ],
   "source": [
    "conf_matrix = np.zeros((3,3))\n",
    "for i in range(len(y_act)):\n",
    "    conf_matrix[Y_pred_classes[i]][y_act[i]] += 1\n",
    "conf_matrix"
   ]
  },
  {
   "cell_type": "code",
   "execution_count": 31,
   "metadata": {},
   "outputs": [
    {
     "name": "stdout",
     "output_type": "stream",
     "text": [
      "Precision:  0.22809123649459784\n",
      "Recall:  0.3333333333333333\n",
      "F1-score:  0.27084818246614395\n"
     ]
    },
    {
     "name": "stderr",
     "output_type": "stream",
     "text": [
      "C:\\Users\\ARRUN\\anaconda3\\lib\\site-packages\\sklearn\\metrics\\_classification.py:1248: UndefinedMetricWarning: Precision is ill-defined and being set to 0.0 in labels with no predicted samples. Use `zero_division` parameter to control this behavior.\n",
      "  _warn_prf(average, modifier, msg_start, len(result))\n"
     ]
    }
   ],
   "source": [
    "precision = precision_score(Y_test, Y_pred_classes, average='macro')\n",
    "recall = recall_score(Y_test, Y_pred_classes, average='macro')\n",
    "f1score = f1_score(Y_test, Y_pred_classes, average='macro')\n",
    "print(\"Precision: \", precision)\n",
    "print(\"Recall: \", recall)\n",
    "print(\"F1-score: \", f1score)"
   ]
  },
  {
   "cell_type": "code",
   "execution_count": 28,
   "metadata": {},
   "outputs": [
    {
     "data": {
      "text/plain": [
       "0.49973368896952197"
      ]
     },
     "execution_count": 28,
     "metadata": {},
     "output_type": "execute_result"
    }
   ],
   "source": [
    "#roc auc score\n",
    "from sklearn.metrics import roc_auc_score,roc_curve\n",
    "from sklearn.metrics import roc_curve, auc\n",
    "roc_auc_score(y_test, y_pred, multi_class='ovo', average='weighted')"
   ]
  },
  {
   "cell_type": "code",
   "execution_count": 29,
   "metadata": {},
   "outputs": [
    {
     "data": {
      "image/png": "[encoded data removed]",
      "text/plain": [
       "<Figure size 432x288 with 1 Axes>"
      ]
     },
     "metadata": {
      "needs_background": "light"
     },
     "output_type": "display_data"
    }
   ],
   "source": [
    "import matplotlib.pyplot as plt\n",
    "# roc curve for classes\n",
    "fpr = {}\n",
    "tpr = {}\n",
    "roc_auc ={}\n",
    "\n",
    "for i in range(fields):\n",
    "    fpr[i], tpr[i], _ = roc_curve(y_test[:, i], y_pred[:, i])\n",
    "    roc_auc[i] = auc(fpr[i], tpr[i])\n",
    "\n",
    "# Compute micro-average ROC curve and ROC area\n",
    "fpr[\"micro\"], tpr[\"micro\"], _ = roc_curve(y_test.ravel(), y_pred.ravel())\n",
    "roc_auc[\"micro\"] = auc(fpr[\"micro\"], tpr[\"micro\"])\n",
    "\n",
    "# plotting    \n",
    "plt.plot(fpr[0], tpr[0], linestyle='--',color='orange', label='MERS vs Rest')\n",
    "plt.plot(fpr[1], tpr[1], linestyle='--',color='green', label='SARS vs Rest')\n",
    "plt.plot(fpr[2], tpr[2], linestyle='--',color='blue', label='SARS-COV 2 vs Rest')\n",
    "plt.title('MLP_kmer relu ROC curve')\n",
    "plt.xlabel('False Positive Rate')\n",
    "plt.ylabel('True Positive rate')\n",
    "plt.legend(loc='best')\n",
    "plt.show()"
   ]
  },
  {
   "cell_type": "code",
   "execution_count": 30,
   "metadata": {},
   "outputs": [
    {
     "name": "stdout",
     "output_type": "stream",
     "text": [
      "{0: 0.49913344887348354, 1: 0.5, 2: 0.5, 'micro': 0.8378429402973675}\n"
     ]
    }
   ],
   "source": [
    "print(roc_auc)"
   ]
  },
  {
   "cell_type": "code",
   "execution_count": null,
   "metadata": {},
   "outputs": [],
   "source": []
  }
 ],
 "metadata": {
  "kernelspec": {
   "display_name": "Python 3",
   "language": "python",
   "name": "python3"
  },
  "language_info": {
   "codemirror_mode": {
    "name": "ipython",
    "version": 3
   },
   "file_extension": ".py",
   "mimetype": "text/x-python",
   "name": "python",
   "nbconvert_exporter": "python",
   "pygments_lexer": "ipython3",
   "version": "3.8.5"
  }
 },
 "nbformat": 4,
 "nbformat_minor": 4
}
