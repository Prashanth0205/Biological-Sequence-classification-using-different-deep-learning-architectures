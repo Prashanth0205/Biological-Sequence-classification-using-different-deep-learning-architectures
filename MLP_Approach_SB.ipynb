{
 "cells": [
  {
   "cell_type": "code",
   "execution_count": 1,
   "metadata": {},
   "outputs": [],
   "source": [
    "#The imports that are used to load the sequences\n",
    "import os\n",
    "import numpy as np\n",
    "import pandas as pd\n",
    "from tqdm import tqdm"
   ]
  },
  {
   "cell_type": "code",
   "execution_count": 2,
   "metadata": {},
   "outputs": [
    {
     "name": "stderr",
     "output_type": "stream",
     "text": [
      "100%|██████████| 1/1 [00:00<00:00,  4.68it/s]\n",
      "100%|██████████| 1/1 [00:00<00:00,  3.48it/s]\n",
      "100%|██████████| 1/1 [00:00<00:00, 12.73it/s]\n"
     ]
    }
   ],
   "source": [
    "#Method to load the data from excel and csv files\n",
    "def load_data(data):\n",
    "    \n",
    "    #The final X values\n",
    "    X = []\n",
    "    \n",
    "    #The final class labels \n",
    "    y = []\n",
    "    \n",
    "    #Class label for each family\n",
    "    i = 0\n",
    "    \n",
    "    #Going through each folder in the specified directory\n",
    "    for family in os.listdir(data):\n",
    "        \n",
    "        #If the folder does not start with a .\n",
    "        if not family.startswith('.'):\n",
    "        \n",
    "            #The class label will be i\n",
    "            label = i;\n",
    "            \n",
    "            #Increase class label for the next class\n",
    "            i = i+1;\n",
    "                \n",
    "            #To load the excel/csv files and the sequences from them\n",
    "            for filename in tqdm(os.listdir(data + '/' + family)):\n",
    "                \n",
    "                #If the file is in xlsx format\n",
    "                if filename.endswith('x'):\n",
    "                    df = pd.read_excel (data +'/'+ family + '/' + filename,header=None)\n",
    "                \n",
    "                #If the file is in csv format\n",
    "                if filename.endswith('v'):\n",
    "                    df = pd.read_csv (data +'/'+ family + '/' + filename,header=None)\n",
    "                \n",
    "                #Taking only the sequences column\n",
    "                df2 = df[df.columns[1]]\n",
    "                \n",
    "                #Loading all the sequences from the excel file\n",
    "                for j in range(len(df)):\n",
    "                    seq = df2.loc[j]\n",
    "                    \n",
    "                    #Appending the sequence to X\n",
    "                    X.append(np.asarray(list(seq)))\n",
    "                    \n",
    "                    #Appending the label to y\n",
    "                    y.append(label)\n",
    "    \n",
    "    #Converting y to an array\n",
    "    y = np.asarray(y)\n",
    "    \n",
    "    return X,y\n",
    "\n",
    "#Loading data from the path\n",
    "X_t,Y_t = load_data(r'Datasets')"
   ]
  },
  {
   "cell_type": "code",
   "execution_count": 3,
   "metadata": {},
   "outputs": [],
   "source": [
    "#Method to find the length of the longest sequence\n",
    "def findMaxLen(sequences):\n",
    "    \n",
    "    #Initial length is taken as 0\n",
    "    maxLen = 0\n",
    "    \n",
    "    #Traverse all the sequences and if length is greater than initial length\n",
    "    #Swap them and go to next sequence\n",
    "    for seq in sequences:\n",
    "        lengthSeq = len(seq)\n",
    "        if(lengthSeq>maxLen):\n",
    "            maxLen = lengthSeq\n",
    "    return maxLen;\n",
    "\n",
    "#Length of the largest sequence\n",
    "lenLargestSeq = findMaxLen(X_t)\n",
    "\n",
    "#To convert the list of characters to a list of integers\n",
    "def convertStringtoInt(sequence,maxlen):\n",
    "\n",
    "    #Dictionary with all the possible nucleotides\n",
    "    dictChar = {'A':1,'C':2,'G':3,'T':4,'U':4,'R':5,'Y':6,'S':7,'W':8,'K':9,'M':10,'B':11,'D':12,'H':13,'V':14,'N':15}\n",
    "    \n",
    "    #New X\n",
    "    X_new = []\n",
    "    \n",
    "    if(maxlen==0):\n",
    "        #Finding the maximum length\n",
    "        maxlen = findMaxLen(sequence)\n",
    "    \n",
    "    #Going through all the sequences\n",
    "    for sequ in sequence:\n",
    "        seq_new = []\n",
    "        \n",
    "        #Finding the integer from the dictionary and appending that to the new sequence\n",
    "        for i in range(len(sequ)):\n",
    "            newChar = dictChar[sequ[i]]\n",
    "            seq_new.append(newChar)\n",
    "        \n",
    "        #If the length of new sequence is lesser than maximum length then append 0s at the end to match\n",
    "        #the maximum length\n",
    "        if(len(seq_new) < maxlen):\n",
    "            for i in range(len(seq_new),maxlen):\n",
    "                seq_new.append(0)\n",
    "        \n",
    "        #Append the new sequence to new X\n",
    "        X_new.append(np.asarray(seq_new))\n",
    "                \n",
    "    return X_new;\n",
    "\n",
    "new_X = convertStringtoInt(X_t,0)"
   ]
  },
  {
   "cell_type": "code",
   "execution_count": 4,
   "metadata": {},
   "outputs": [],
   "source": [
    "#To split the training and test data\n",
    "from sklearn.model_selection import train_test_split\n",
    "\n",
    "#80% training data 20% test data\n",
    "X_train, X_test, y_train, Y_test = train_test_split(new_X, Y_t, test_size=0.2)\n",
    "\n",
    "#Converting all to array for passing to model\n",
    "X_train = np.asarray(X_train)\n",
    "X_test = np.asarray(X_test)\n",
    "y_train = np.asarray(y_train)\n",
    "y_test = np.asarray(Y_test)"
   ]
  },
  {
   "cell_type": "code",
   "execution_count": 5,
   "metadata": {},
   "outputs": [],
   "source": [
    "#One hot encoding the class labels\n",
    "from keras.utils.np_utils import to_categorical\n",
    "\n",
    "#For training data\n",
    "y_train = np.uint8(to_categorical(y_train, num_classes = 3))\n",
    "\n",
    "#For test data\n",
    "y_test = np.uint8(to_categorical(y_test, num_classes = 3))\n"
   ]
  },
  {
   "cell_type": "code",
   "execution_count": 6,
   "metadata": {
    "scrolled": true
   },
   "outputs": [
    {
     "name": "stdout",
     "output_type": "stream",
     "text": [
      "Epoch 1/20\n",
      "64/64 [==============================] - 4s 48ms/step - loss: 0.7834 - accuracy: 0.7016 - val_loss: 0.2807 - val_accuracy: 0.8634\n",
      "Epoch 2/20\n",
      "64/64 [==============================] - 2s 28ms/step - loss: 0.2765 - accuracy: 0.8924 - val_loss: 0.3538 - val_accuracy: 0.8733\n",
      "Epoch 3/20\n",
      "64/64 [==============================] - 2s 28ms/step - loss: 0.2064 - accuracy: 0.9288 - val_loss: 0.2600 - val_accuracy: 0.9089\n",
      "Epoch 4/20\n",
      "64/64 [==============================] - 2s 28ms/step - loss: 0.1625 - accuracy: 0.9421 - val_loss: 0.1464 - val_accuracy: 0.9327\n",
      "Epoch 5/20\n",
      "64/64 [==============================] - 2s 29ms/step - loss: 0.1483 - accuracy: 0.9423 - val_loss: 0.2121 - val_accuracy: 0.9366\n",
      "Epoch 6/20\n",
      "64/64 [==============================] - 2s 29ms/step - loss: 0.1086 - accuracy: 0.9560 - val_loss: 0.1874 - val_accuracy: 0.9347\n",
      "Epoch 7/20\n",
      "64/64 [==============================] - 2s 28ms/step - loss: 0.1116 - accuracy: 0.9538 - val_loss: 0.1724 - val_accuracy: 0.9366\n",
      "Epoch 8/20\n",
      "64/64 [==============================] - 2s 28ms/step - loss: 0.0580 - accuracy: 0.9787 - val_loss: 0.2474 - val_accuracy: 0.9287\n",
      "Epoch 9/20\n",
      "64/64 [==============================] - 2s 28ms/step - loss: 0.0709 - accuracy: 0.9743 - val_loss: 0.3209 - val_accuracy: 0.9267\n",
      "Epoch 10/20\n",
      "64/64 [==============================] - 2s 28ms/step - loss: 0.0681 - accuracy: 0.9757 - val_loss: 0.2172 - val_accuracy: 0.9366\n",
      "Epoch 11/20\n",
      "64/64 [==============================] - 2s 28ms/step - loss: 0.0254 - accuracy: 0.9916 - val_loss: 0.4989 - val_accuracy: 0.8455\n",
      "Epoch 12/20\n",
      "64/64 [==============================] - 2s 28ms/step - loss: 0.1135 - accuracy: 0.9584 - val_loss: 0.3205 - val_accuracy: 0.9228\n",
      "Epoch 13/20\n",
      "64/64 [==============================] - 2s 28ms/step - loss: 0.0582 - accuracy: 0.9738 - val_loss: 0.2433 - val_accuracy: 0.9446\n",
      "Epoch 14/20\n",
      "64/64 [==============================] - 2s 29ms/step - loss: 0.0159 - accuracy: 0.9941 - val_loss: 0.2722 - val_accuracy: 0.9406\n",
      "Epoch 15/20\n",
      "64/64 [==============================] - 2s 28ms/step - loss: 0.0334 - accuracy: 0.9893 - val_loss: 0.2193 - val_accuracy: 0.9545\n",
      "Epoch 16/20\n",
      "64/64 [==============================] - 2s 28ms/step - loss: 0.0052 - accuracy: 0.9990 - val_loss: 0.3145 - val_accuracy: 0.9465\n",
      "Epoch 17/20\n",
      "64/64 [==============================] - 2s 28ms/step - loss: 0.0028 - accuracy: 0.9990 - val_loss: 0.3053 - val_accuracy: 0.9545\n",
      "Epoch 18/20\n",
      "64/64 [==============================] - 2s 28ms/step - loss: 5.5291e-04 - accuracy: 1.0000 - val_loss: 0.3099 - val_accuracy: 0.9545\n",
      "Epoch 19/20\n",
      "64/64 [==============================] - 2s 28ms/step - loss: 5.4350e-04 - accuracy: 1.0000 - val_loss: 0.3298 - val_accuracy: 0.9505\n",
      "Epoch 20/20\n",
      "64/64 [==============================] - 2s 28ms/step - loss: 1.5042e-04 - accuracy: 1.0000 - val_loss: 0.3419 - val_accuracy: 0.9505\n"
     ]
    }
   ],
   "source": [
    "#Creating the model\n",
    "import keras\n",
    "from keras import models\n",
    "from keras.models import Sequential\n",
    "from keras.layers import Dense\n",
    "from sklearn.metrics import precision_recall_fscore_support as score\n",
    "from sklearn.metrics import precision_score, recall_score, f1_score\n",
    "from sklearn.metrics import classification_report, confusion_matrix\n",
    "from keras import layers\n",
    "\n",
    "#Taking the input dimensions for the dense layers\n",
    "input_dim = X_train.shape[1]\n",
    "\n",
    "#Creating a sequential model\n",
    "model = Sequential()\n",
    "\n",
    "#The dense layers used in the model\n",
    "#Activation model used is Relu\n",
    "model.add(layers.Dense(128, input_dim=input_dim, activation='relu'))\n",
    "model.add(layers.Dense(512, input_dim=input_dim, activation='relu'))\n",
    "model.add(layers.Dense(64, input_dim=input_dim, activation='relu'))\n",
    "\n",
    "#Final dense layer with the softmax activation function\n",
    "model.add(layers.Dense(3, input_dim=input_dim, activation='softmax'))\n",
    "    \n",
    "#Loss function used is categorical cross entropy since multiple classes are used\n",
    "#Optimizer is adam\n",
    "model.compile(loss='categorical_crossentropy',optimizer='adam',metrics=['accuracy'])\n",
    "\n",
    "#Fitting the model with 15 epochs and with shuffle = True\n",
    "history = model.fit(X_train, y_train,epochs=20,verbose=1,validation_data=(X_test, y_test),shuffle=True)"
   ]
  },
  {
   "cell_type": "code",
   "execution_count": 7,
   "metadata": {},
   "outputs": [
    {
     "name": "stdout",
     "output_type": "stream",
     "text": [
      "Model: \"sequential\"\n",
      "_________________________________________________________________\n",
      "Layer (type)                 Output Shape              Param #   \n",
      "=================================================================\n",
      "dense (Dense)                (None, 128)               4066560   \n",
      "_________________________________________________________________\n",
      "dense_1 (Dense)              (None, 512)               66048     \n",
      "_________________________________________________________________\n",
      "dense_2 (Dense)              (None, 64)                32832     \n",
      "_________________________________________________________________\n",
      "dense_3 (Dense)              (None, 3)                 195       \n",
      "=================================================================\n",
      "Total params: 4,165,635\n",
      "Trainable params: 4,165,635\n",
      "Non-trainable params: 0\n",
      "_________________________________________________________________\n"
     ]
    }
   ],
   "source": [
    "#Printing the summary of model\n",
    "model.summary()"
   ]
  },
  {
   "cell_type": "code",
   "execution_count": 8,
   "metadata": {},
   "outputs": [
    {
     "name": "stdout",
     "output_type": "stream",
     "text": [
      "64/64 [==============================] - 0s 7ms/step - loss: 1.4551e-04 - accuracy: 1.0000\n",
      "Training Accuracy: 1.0000\n",
      "16/16 [==============================] - 0s 6ms/step - loss: 0.3419 - accuracy: 0.9505\n",
      "Testing Accuracy:  0.9505\n"
     ]
    }
   ],
   "source": [
    "#Printing the loss and accuracy of training and testing sets\n",
    "loss, accuracy = model.evaluate(X_train, y_train, verbose=1)\n",
    "print(\"Training Accuracy: {:.4f}\".format(accuracy))\n",
    "loss, accuracy = model.evaluate(X_test, y_test, verbose=1)\n",
    "print(\"Testing Accuracy:  {:.4f}\".format(accuracy))"
   ]
  },
  {
   "cell_type": "markdown",
   "metadata": {},
   "source": [
    "#### 10 fold Cross Validation for relu architecture "
   ]
  },
  {
   "cell_type": "code",
   "execution_count": 9,
   "metadata": {},
   "outputs": [],
   "source": [
    "from sklearn.model_selection import StratifiedKFold"
   ]
  },
  {
   "cell_type": "code",
   "execution_count": 10,
   "metadata": {},
   "outputs": [
    {
     "name": "stdout",
     "output_type": "stream",
     "text": [
      "accuracy: 95.25%\n",
      "accuracy: 92.67%\n",
      "accuracy: 89.90%\n",
      "accuracy: 95.05%\n",
      "accuracy: 94.46%\n",
      "accuracy: 95.25%\n",
      "accuracy: 91.68%\n",
      "accuracy: 94.46%\n",
      "accuracy: 91.49%\n",
      "accuracy: 94.65%\n"
     ]
    }
   ],
   "source": [
    "kfold = StratifiedKFold(n_splits=10, shuffle=True, random_state=123)\n",
    "cvscores = []\n",
    "for train, test in kfold.split(new_X, Y_t):\n",
    "    model = Sequential()\n",
    "    model.add(layers.Dense(128, input_dim=input_dim, activation='relu'))\n",
    "    model.add(layers.Dense(512, input_dim=input_dim, activation='relu'))\n",
    "    model.add(layers.Dense(64, input_dim=input_dim, activation='relu'))\n",
    "    model.add(layers.Dense(3, input_dim=input_dim, activation='softmax'))\n",
    "    model.compile(loss='categorical_crossentropy',optimizer='adam',metrics=['accuracy'])\n",
    "    model.fit(X_train, y_train, epochs = 20,verbose = 0)\n",
    "    scores = model.evaluate(X_test, y_test, verbose = 0)\n",
    "    print(\"%s: %.2f%%\" % (model.metrics_names[1], scores[1]*100))\n",
    "    cvscores.append(scores[1] * 100)"
   ]
  },
  {
   "cell_type": "code",
   "execution_count": 11,
   "metadata": {},
   "outputs": [
    {
     "name": "stdout",
     "output_type": "stream",
     "text": [
      "93.49% (+/- 1.81%)\n"
     ]
    }
   ],
   "source": [
    "print(\"%.2f%% (+/- %.2f%%)\" % (np.mean(cvscores), np.std(cvscores)))"
   ]
  },
  {
   "cell_type": "code",
   "execution_count": 12,
   "metadata": {},
   "outputs": [
    {
     "name": "stdout",
     "output_type": "stream",
     "text": [
      "[[160.  11.   0.]\n",
      " [ 16. 314.   0.]\n",
      " [  0.   0.   4.]]\n"
     ]
    }
   ],
   "source": [
    "y_pred = model.predict(X_test)\n",
    "Y_pred_classes = np.argmax(y_pred,axis=1)\n",
    "y_act = np.argmax(y_test,axis=1)\n",
    "\n",
    "conf_matrix = np.zeros((3,3))\n",
    "for i in range(len(y_act)):\n",
    "    conf_matrix[Y_pred_classes[i]][y_act[i]] += 1\n",
    "    \n",
    "print(conf_matrix)"
   ]
  },
  {
   "cell_type": "code",
   "execution_count": 13,
   "metadata": {},
   "outputs": [
    {
     "name": "stdout",
     "output_type": "stream",
     "text": [
      "Precision:  0.9623958887116782\n",
      "Recall:  0.9584149184149183\n",
      "F1-score:  0.9603229425611017\n"
     ]
    }
   ],
   "source": [
    "precision = precision_score(Y_test, Y_pred_classes, average='macro')\n",
    "recall = recall_score(Y_test, Y_pred_classes, average='macro')\n",
    "f1score = f1_score(Y_test, Y_pred_classes, average='macro')\n",
    "print(\"Precision: \", precision)\n",
    "print(\"Recall: \", recall)\n",
    "print(\"F1-score: \", f1score)"
   ]
  },
  {
   "cell_type": "code",
   "execution_count": 14,
   "metadata": {},
   "outputs": [
    {
     "data": {
      "text/plain": [
       "0.9848873306783565"
      ]
     },
     "execution_count": 14,
     "metadata": {},
     "output_type": "execute_result"
    }
   ],
   "source": [
    "#roc auc score\n",
    "from sklearn.metrics import roc_auc_score,roc_curve\n",
    "from sklearn.metrics import roc_curve, auc\n",
    "roc_auc_score(y_test, y_pred, multi_class='ovo', average='weighted')"
   ]
  },
  {
   "cell_type": "code",
   "execution_count": 15,
   "metadata": {},
   "outputs": [
    {
     "data": {
      "image/png": "[encoded data removed]",
      "text/plain": [
       "<Figure size 432x288 with 1 Axes>"
      ]
     },
     "metadata": {
      "needs_background": "light"
     },
     "output_type": "display_data"
    }
   ],
   "source": [
    "from sklearn.metrics import roc_curve, auc\n",
    "import matplotlib.pyplot as plt\n",
    "# roc curve for classes\n",
    "fpr = {}\n",
    "tpr = {}\n",
    "roc_auc ={}\n",
    "\n",
    "for i in range(3):\n",
    "    fpr[i], tpr[i], _ = roc_curve(y_test[:, i], y_pred[:, i])\n",
    "    roc_auc[i] = auc(fpr[i], tpr[i])\n",
    "\n",
    "# Compute micro-average ROC curve and ROC area\n",
    "fpr[\"micro\"], tpr[\"micro\"], _ = roc_curve(y_test.ravel(), y_pred.ravel())\n",
    "roc_auc[\"micro\"] = auc(fpr[\"micro\"], tpr[\"micro\"])\n",
    "\n",
    "# plotting    \n",
    "plt.plot(fpr[0], tpr[0], linestyle='--',color='orange', label='MERS vs Rest')\n",
    "plt.plot(fpr[1], tpr[1], linestyle='--',color='green', label='SARS vs Rest')\n",
    "plt.plot(fpr[2], tpr[2], linestyle='--',color='blue', label='SARS-COV 2 vs Rest')\n",
    "plt.title('MLP_SB relu ROC curve')\n",
    "plt.xlabel('False Positive Rate')\n",
    "plt.ylabel('True Positive rate')\n",
    "plt.legend(loc='best')\n",
    "plt.show()"
   ]
  },
  {
   "cell_type": "markdown",
   "metadata": {},
   "source": [
    "### tanh activation"
   ]
  },
  {
   "cell_type": "code",
   "execution_count": 16,
   "metadata": {
    "scrolled": true
   },
   "outputs": [
    {
     "name": "stdout",
     "output_type": "stream",
     "text": [
      "Epoch 1/20\n",
      "64/64 [==============================] - 2s 31ms/step - loss: 0.6142 - accuracy: 0.7200 - val_loss: 0.4420 - val_accuracy: 0.7545\n",
      "Epoch 2/20\n",
      "64/64 [==============================] - 2s 28ms/step - loss: 0.3614 - accuracy: 0.8369 - val_loss: 0.2989 - val_accuracy: 0.8851\n",
      "Epoch 3/20\n",
      "64/64 [==============================] - 2s 28ms/step - loss: 0.2792 - accuracy: 0.8800 - val_loss: 0.2212 - val_accuracy: 0.9188\n",
      "Epoch 4/20\n",
      "64/64 [==============================] - 2s 28ms/step - loss: 0.2496 - accuracy: 0.8861 - val_loss: 0.3179 - val_accuracy: 0.8891\n",
      "Epoch 5/20\n",
      "64/64 [==============================] - 2s 29ms/step - loss: 0.3587 - accuracy: 0.8654 - val_loss: 0.2836 - val_accuracy: 0.9069\n",
      "Epoch 6/20\n",
      "64/64 [==============================] - 2s 29ms/step - loss: 0.2690 - accuracy: 0.8944 - val_loss: 0.3012 - val_accuracy: 0.8970\n",
      "Epoch 7/20\n",
      "64/64 [==============================] - 2s 28ms/step - loss: 0.2857 - accuracy: 0.8899 - val_loss: 0.3162 - val_accuracy: 0.8812\n",
      "Epoch 8/20\n",
      "64/64 [==============================] - 2s 28ms/step - loss: 0.2076 - accuracy: 0.9225 - val_loss: 0.2932 - val_accuracy: 0.8931\n",
      "Epoch 9/20\n",
      "64/64 [==============================] - 2s 28ms/step - loss: 0.2049 - accuracy: 0.9261 - val_loss: 0.2577 - val_accuracy: 0.9129\n",
      "Epoch 10/20\n",
      "64/64 [==============================] - 2s 29ms/step - loss: 0.1766 - accuracy: 0.9278 - val_loss: 0.2227 - val_accuracy: 0.9168\n",
      "Epoch 11/20\n",
      "64/64 [==============================] - 2s 29ms/step - loss: 0.1825 - accuracy: 0.9263 - val_loss: 0.2923 - val_accuracy: 0.8970\n",
      "Epoch 12/20\n",
      "64/64 [==============================] - 2s 28ms/step - loss: 0.1792 - accuracy: 0.9399 - val_loss: 0.2061 - val_accuracy: 0.9208\n",
      "Epoch 13/20\n",
      "64/64 [==============================] - 2s 29ms/step - loss: 0.1684 - accuracy: 0.9359 - val_loss: 0.2758 - val_accuracy: 0.8950\n",
      "Epoch 14/20\n",
      "64/64 [==============================] - 2s 29ms/step - loss: 0.1277 - accuracy: 0.9508 - val_loss: 0.2496 - val_accuracy: 0.9109\n",
      "Epoch 15/20\n",
      "64/64 [==============================] - 2s 29ms/step - loss: 0.1572 - accuracy: 0.9351 - val_loss: 0.2856 - val_accuracy: 0.9168\n",
      "Epoch 16/20\n",
      "64/64 [==============================] - 2s 28ms/step - loss: 0.1343 - accuracy: 0.9492 - val_loss: 0.2461 - val_accuracy: 0.9228\n",
      "Epoch 17/20\n",
      "64/64 [==============================] - 2s 28ms/step - loss: 0.1353 - accuracy: 0.9480 - val_loss: 0.3504 - val_accuracy: 0.8614\n",
      "Epoch 18/20\n",
      "64/64 [==============================] - 2s 28ms/step - loss: 0.2379 - accuracy: 0.8749 - val_loss: 0.3388 - val_accuracy: 0.9327\n",
      "Epoch 19/20\n",
      "64/64 [==============================] - 2s 28ms/step - loss: 0.1644 - accuracy: 0.9452 - val_loss: 0.3554 - val_accuracy: 0.8495\n",
      "Epoch 20/20\n",
      "64/64 [==============================] - 2s 28ms/step - loss: 0.2268 - accuracy: 0.8741 - val_loss: 0.3647 - val_accuracy: 0.8634\n"
     ]
    }
   ],
   "source": [
    "model = Sequential()\n",
    "\n",
    "#The dense layers used in the model\n",
    "#Activation model used is tanh\n",
    "model.add(layers.Dense(128, input_dim=input_dim, activation='tanh'))\n",
    "model.add(layers.Dense(512, input_dim=input_dim, activation='tanh'))\n",
    "model.add(layers.Dense(64, input_dim=input_dim, activation='tanh'))\n",
    "\n",
    "model.add(layers.Dense(3, input_dim=input_dim, activation='softmax'))\n",
    "model.compile(loss='categorical_crossentropy',optimizer='adam',metrics=['accuracy'])\n",
    "\n",
    "#Fitting the model with 15 epochs and with shuffle = True\n",
    "history = model.fit(X_train, y_train,epochs=20,verbose=1,validation_data=(X_test, y_test),shuffle=True)"
   ]
  },
  {
   "cell_type": "code",
   "execution_count": 17,
   "metadata": {},
   "outputs": [
    {
     "name": "stdout",
     "output_type": "stream",
     "text": [
      "64/64 [==============================] - 0s 7ms/step - loss: 0.2032 - accuracy: 0.8915\n",
      "Training Accuracy: 0.8915\n",
      "16/16 [==============================] - 0s 6ms/step - loss: 0.3647 - accuracy: 0.8634\n",
      "Testing Accuracy:  0.8634\n"
     ]
    }
   ],
   "source": [
    "#Printing the loss and accuracy of training and testing sets\n",
    "loss, accuracy = model.evaluate(X_train, y_train, verbose=1)\n",
    "print(\"Training Accuracy: {:.4f}\".format(accuracy))\n",
    "loss, accuracy = model.evaluate(X_test, y_test, verbose=1)\n",
    "print(\"Testing Accuracy:  {:.4f}\".format(accuracy))"
   ]
  },
  {
   "cell_type": "code",
   "execution_count": 18,
   "metadata": {},
   "outputs": [
    {
     "name": "stdout",
     "output_type": "stream",
     "text": [
      "[[121.  14.   0.]\n",
      " [ 55. 311.   0.]\n",
      " [  0.   0.   4.]]\n"
     ]
    }
   ],
   "source": [
    "y_pred = model.predict(X_test)\n",
    "Y_pred_classes = np.argmax(y_pred,axis=1)\n",
    "y_act = np.argmax(y_test,axis=1)\n",
    "\n",
    "conf_matrix = np.zeros((3,3))\n",
    "for i in range(len(y_act)):\n",
    "    conf_matrix[Y_pred_classes[i]][y_act[i]] += 1\n",
    "    \n",
    "print(conf_matrix)"
   ]
  },
  {
   "cell_type": "code",
   "execution_count": 19,
   "metadata": {},
   "outputs": [
    {
     "name": "stdout",
     "output_type": "stream",
     "text": [
      "Precision:  0.9153410240841935\n",
      "Recall:  0.881474358974359\n",
      "F1-score:  0.8927599220106002\n"
     ]
    }
   ],
   "source": [
    "precision = precision_score(Y_test, Y_pred_classes, average='macro')\n",
    "recall = recall_score(Y_test, Y_pred_classes, average='macro')\n",
    "f1score = f1_score(Y_test, Y_pred_classes, average='macro')\n",
    "print(\"Precision: \", precision)\n",
    "print(\"Recall: \", recall)\n",
    "print(\"F1-score: \", f1score)"
   ]
  },
  {
   "cell_type": "code",
   "execution_count": 20,
   "metadata": {},
   "outputs": [
    {
     "data": {
      "image/png": "[encoded data removed]",
      "text/plain": [
       "<Figure size 432x288 with 1 Axes>"
      ]
     },
     "metadata": {
      "needs_background": "light"
     },
     "output_type": "display_data"
    }
   ],
   "source": [
    "roc_auc_score(y_test, y_pred, multi_class='ovo', average='weighted')\n",
    "\n",
    "fpr = {}\n",
    "tpr = {}\n",
    "roc_auc ={}\n",
    "\n",
    "for i in range(3):\n",
    "    fpr[i], tpr[i], _ = roc_curve(y_test[:, i], y_pred[:, i])\n",
    "    roc_auc[i] = auc(fpr[i], tpr[i])\n",
    "\n",
    "# Compute micro-average ROC curve and ROC area\n",
    "fpr[\"micro\"], tpr[\"micro\"], _ = roc_curve(y_test.ravel(), y_pred.ravel())\n",
    "roc_auc[\"micro\"] = auc(fpr[\"micro\"], tpr[\"micro\"])\n",
    "\n",
    "# plotting    \n",
    "plt.plot(fpr[0], tpr[0], linestyle='--',color='orange', label='MERS vs Rest')\n",
    "plt.plot(fpr[1], tpr[1], linestyle='--',color='green', label='SARS vs Rest')\n",
    "plt.plot(fpr[2], tpr[2], linestyle='--',color='blue', label='SARS-COV 2 vs Rest')\n",
    "plt.title('MLP_SB tanh ROC curve')\n",
    "plt.xlabel('False Positive Rate')\n",
    "plt.ylabel('True Positive rate')\n",
    "plt.legend(loc='best')\n",
    "plt.show()"
   ]
  },
  {
   "cell_type": "markdown",
   "metadata": {},
   "source": [
    "### sigmoid activation"
   ]
  },
  {
   "cell_type": "code",
   "execution_count": 21,
   "metadata": {
    "scrolled": true
   },
   "outputs": [
    {
     "name": "stdout",
     "output_type": "stream",
     "text": [
      "Epoch 1/20\n",
      "64/64 [==============================] - 2s 31ms/step - loss: 0.6476 - accuracy: 0.7000 - val_loss: 0.4650 - val_accuracy: 0.8436\n",
      "Epoch 2/20\n",
      "64/64 [==============================] - 2s 29ms/step - loss: 0.4041 - accuracy: 0.8693 - val_loss: 0.2688 - val_accuracy: 0.9188\n",
      "Epoch 3/20\n",
      "64/64 [==============================] - 2s 29ms/step - loss: 0.2832 - accuracy: 0.8993 - val_loss: 0.3554 - val_accuracy: 0.8653\n",
      "Epoch 4/20\n",
      "64/64 [==============================] - 2s 28ms/step - loss: 0.2634 - accuracy: 0.9135 - val_loss: 0.2455 - val_accuracy: 0.9129\n",
      "Epoch 5/20\n",
      "64/64 [==============================] - 2s 28ms/step - loss: 0.1998 - accuracy: 0.9374 - val_loss: 0.2049 - val_accuracy: 0.9307\n",
      "Epoch 6/20\n",
      "64/64 [==============================] - 2s 28ms/step - loss: 0.1765 - accuracy: 0.9439 - val_loss: 0.2163 - val_accuracy: 0.9208\n",
      "Epoch 7/20\n",
      "64/64 [==============================] - 2s 28ms/step - loss: 0.1489 - accuracy: 0.9455 - val_loss: 0.2141 - val_accuracy: 0.9287\n",
      "Epoch 8/20\n",
      "64/64 [==============================] - 2s 28ms/step - loss: 0.1755 - accuracy: 0.9391 - val_loss: 0.3281 - val_accuracy: 0.8733\n",
      "Epoch 9/20\n",
      "64/64 [==============================] - 2s 28ms/step - loss: 0.1431 - accuracy: 0.9464 - val_loss: 0.1853 - val_accuracy: 0.9505\n",
      "Epoch 10/20\n",
      "64/64 [==============================] - 2s 31ms/step - loss: 0.0992 - accuracy: 0.9662 - val_loss: 0.1962 - val_accuracy: 0.9327\n",
      "Epoch 11/20\n",
      "64/64 [==============================] - 2s 35ms/step - loss: 0.0693 - accuracy: 0.9756 - val_loss: 0.1946 - val_accuracy: 0.9465\n",
      "Epoch 12/20\n",
      "64/64 [==============================] - 2s 32ms/step - loss: 0.0701 - accuracy: 0.9784 - val_loss: 0.2209 - val_accuracy: 0.9228\n",
      "Epoch 13/20\n",
      "64/64 [==============================] - 2s 31ms/step - loss: 0.0802 - accuracy: 0.9703 - val_loss: 0.2251 - val_accuracy: 0.9248\n",
      "Epoch 14/20\n",
      "64/64 [==============================] - 2s 30ms/step - loss: 0.0747 - accuracy: 0.9710 - val_loss: 0.1920 - val_accuracy: 0.9446\n",
      "Epoch 15/20\n",
      "64/64 [==============================] - 2s 29ms/step - loss: 0.0607 - accuracy: 0.9814 - val_loss: 0.1780 - val_accuracy: 0.9465\n",
      "Epoch 16/20\n",
      "64/64 [==============================] - 2s 29ms/step - loss: 0.0440 - accuracy: 0.9864 - val_loss: 0.2169 - val_accuracy: 0.9426\n",
      "Epoch 17/20\n",
      "64/64 [==============================] - 2s 29ms/step - loss: 0.0365 - accuracy: 0.9884 - val_loss: 0.2619 - val_accuracy: 0.9050\n",
      "Epoch 18/20\n",
      "64/64 [==============================] - 2s 29ms/step - loss: 0.0699 - accuracy: 0.9662 - val_loss: 0.1995 - val_accuracy: 0.9446\n",
      "Epoch 19/20\n",
      "64/64 [==============================] - 2s 30ms/step - loss: 0.0462 - accuracy: 0.9851 - val_loss: 0.2372 - val_accuracy: 0.9465\n",
      "Epoch 20/20\n",
      "64/64 [==============================] - 2s 30ms/step - loss: 0.1029 - accuracy: 0.9590 - val_loss: 0.1767 - val_accuracy: 0.9485\n"
     ]
    }
   ],
   "source": [
    "model = Sequential()\n",
    "\n",
    "#The dense layers used in the model\n",
    "#Activation model used is sigmoid\n",
    "model.add(layers.Dense(128, input_dim=input_dim, activation='sigmoid'))\n",
    "model.add(layers.Dense(512, input_dim=input_dim, activation='sigmoid'))\n",
    "model.add(layers.Dense(64, input_dim=input_dim, activation='sigmoid'))\n",
    "model.add(layers.Dense(3, input_dim=input_dim, activation='softmax'))\n",
    "model.compile(loss='categorical_crossentropy',optimizer='adam',metrics=['accuracy'])\n",
    "history = model.fit(X_train, y_train,epochs=20,verbose=1,validation_data=(X_test, y_test),shuffle=True)"
   ]
  },
  {
   "cell_type": "code",
   "execution_count": 22,
   "metadata": {},
   "outputs": [
    {
     "name": "stdout",
     "output_type": "stream",
     "text": [
      "64/64 [==============================] - 0s 7ms/step - loss: 0.0530 - accuracy: 0.9861\n",
      "Training Accuracy: 0.9861\n",
      "16/16 [==============================] - 0s 7ms/step - loss: 0.1767 - accuracy: 0.9485\n",
      "Testing Accuracy:  0.9485\n"
     ]
    }
   ],
   "source": [
    "#Printing the loss and accuracy of training and testing sets\n",
    "loss, accuracy = model.evaluate(X_train, y_train, verbose=1)\n",
    "print(\"Training Accuracy: {:.4f}\".format(accuracy))\n",
    "loss, accuracy = model.evaluate(X_test, y_test, verbose=1)\n",
    "print(\"Testing Accuracy:  {:.4f}\".format(accuracy))"
   ]
  },
  {
   "cell_type": "code",
   "execution_count": 23,
   "metadata": {},
   "outputs": [
    {
     "name": "stdout",
     "output_type": "stream",
     "text": [
      "[[162.  12.   0.]\n",
      " [ 14. 313.   0.]\n",
      " [  0.   0.   4.]]\n"
     ]
    }
   ],
   "source": [
    "y_pred = model.predict(X_test)\n",
    "Y_pred_classes = np.argmax(y_pred,axis=1)\n",
    "y_act = np.argmax(y_test,axis=1)\n",
    "\n",
    "conf_matrix = np.zeros((3,3))\n",
    "for i in range(len(y_act)):\n",
    "    conf_matrix[Y_pred_classes[i]][y_act[i]] += 1\n",
    "    \n",
    "print(conf_matrix)"
   ]
  },
  {
   "cell_type": "code",
   "execution_count": 24,
   "metadata": {},
   "outputs": [
    {
     "name": "stdout",
     "output_type": "stream",
     "text": [
      "Precision:  0.9627403423670428\n",
      "Recall:  0.9611771561771562\n",
      "F1-score:  0.961945661700263\n"
     ]
    }
   ],
   "source": [
    "precision = precision_score(Y_test, Y_pred_classes, average='macro')\n",
    "recall = recall_score(Y_test, Y_pred_classes, average='macro')\n",
    "f1score = f1_score(Y_test, Y_pred_classes, average='macro')\n",
    "print(\"Precision: \", precision)\n",
    "print(\"Recall: \", recall)\n",
    "print(\"F1-score: \", f1score)"
   ]
  },
  {
   "cell_type": "code",
   "execution_count": 25,
   "metadata": {},
   "outputs": [
    {
     "data": {
      "image/png": "[encoded data removed]",
      "text/plain": [
       "<Figure size 432x288 with 1 Axes>"
      ]
     },
     "metadata": {
      "needs_background": "light"
     },
     "output_type": "display_data"
    }
   ],
   "source": [
    "roc_auc_score(y_test, y_pred, multi_class='ovo', average='weighted')\n",
    "\n",
    "fpr = {}\n",
    "tpr = {}\n",
    "roc_auc ={}\n",
    "\n",
    "for i in range(3):\n",
    "    fpr[i], tpr[i], _ = roc_curve(y_test[:, i], y_pred[:, i])\n",
    "    roc_auc[i] = auc(fpr[i], tpr[i])\n",
    "\n",
    "# Compute micro-average ROC curve and ROC area\n",
    "fpr[\"micro\"], tpr[\"micro\"], _ = roc_curve(y_test.ravel(), y_pred.ravel())\n",
    "roc_auc[\"micro\"] = auc(fpr[\"micro\"], tpr[\"micro\"])\n",
    "\n",
    "# plotting    \n",
    "plt.plot(fpr[0], tpr[0], linestyle='--',color='orange', label='MERS vs Rest')\n",
    "plt.plot(fpr[1], tpr[1], linestyle='--',color='green', label='SARS vs Rest')\n",
    "plt.plot(fpr[2], tpr[2], linestyle='--',color='blue', label='SARS-COV 2 vs Rest')\n",
    "plt.title('MLP_SB sigmoid ROC curve')\n",
    "plt.xlabel('False Positive Rate')\n",
    "plt.ylabel('True Positive rate')\n",
    "plt.legend(loc='best')\n",
    "plt.show()"
   ]
  },
  {
   "cell_type": "markdown",
   "metadata": {},
   "source": [
    "### elu activation"
   ]
  },
  {
   "cell_type": "code",
   "execution_count": 26,
   "metadata": {
    "scrolled": true
   },
   "outputs": [
    {
     "name": "stdout",
     "output_type": "stream",
     "text": [
      "Epoch 1/20\n",
      "64/64 [==============================] - 2s 32ms/step - loss: 0.9288 - accuracy: 0.6898 - val_loss: 0.5683 - val_accuracy: 0.8356\n",
      "Epoch 2/20\n",
      "64/64 [==============================] - 2s 29ms/step - loss: 0.3557 - accuracy: 0.8661 - val_loss: 0.3428 - val_accuracy: 0.8673\n",
      "Epoch 3/20\n",
      "64/64 [==============================] - 2s 29ms/step - loss: 0.3480 - accuracy: 0.9023 - val_loss: 0.2233 - val_accuracy: 0.9149\n",
      "Epoch 4/20\n",
      "64/64 [==============================] - 2s 30ms/step - loss: 0.1718 - accuracy: 0.9286 - val_loss: 0.2215 - val_accuracy: 0.9109\n",
      "Epoch 5/20\n",
      "64/64 [==============================] - 2s 30ms/step - loss: 0.1209 - accuracy: 0.9589 - val_loss: 0.2670 - val_accuracy: 0.9208\n",
      "Epoch 6/20\n",
      "64/64 [==============================] - 2s 30ms/step - loss: 0.1440 - accuracy: 0.9410 - val_loss: 0.2008 - val_accuracy: 0.9347\n",
      "Epoch 7/20\n",
      "64/64 [==============================] - 2s 30ms/step - loss: 0.1089 - accuracy: 0.9599 - val_loss: 0.2113 - val_accuracy: 0.9406\n",
      "Epoch 8/20\n",
      "64/64 [==============================] - 2s 30ms/step - loss: 0.0507 - accuracy: 0.9802 - val_loss: 0.2487 - val_accuracy: 0.8950\n",
      "Epoch 9/20\n",
      "64/64 [==============================] - 2s 30ms/step - loss: 0.0986 - accuracy: 0.9613 - val_loss: 0.5122 - val_accuracy: 0.8871\n",
      "Epoch 10/20\n",
      "64/64 [==============================] - 2s 30ms/step - loss: 0.0974 - accuracy: 0.9610 - val_loss: 0.2133 - val_accuracy: 0.9485\n",
      "Epoch 11/20\n",
      "64/64 [==============================] - 2s 30ms/step - loss: 0.0352 - accuracy: 0.9874 - val_loss: 0.1727 - val_accuracy: 0.9624\n",
      "Epoch 12/20\n",
      "64/64 [==============================] - 2s 29ms/step - loss: 0.0262 - accuracy: 0.9896 - val_loss: 0.2339 - val_accuracy: 0.9446\n",
      "Epoch 13/20\n",
      "64/64 [==============================] - 2s 28ms/step - loss: 0.0170 - accuracy: 0.9937 - val_loss: 0.2433 - val_accuracy: 0.9545\n",
      "Epoch 14/20\n",
      "64/64 [==============================] - 2s 29ms/step - loss: 0.0135 - accuracy: 0.9959 - val_loss: 0.2541 - val_accuracy: 0.9426\n",
      "Epoch 15/20\n",
      "64/64 [==============================] - 2s 29ms/step - loss: 0.0105 - accuracy: 0.9967 - val_loss: 0.4262 - val_accuracy: 0.9129\n",
      "Epoch 16/20\n",
      "64/64 [==============================] - 2s 29ms/step - loss: 0.0850 - accuracy: 0.9746 - val_loss: 0.1858 - val_accuracy: 0.9525\n",
      "Epoch 17/20\n",
      "64/64 [==============================] - 2s 29ms/step - loss: 0.0211 - accuracy: 0.9914 - val_loss: 0.3145 - val_accuracy: 0.9307\n",
      "Epoch 18/20\n",
      "64/64 [==============================] - 2s 29ms/step - loss: 0.0219 - accuracy: 0.9934 - val_loss: 0.2470 - val_accuracy: 0.9564\n",
      "Epoch 19/20\n",
      "64/64 [==============================] - 2s 29ms/step - loss: 0.0111 - accuracy: 0.9968 - val_loss: 0.3892 - val_accuracy: 0.9168\n",
      "Epoch 20/20\n",
      "64/64 [==============================] - 2s 30ms/step - loss: 0.0630 - accuracy: 0.9767 - val_loss: 0.2207 - val_accuracy: 0.9485\n"
     ]
    }
   ],
   "source": [
    "model = Sequential()\n",
    "\n",
    "model.add(layers.Dense(128, input_dim=input_dim, activation='elu'))\n",
    "model.add(layers.Dense(512, input_dim=input_dim, activation='elu'))\n",
    "model.add(layers.Dense(64, input_dim=input_dim, activation='elu'))\n",
    "model.add(layers.Dense(3, input_dim=input_dim, activation='softmax'))\n",
    "    \n",
    "model.compile(loss='categorical_crossentropy',optimizer='adam',metrics=['accuracy'])\n",
    "\n",
    "history = model.fit(X_train, y_train,epochs=20,verbose=1,validation_data=(X_test, y_test),shuffle=True)"
   ]
  },
  {
   "cell_type": "code",
   "execution_count": 27,
   "metadata": {},
   "outputs": [
    {
     "name": "stdout",
     "output_type": "stream",
     "text": [
      "64/64 [==============================] - 1s 8ms/step - loss: 0.0151 - accuracy: 0.9931\n",
      "Training Accuracy: 0.9931\n",
      "16/16 [==============================] - 0s 7ms/step - loss: 0.2207 - accuracy: 0.9485\n",
      "Testing Accuracy:  0.9485\n"
     ]
    }
   ],
   "source": [
    "#Printing the loss and accuracy of training and testing sets\n",
    "loss, accuracy = model.evaluate(X_train, y_train, verbose=1)\n",
    "print(\"Training Accuracy: {:.4f}\".format(accuracy))\n",
    "loss, accuracy = model.evaluate(X_test, y_test, verbose=1)\n",
    "print(\"Testing Accuracy:  {:.4f}\".format(accuracy))"
   ]
  },
  {
   "cell_type": "code",
   "execution_count": 28,
   "metadata": {},
   "outputs": [
    {
     "name": "stdout",
     "output_type": "stream",
     "text": [
      "[[158.   8.   0.]\n",
      " [ 18. 317.   0.]\n",
      " [  0.   0.   4.]]\n"
     ]
    }
   ],
   "source": [
    "y_pred = model.predict(X_test)\n",
    "Y_pred_classes = np.argmax(y_pred,axis=1)\n",
    "y_act = np.argmax(y_test,axis=1)\n",
    "\n",
    "conf_matrix = np.zeros((3,3))\n",
    "for i in range(len(y_act)):\n",
    "    conf_matrix[Y_pred_classes[i]][y_act[i]] += 1\n",
    "    \n",
    "print(conf_matrix)"
   ]
  },
  {
   "cell_type": "code",
   "execution_count": 29,
   "metadata": {},
   "outputs": [
    {
     "name": "stdout",
     "output_type": "stream",
     "text": [
      "Precision:  0.9660252952106935\n",
      "Recall:  0.9577039627039627\n",
      "F1-score:  0.9615275562643983\n"
     ]
    }
   ],
   "source": [
    "precision = precision_score(Y_test, Y_pred_classes, average='macro')\n",
    "recall = recall_score(Y_test, Y_pred_classes, average='macro')\n",
    "f1score = f1_score(Y_test, Y_pred_classes, average='macro')\n",
    "print(\"Precision: \", precision)\n",
    "print(\"Recall: \", recall)\n",
    "print(\"F1-score: \", f1score)"
   ]
  },
  {
   "cell_type": "code",
   "execution_count": 30,
   "metadata": {},
   "outputs": [
    {
     "data": {
      "image/png": "[encoded data removed]",
      "text/plain": [
       "<Figure size 432x288 with 1 Axes>"
      ]
     },
     "metadata": {
      "needs_background": "light"
     },
     "output_type": "display_data"
    }
   ],
   "source": [
    "roc_auc_score(y_test, y_pred, multi_class='ovo', average='weighted')\n",
    "\n",
    "fpr = {}\n",
    "tpr = {}\n",
    "roc_auc ={}\n",
    "\n",
    "for i in range(3):\n",
    "    fpr[i], tpr[i], _ = roc_curve(y_test[:, i], y_pred[:, i])\n",
    "    roc_auc[i] = auc(fpr[i], tpr[i])\n",
    "\n",
    "# Compute micro-average ROC curve and ROC area\n",
    "fpr[\"micro\"], tpr[\"micro\"], _ = roc_curve(y_test.ravel(), y_pred.ravel())\n",
    "roc_auc[\"micro\"] = auc(fpr[\"micro\"], tpr[\"micro\"])\n",
    "\n",
    "# plotting    \n",
    "plt.plot(fpr[0], tpr[0], linestyle='--',color='orange', label='MERS vs Rest')\n",
    "plt.plot(fpr[1], tpr[1], linestyle='--',color='green', label='SARS vs Rest')\n",
    "plt.plot(fpr[2], tpr[2], linestyle='--',color='blue', label='SARS-COV 2 vs Rest')\n",
    "plt.title('MLP_SB elu ROC curve')\n",
    "plt.xlabel('False Positive Rate')\n",
    "plt.ylabel('True Positive rate')\n",
    "plt.legend(loc='best')\n",
    "plt.show()"
   ]
  },
  {
   "cell_type": "markdown",
   "metadata": {},
   "source": [
    "### selu Activation"
   ]
  },
  {
   "cell_type": "code",
   "execution_count": 31,
   "metadata": {
    "scrolled": true
   },
   "outputs": [
    {
     "name": "stdout",
     "output_type": "stream",
     "text": [
      "Epoch 1/20\n",
      "64/64 [==============================] - 2s 31ms/step - loss: 1.3427 - accuracy: 0.7129 - val_loss: 0.8267 - val_accuracy: 0.6119\n",
      "Epoch 2/20\n",
      "64/64 [==============================] - 2s 29ms/step - loss: 0.4999 - accuracy: 0.7858 - val_loss: 0.4691 - val_accuracy: 0.8792\n",
      "Epoch 3/20\n",
      "64/64 [==============================] - 2s 29ms/step - loss: 0.3062 - accuracy: 0.9044 - val_loss: 0.2655 - val_accuracy: 0.9069\n",
      "Epoch 4/20\n",
      "64/64 [==============================] - 2s 29ms/step - loss: 0.1824 - accuracy: 0.9435 - val_loss: 0.4465 - val_accuracy: 0.8317\n",
      "Epoch 5/20\n",
      "64/64 [==============================] - 2s 29ms/step - loss: 0.2310 - accuracy: 0.9165 - val_loss: 0.3360 - val_accuracy: 0.9188\n",
      "Epoch 6/20\n",
      "64/64 [==============================] - 2s 29ms/step - loss: 0.1245 - accuracy: 0.9494 - val_loss: 0.2295 - val_accuracy: 0.9287\n",
      "Epoch 7/20\n",
      "64/64 [==============================] - 2s 29ms/step - loss: 0.0775 - accuracy: 0.9698 - val_loss: 0.2375 - val_accuracy: 0.9366\n",
      "Epoch 8/20\n",
      "64/64 [==============================] - 2s 29ms/step - loss: 0.1752 - accuracy: 0.9419 - val_loss: 0.2135 - val_accuracy: 0.9406\n",
      "Epoch 9/20\n",
      "64/64 [==============================] - 2s 28ms/step - loss: 0.0929 - accuracy: 0.9688 - val_loss: 0.4373 - val_accuracy: 0.9366\n",
      "Epoch 10/20\n",
      "64/64 [==============================] - 2s 29ms/step - loss: 0.1481 - accuracy: 0.9619 - val_loss: 0.2158 - val_accuracy: 0.9426\n",
      "Epoch 11/20\n",
      "64/64 [==============================] - 2s 30ms/step - loss: 0.0538 - accuracy: 0.9803 - val_loss: 0.3102 - val_accuracy: 0.9228\n",
      "Epoch 12/20\n",
      "64/64 [==============================] - 2s 30ms/step - loss: 0.0402 - accuracy: 0.9844 - val_loss: 0.5635 - val_accuracy: 0.9287\n",
      "Epoch 13/20\n",
      "64/64 [==============================] - 2s 29ms/step - loss: 0.0918 - accuracy: 0.9683 - val_loss: 0.4575 - val_accuracy: 0.9347\n",
      "Epoch 14/20\n",
      "64/64 [==============================] - 2s 29ms/step - loss: 0.0302 - accuracy: 0.9905 - val_loss: 0.2817 - val_accuracy: 0.9426\n",
      "Epoch 15/20\n",
      "64/64 [==============================] - 2s 29ms/step - loss: 0.2348 - accuracy: 0.9435 - val_loss: 0.3285 - val_accuracy: 0.9406\n",
      "Epoch 16/20\n",
      "64/64 [==============================] - 2s 29ms/step - loss: 0.0313 - accuracy: 0.9878 - val_loss: 0.2111 - val_accuracy: 0.9426\n",
      "Epoch 17/20\n",
      "64/64 [==============================] - 2s 30ms/step - loss: 0.0610 - accuracy: 0.9793 - val_loss: 0.3819 - val_accuracy: 0.9386\n",
      "Epoch 18/20\n",
      "64/64 [==============================] - 2s 30ms/step - loss: 0.0266 - accuracy: 0.9895 - val_loss: 0.2824 - val_accuracy: 0.9465\n",
      "Epoch 19/20\n",
      "64/64 [==============================] - 2s 29ms/step - loss: 0.0096 - accuracy: 0.9972 - val_loss: 0.2844 - val_accuracy: 0.9485\n",
      "Epoch 20/20\n",
      "64/64 [==============================] - 2s 29ms/step - loss: 0.0030 - accuracy: 0.9995 - val_loss: 0.2878 - val_accuracy: 0.9485\n"
     ]
    }
   ],
   "source": [
    "model = Sequential()\n",
    "\n",
    "model.add(layers.Dense(128, input_dim=input_dim, activation='selu'))\n",
    "model.add(layers.Dense(512, input_dim=input_dim, activation='selu'))\n",
    "model.add(layers.Dense(64, input_dim=input_dim, activation='selu'))\n",
    "model.add(layers.Dense(3, input_dim=input_dim, activation='softmax'))\n",
    "    \n",
    "model.compile(loss='categorical_crossentropy',optimizer='adam',metrics=['accuracy'])\n",
    "\n",
    "history = model.fit(X_train, y_train,epochs=20,verbose=1,validation_data=(X_test, y_test),shuffle=True)"
   ]
  },
  {
   "cell_type": "code",
   "execution_count": 32,
   "metadata": {},
   "outputs": [
    {
     "name": "stdout",
     "output_type": "stream",
     "text": [
      "64/64 [==============================] - 0s 7ms/step - loss: 0.0033 - accuracy: 0.9985\n",
      "Training Accuracy: 0.9985\n",
      "16/16 [==============================] - 0s 7ms/step - loss: 0.2878 - accuracy: 0.9485\n",
      "Testing Accuracy:  0.9485\n"
     ]
    }
   ],
   "source": [
    "#Printing the loss and accuracy of training and testing sets\n",
    "loss, accuracy = model.evaluate(X_train, y_train, verbose=1)\n",
    "print(\"Training Accuracy: {:.4f}\".format(accuracy))\n",
    "loss, accuracy = model.evaluate(X_test, y_test, verbose=1)\n",
    "print(\"Testing Accuracy:  {:.4f}\".format(accuracy))"
   ]
  },
  {
   "cell_type": "code",
   "execution_count": 33,
   "metadata": {},
   "outputs": [
    {
     "name": "stdout",
     "output_type": "stream",
     "text": [
      "[[156.   6.   0.]\n",
      " [ 20. 319.   0.]\n",
      " [  0.   0.   4.]]\n"
     ]
    }
   ],
   "source": [
    "y_pred = model.predict(X_test)\n",
    "Y_pred_classes = np.argmax(y_pred,axis=1)\n",
    "y_act = np.argmax(y_test,axis=1)\n",
    "\n",
    "conf_matrix = np.zeros((3,3))\n",
    "for i in range(len(y_act)):\n",
    "    conf_matrix[Y_pred_classes[i]][y_act[i]] += 1\n",
    "    \n",
    "print(conf_matrix)"
   ]
  },
  {
   "cell_type": "code",
   "execution_count": 34,
   "metadata": {},
   "outputs": [
    {
     "name": "stdout",
     "output_type": "stream",
     "text": [
      "Precision:  0.9679886376051567\n",
      "Recall:  0.955967365967366\n",
      "F1-score:  0.961306765523633\n"
     ]
    }
   ],
   "source": [
    "precision = precision_score(Y_test, Y_pred_classes, average='macro')\n",
    "recall = recall_score(Y_test, Y_pred_classes, average='macro')\n",
    "f1score = f1_score(Y_test, Y_pred_classes, average='macro')\n",
    "print(\"Precision: \", precision)\n",
    "print(\"Recall: \", recall)\n",
    "print(\"F1-score: \", f1score)"
   ]
  },
  {
   "cell_type": "code",
   "execution_count": 35,
   "metadata": {},
   "outputs": [
    {
     "data": {
      "image/png": "[encoded data removed]",
      "text/plain": [
       "<Figure size 432x288 with 1 Axes>"
      ]
     },
     "metadata": {
      "needs_background": "light"
     },
     "output_type": "display_data"
    }
   ],
   "source": [
    "roc_auc_score(y_test, y_pred, multi_class='ovo', average='weighted')\n",
    "\n",
    "fpr = {}\n",
    "tpr = {}\n",
    "roc_auc ={}\n",
    "\n",
    "for i in range(3):\n",
    "    fpr[i], tpr[i], _ = roc_curve(y_test[:, i], y_pred[:, i])\n",
    "    roc_auc[i] = auc(fpr[i], tpr[i])\n",
    "\n",
    "# Compute micro-average ROC curve and ROC area\n",
    "fpr[\"micro\"], tpr[\"micro\"], _ = roc_curve(y_test.ravel(), y_pred.ravel())\n",
    "roc_auc[\"micro\"] = auc(fpr[\"micro\"], tpr[\"micro\"])\n",
    "\n",
    "# plotting    \n",
    "plt.plot(fpr[0], tpr[0], linestyle='--',color='orange', label='MERS vs Rest')\n",
    "plt.plot(fpr[1], tpr[1], linestyle='--',color='green', label='SARS vs Rest')\n",
    "plt.plot(fpr[2], tpr[2], linestyle='--',color='blue', label='SARS-COV 2 vs Rest')\n",
    "plt.title('MLP_SB selu ROC curve')\n",
    "plt.xlabel('False Positive Rate')\n",
    "plt.ylabel('True Positive rate')\n",
    "plt.legend(loc='best')\n",
    "plt.show()"
   ]
  }
 ],
 "metadata": {
  "kernelspec": {
   "display_name": "Python 3",
   "language": "python",
   "name": "python3"
  },
  "language_info": {
   "codemirror_mode": {
    "name": "ipython",
    "version": 3
   },
   "file_extension": ".py",
   "mimetype": "text/x-python",
   "name": "python",
   "nbconvert_exporter": "python",
   "pygments_lexer": "ipython3",
   "version": "3.8.8"
  }
 },
 "nbformat": 4,
 "nbformat_minor": 4
}
