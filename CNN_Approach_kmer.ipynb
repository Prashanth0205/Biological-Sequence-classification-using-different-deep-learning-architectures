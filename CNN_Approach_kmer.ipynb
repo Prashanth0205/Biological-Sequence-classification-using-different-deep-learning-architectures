{
 "cells": [
  {
   "cell_type": "code",
   "execution_count": 1,
   "metadata": {},
   "outputs": [],
   "source": [
    "import pandas as pd\n",
    "import numpy as np\n",
    "import matplotlib.pyplot as plt\n",
    "from sklearn import preprocessing\n",
    "from itertools import repeat\n",
    "df = pd.read_csv(\"CombinedSequences_ppr.csv\")"
   ]
  },
  {
   "cell_type": "code",
   "execution_count": 2,
   "metadata": {},
   "outputs": [],
   "source": [
    "seq = df['Sequence'].to_numpy()\n",
    "\n",
    "def kmerise(line,k):  # String and k are inputs\n",
    "    kmerised_array = []; # Final kmerised list\n",
    "    for i in line:\n",
    "        temp = []\n",
    "        for j in range(0,len(i),k): \n",
    "            temp.append(i[j:j+k]) #append substring in each iter \n",
    "        kmerised_array.append(temp)\n",
    "    \n",
    "    return kmerised_array"
   ]
  },
  {
   "cell_type": "code",
   "execution_count": 3,
   "metadata": {},
   "outputs": [
    {
     "data": {
      "text/html": [
       "<div>\n",
       "<style scoped>\n",
       "    .dataframe tbody tr th:only-of-type {\n",
       "        vertical-align: middle;\n",
       "    }\n",
       "\n",
       "    .dataframe tbody tr th {\n",
       "        vertical-align: top;\n",
       "    }\n",
       "\n",
       "    .dataframe thead th {\n",
       "        text-align: right;\n",
       "    }\n",
       "</style>\n",
       "<table border=\"1\" class=\"dataframe\">\n",
       "  <thead>\n",
       "    <tr style=\"text-align: right;\">\n",
       "      <th></th>\n",
       "      <th>AccessionID</th>\n",
       "      <th>Sequence</th>\n",
       "    </tr>\n",
       "  </thead>\n",
       "  <tbody>\n",
       "    <tr>\n",
       "      <th>0</th>\n",
       "      <td>0</td>\n",
       "      <td>ATGAGAGTTCAAAGACCACCCACTCTCTTGTTAGTGTTCTCACTCT...</td>\n",
       "    </tr>\n",
       "    <tr>\n",
       "      <th>1</th>\n",
       "      <td>0</td>\n",
       "      <td>ATGATACACTCAGTGTTTCTACTGATGTTCTTGTTAACACCTACAG...</td>\n",
       "    </tr>\n",
       "    <tr>\n",
       "      <th>2</th>\n",
       "      <td>0</td>\n",
       "      <td>TATGCCTAACATGTGTAGGATTTTCGCGTCTCTGATTTTGGCACGC...</td>\n",
       "    </tr>\n",
       "    <tr>\n",
       "      <th>3</th>\n",
       "      <td>0</td>\n",
       "      <td>TATGCCTAACATGTGTAGGATTTTTGCATCTCTGATTTTGGCACGC...</td>\n",
       "    </tr>\n",
       "    <tr>\n",
       "      <th>4</th>\n",
       "      <td>0</td>\n",
       "      <td>TATGCCTAACATGTGTAGGATTTTCGCGTCTCTGATTTTGGCACGC...</td>\n",
       "    </tr>\n",
       "  </tbody>\n",
       "</table>\n",
       "</div>"
      ],
      "text/plain": [
       "   AccessionID                                           Sequence\n",
       "0            0  ATGAGAGTTCAAAGACCACCCACTCTCTTGTTAGTGTTCTCACTCT...\n",
       "1            0  ATGATACACTCAGTGTTTCTACTGATGTTCTTGTTAACACCTACAG...\n",
       "2            0  TATGCCTAACATGTGTAGGATTTTCGCGTCTCTGATTTTGGCACGC...\n",
       "3            0  TATGCCTAACATGTGTAGGATTTTTGCATCTCTGATTTTGGCACGC...\n",
       "4            0  TATGCCTAACATGTGTAGGATTTTCGCGTCTCTGATTTTGGCACGC..."
      ]
     },
     "execution_count": 3,
     "metadata": {},
     "output_type": "execute_result"
    }
   ],
   "source": [
    "df['AccessionID'] = pd.factorize(df['AccessionID'])[0]\n",
    "df.head()"
   ]
  },
  {
   "cell_type": "code",
   "execution_count": 4,
   "metadata": {},
   "outputs": [
    {
     "data": {
      "text/html": [
       "<div>\n",
       "<style scoped>\n",
       "    .dataframe tbody tr th:only-of-type {\n",
       "        vertical-align: middle;\n",
       "    }\n",
       "\n",
       "    .dataframe tbody tr th {\n",
       "        vertical-align: top;\n",
       "    }\n",
       "\n",
       "    .dataframe thead th {\n",
       "        text-align: right;\n",
       "    }\n",
       "</style>\n",
       "<table border=\"1\" class=\"dataframe\">\n",
       "  <thead>\n",
       "    <tr style=\"text-align: right;\">\n",
       "      <th></th>\n",
       "      <th>AccessionID</th>\n",
       "      <th>Sequence</th>\n",
       "    </tr>\n",
       "  </thead>\n",
       "  <tbody>\n",
       "    <tr>\n",
       "      <th>2519</th>\n",
       "      <td>2</td>\n",
       "      <td>GACTAAAGATAAAAATTATATACGTATAATTTTTGTCTCTCTAGCT...</td>\n",
       "    </tr>\n",
       "    <tr>\n",
       "      <th>2520</th>\n",
       "      <td>2</td>\n",
       "      <td>GACAAAGGTGAAAATTAATATATATATATTAATTTTACTCCTCCTC...</td>\n",
       "    </tr>\n",
       "    <tr>\n",
       "      <th>2521</th>\n",
       "      <td>2</td>\n",
       "      <td>GTCATTTGGTAAAATATAATATATATTTTATCACTCTAGCTTCGCT...</td>\n",
       "    </tr>\n",
       "    <tr>\n",
       "      <th>2522</th>\n",
       "      <td>2</td>\n",
       "      <td>GACAAAGCTCAAAAATATATATATATATTTTTGTTGCTCCTAGCTT...</td>\n",
       "    </tr>\n",
       "    <tr>\n",
       "      <th>2523</th>\n",
       "      <td>2</td>\n",
       "      <td>GACTAAAGATAAAAATTATAGCATTAGTCTATAATTTTATCTCCCT...</td>\n",
       "    </tr>\n",
       "  </tbody>\n",
       "</table>\n",
       "</div>"
      ],
      "text/plain": [
       "      AccessionID                                           Sequence\n",
       "2519            2  GACTAAAGATAAAAATTATATACGTATAATTTTTGTCTCTCTAGCT...\n",
       "2520            2  GACAAAGGTGAAAATTAATATATATATATTAATTTTACTCCTCCTC...\n",
       "2521            2  GTCATTTGGTAAAATATAATATATATTTTATCACTCTAGCTTCGCT...\n",
       "2522            2  GACAAAGCTCAAAAATATATATATATATTTTTGTTGCTCCTAGCTT...\n",
       "2523            2  GACTAAAGATAAAAATTATAGCATTAGTCTATAATTTTATCTCCCT..."
      ]
     },
     "execution_count": 4,
     "metadata": {},
     "output_type": "execute_result"
    }
   ],
   "source": [
    "df.tail()"
   ]
  },
  {
   "cell_type": "code",
   "execution_count": 5,
   "metadata": {},
   "outputs": [],
   "source": [
    "k = 15\n",
    "kmers_list =  kmerise(seq,k)"
   ]
  },
  {
   "cell_type": "code",
   "execution_count": 6,
   "metadata": {},
   "outputs": [],
   "source": [
    "baseDict = {'A': 1, 'C': 2, 'G': 3, 'T': 4, 'R': 5, 'Y': 6, 'S': 7, 'W': 8, 'K': 9, 'M': 10, 'B': 11, 'D': 12, 'H': 13, 'V': 14,'N': 15}"
   ]
  },
  {
   "cell_type": "code",
   "execution_count": 7,
   "metadata": {},
   "outputs": [],
   "source": [
    "def vectorizedList(line):  # String and k are inputs\n",
    "    vectorized_array = []; # Final vectorised list\n",
    "    for i in line:\n",
    "        temp = \"\"\n",
    "        for j in range(len(i)):\n",
    "            temp += str(baseDict[i[j]])\n",
    "        vectorized_array.append(int(temp))\n",
    "    \n",
    "    return vectorized_array"
   ]
  },
  {
   "cell_type": "code",
   "execution_count": 8,
   "metadata": {},
   "outputs": [],
   "source": [
    "Vec = []\n",
    "len_vec = []\n",
    "for i in range(len(kmers_list)):\n",
    "    Vec.append(vectorizedList(kmers_list[i]))\n",
    "    len_vec.append(len(kmers_list[i]))\n",
    "#Vec"
   ]
  },
  {
   "cell_type": "code",
   "execution_count": 9,
   "metadata": {},
   "outputs": [],
   "source": [
    "f = [[float(i) for i in j] for j in Vec]\n",
    "Vec = [[i / sum(j) for i in j] for j in f]"
   ]
  },
  {
   "cell_type": "code",
   "execution_count": 10,
   "metadata": {},
   "outputs": [],
   "source": [
    "def padding(seq, len_vec):\n",
    "    anotherseq = seq.copy()\n",
    "    max_kmerlen = max(len_vec)\n",
    "    for i in anotherseq:\n",
    "        diff = max_kmerlen - len(i)\n",
    "        i.extend(repeat(0, diff))\n",
    "    \n",
    "    return anotherseq    "
   ]
  },
  {
   "cell_type": "code",
   "execution_count": 11,
   "metadata": {},
   "outputs": [],
   "source": [
    "pad = padding(Vec, len_vec)"
   ]
  },
  {
   "cell_type": "code",
   "execution_count": 12,
   "metadata": {},
   "outputs": [],
   "source": [
    "from keras.layers import Conv2D, Input, MaxPooling2D, Dropout, Flatten, Dense, Activation\n",
    "from keras.optimizers import Adam\n",
    "from sklearn.model_selection import train_test_split\n",
    "from sklearn.metrics import precision_recall_fscore_support as score\n",
    "from sklearn.metrics import precision_score, recall_score, f1_score\n",
    "import keras"
   ]
  },
  {
   "cell_type": "code",
   "execution_count": 13,
   "metadata": {},
   "outputs": [],
   "source": [
    "X = np.asarray(pad)#.astype(np.float32)\n",
    "y = df['AccessionID'].to_numpy()#.astype(np.float32)"
   ]
  },
  {
   "cell_type": "code",
   "execution_count": 14,
   "metadata": {},
   "outputs": [
    {
     "data": {
      "text/plain": [
       "(2524, 2118)"
      ]
     },
     "execution_count": 14,
     "metadata": {},
     "output_type": "execute_result"
    }
   ],
   "source": [
    "X.shape"
   ]
  },
  {
   "cell_type": "code",
   "execution_count": 15,
   "metadata": {},
   "outputs": [],
   "source": [
    "data_shape = [353,6]\n",
    "X = X.reshape(2524,data_shape[0],data_shape[1])\n",
    "x_train, x_test, y_train, Y_test = train_test_split(X, y, test_size=0.33)"
   ]
  },
  {
   "cell_type": "code",
   "execution_count": 16,
   "metadata": {},
   "outputs": [],
   "source": [
    "x_train = x_train.astype('float32') \n",
    "x_test = x_test.astype('float32') "
   ]
  },
  {
   "cell_type": "code",
   "execution_count": 17,
   "metadata": {},
   "outputs": [],
   "source": [
    "x_train = x_train.reshape(x_train.shape[0], data_shape[0],data_shape[1], 1) \n",
    "x_test = x_test.reshape(x_test.shape[0], data_shape[0],data_shape[1], 1) "
   ]
  },
  {
   "cell_type": "code",
   "execution_count": 18,
   "metadata": {},
   "outputs": [],
   "source": [
    "fields = len(np.unique(df['AccessionID']))\n",
    "#For training data\n",
    "y_train = np.uint8(keras.utils.to_categorical(y_train, num_classes = fields))\n",
    "\n",
    "#For test data\n",
    "y_test = np.uint8(keras.utils.to_categorical(Y_test, num_classes = fields))"
   ]
  },
  {
   "cell_type": "code",
   "execution_count": 19,
   "metadata": {},
   "outputs": [
    {
     "name": "stdout",
     "output_type": "stream",
     "text": [
      "(1691, 353, 6, 1)\n",
      "(833, 353, 6, 1)\n"
     ]
    }
   ],
   "source": [
    "print(x_train.shape)\n",
    "print(x_test.shape)"
   ]
  },
  {
   "cell_type": "code",
   "execution_count": 20,
   "metadata": {},
   "outputs": [
    {
     "name": "stdout",
     "output_type": "stream",
     "text": [
      "(1691, 3)\n",
      "(833, 3)\n"
     ]
    }
   ],
   "source": [
    "print(y_train.shape)\n",
    "print(y_test.shape)"
   ]
  },
  {
   "cell_type": "code",
   "execution_count": 21,
   "metadata": {},
   "outputs": [],
   "source": [
    "from keras.utils.np_utils import to_categorical\n",
    "from keras.models import Model ,Sequential\n",
    "from sklearn.model_selection import StratifiedKFold"
   ]
  },
  {
   "cell_type": "code",
   "execution_count": 22,
   "metadata": {},
   "outputs": [],
   "source": [
    "model = Sequential()\n",
    "model.add(Conv2D(32, kernel_size=(5,5), activation='relu', input_shape=(data_shape[0],data_shape[1],1)))\n",
    "model.add(MaxPooling2D(pool_size=(2,2)))\n",
    "model.add(Flatten())\n",
    "model.add(Dense(1024, activation='relu'))\n",
    "model.add(Dense(64, activation='relu'))\n",
    "model.add(Dense(3, activation='softmax'))"
   ]
  },
  {
   "cell_type": "code",
   "execution_count": 23,
   "metadata": {
    "scrolled": true
   },
   "outputs": [
    {
     "name": "stdout",
     "output_type": "stream",
     "text": [
      "Epoch 1/32\n",
      "53/53 [==============================] - 4s 53ms/step - loss: 0.1721 - accuracy: 0.6244\n",
      "Epoch 2/32\n",
      "53/53 [==============================] - 3s 52ms/step - loss: 0.1305 - accuracy: 0.6946\n",
      "Epoch 3/32\n",
      "53/53 [==============================] - 3s 51ms/step - loss: 0.1254 - accuracy: 0.7220\n",
      "Epoch 4/32\n",
      "53/53 [==============================] - 3s 49ms/step - loss: 0.1208 - accuracy: 0.7502\n",
      "Epoch 5/32\n",
      "53/53 [==============================] - 3s 50ms/step - loss: 0.1032 - accuracy: 0.7973\n",
      "Epoch 6/32\n",
      "53/53 [==============================] - 3s 51ms/step - loss: 0.0895 - accuracy: 0.8366\n",
      "Epoch 7/32\n",
      "53/53 [==============================] - 3s 52ms/step - loss: 0.0735 - accuracy: 0.8560\n",
      "Epoch 8/32\n",
      "53/53 [==============================] - 3s 50ms/step - loss: 0.0672 - accuracy: 0.8656\n",
      "Epoch 9/32\n",
      "53/53 [==============================] - 3s 50ms/step - loss: 0.0641 - accuracy: 0.8880\n",
      "Epoch 10/32\n",
      "53/53 [==============================] - 3s 50ms/step - loss: 0.0615 - accuracy: 0.8851\n",
      "Epoch 11/32\n",
      "53/53 [==============================] - 3s 50ms/step - loss: 0.0565 - accuracy: 0.9018\n",
      "Epoch 12/32\n",
      "53/53 [==============================] - 3s 50ms/step - loss: 0.0478 - accuracy: 0.9146\n",
      "Epoch 13/32\n",
      "53/53 [==============================] - 3s 52ms/step - loss: 0.0497 - accuracy: 0.9120\n",
      "Epoch 14/32\n",
      "53/53 [==============================] - 3s 50ms/step - loss: 0.0448 - accuracy: 0.9222\n",
      "Epoch 15/32\n",
      "53/53 [==============================] - 3s 50ms/step - loss: 0.0403 - accuracy: 0.9305\n",
      "Epoch 16/32\n",
      "53/53 [==============================] - 3s 50ms/step - loss: 0.0415 - accuracy: 0.9256\n",
      "Epoch 17/32\n",
      "53/53 [==============================] - 3s 51ms/step - loss: 0.0371 - accuracy: 0.9374\n",
      "Epoch 18/32\n",
      "53/53 [==============================] - 3s 55ms/step - loss: 0.0363 - accuracy: 0.9313\n",
      "Epoch 19/32\n",
      "53/53 [==============================] - 3s 63ms/step - loss: 0.0344 - accuracy: 0.9372\n",
      "Epoch 20/32\n",
      "53/53 [==============================] - 3s 56ms/step - loss: 0.0366 - accuracy: 0.9306\n",
      "Epoch 21/32\n",
      "53/53 [==============================] - 3s 54ms/step - loss: 0.0317 - accuracy: 0.9425\n",
      "Epoch 22/32\n",
      "53/53 [==============================] - 3s 53ms/step - loss: 0.0285 - accuracy: 0.9532\n",
      "Epoch 23/32\n",
      "53/53 [==============================] - 3s 53ms/step - loss: 0.0316 - accuracy: 0.9445\n",
      "Epoch 24/32\n",
      "53/53 [==============================] - 3s 53ms/step - loss: 0.0276 - accuracy: 0.9539\n",
      "Epoch 25/32\n",
      "53/53 [==============================] - 3s 55ms/step - loss: 0.0297 - accuracy: 0.9486\n",
      "Epoch 26/32\n",
      "53/53 [==============================] - 3s 53ms/step - loss: 0.0291 - accuracy: 0.9529\n",
      "Epoch 27/32\n",
      "53/53 [==============================] - 3s 53ms/step - loss: 0.0232 - accuracy: 0.9611\n",
      "Epoch 28/32\n",
      "53/53 [==============================] - 3s 52ms/step - loss: 0.0265 - accuracy: 0.9580\n",
      "Epoch 29/32\n",
      "53/53 [==============================] - 3s 54ms/step - loss: 0.0265 - accuracy: 0.9516\n",
      "Epoch 30/32\n",
      "53/53 [==============================] - 3s 55ms/step - loss: 0.0197 - accuracy: 0.9666\n",
      "Epoch 31/32\n",
      "53/53 [==============================] - 3s 52ms/step - loss: 0.0200 - accuracy: 0.9668\n",
      "Epoch 32/32\n",
      "53/53 [==============================] - 3s 52ms/step - loss: 0.0214 - accuracy: 0.9636\n"
     ]
    },
    {
     "data": {
      "text/plain": [
       "<tensorflow.python.keras.callbacks.History at 0x1052cb128e0>"
      ]
     },
     "execution_count": 23,
     "metadata": {},
     "output_type": "execute_result"
    }
   ],
   "source": [
    "model.compile(optimizer='adam', loss = \"mean_squared_error\", metrics = ['accuracy']) \n",
    "model.fit(x_train, y_train, epochs = 32)"
   ]
  },
  {
   "cell_type": "code",
   "execution_count": 24,
   "metadata": {},
   "outputs": [
    {
     "name": "stdout",
     "output_type": "stream",
     "text": [
      "Model: \"sequential\"\n",
      "_________________________________________________________________\n",
      "Layer (type)                 Output Shape              Param #   \n",
      "=================================================================\n",
      "conv2d (Conv2D)              (None, 349, 2, 32)        832       \n",
      "_________________________________________________________________\n",
      "max_pooling2d (MaxPooling2D) (None, 174, 1, 32)        0         \n",
      "_________________________________________________________________\n",
      "flatten (Flatten)            (None, 5568)              0         \n",
      "_________________________________________________________________\n",
      "dense (Dense)                (None, 1024)              5702656   \n",
      "_________________________________________________________________\n",
      "dense_1 (Dense)              (None, 64)                65600     \n",
      "_________________________________________________________________\n",
      "dense_2 (Dense)              (None, 3)                 195       \n",
      "=================================================================\n",
      "Total params: 5,769,283\n",
      "Trainable params: 5,769,283\n",
      "Non-trainable params: 0\n",
      "_________________________________________________________________\n"
     ]
    }
   ],
   "source": [
    "model.summary()"
   ]
  },
  {
   "cell_type": "code",
   "execution_count": 25,
   "metadata": {},
   "outputs": [
    {
     "name": "stdout",
     "output_type": "stream",
     "text": [
      "53/53 [==============================] - 1s 8ms/step - loss: 0.0199 - accuracy: 0.9669\n",
      "Training Accuracy: 0.9669\n",
      "27/27 [==============================] - 0s 8ms/step - loss: 0.0477 - accuracy: 0.9172\n",
      "Testing Accuracy:  0.9172\n",
      "\n",
      "Final Loss =  0.04770102724432945\n"
     ]
    }
   ],
   "source": [
    "#Printing the loss and accuracy of training and testing sets\n",
    "loss, accuracy = model.evaluate(x_train, y_train, verbose=1)\n",
    "print(\"Training Accuracy: {:.4f}\".format(accuracy))\n",
    "loss, accuracy = model.evaluate(x_test, y_test, verbose=1)\n",
    "print(\"Testing Accuracy:  {:.4f}\".format(accuracy))\n",
    "print(\"\\nFinal Loss = \",loss)"
   ]
  },
  {
   "cell_type": "markdown",
   "metadata": {},
   "source": [
    "#### 10 fold Cross Validation for relu architecture "
   ]
  },
  {
   "cell_type": "code",
   "execution_count": 26,
   "metadata": {
    "scrolled": true
   },
   "outputs": [
    {
     "name": "stdout",
     "output_type": "stream",
     "text": [
      "accuracy: 90.64%\n",
      "accuracy: 91.24%\n",
      "accuracy: 91.12%\n",
      "accuracy: 91.00%\n",
      "accuracy: 90.40%\n",
      "accuracy: 89.68%\n",
      "accuracy: 91.36%\n",
      "accuracy: 90.76%\n",
      "accuracy: 90.40%\n",
      "accuracy: 90.40%\n"
     ]
    }
   ],
   "source": [
    "kfold = StratifiedKFold(n_splits=10, shuffle=True, random_state=123)\n",
    "cvscores = []\n",
    "for train, test in kfold.split(X, y):\n",
    "    model = Sequential()\n",
    "    model.add(Conv2D(32, kernel_size=(5,5), activation='relu', input_shape=(data_shape[0],data_shape[1],1)))\n",
    "    model.add(MaxPooling2D(pool_size=(2,2)))\n",
    "    model.add(Flatten())\n",
    "    model.add(Dense(1024, activation='relu'))\n",
    "    model.add(Dense(64, activation='relu'))\n",
    "    model.add(Dense(3, activation='softmax'))\n",
    "    model.compile(optimizer = \"adam\", loss = \"mean_squared_error\", metrics = \"accuracy\")\n",
    "    model.fit(x_train, y_train, epochs = 32,verbose = 0)\n",
    "    scores = model.evaluate(x_test, y_test, verbose = 0)\n",
    "    print(\"%s: %.2f%%\" % (model.metrics_names[1], scores[1]*100))\n",
    "    cvscores.append(scores[1] * 100)"
   ]
  },
  {
   "cell_type": "code",
   "execution_count": 27,
   "metadata": {},
   "outputs": [
    {
     "name": "stdout",
     "output_type": "stream",
     "text": [
      "90.70% (+/- 0.48%)\n"
     ]
    }
   ],
   "source": [
    "print(\"%.2f%% (+/- %.2f%%)\" % (np.mean(cvscores), np.std(cvscores)))"
   ]
  },
  {
   "cell_type": "code",
   "execution_count": 28,
   "metadata": {},
   "outputs": [],
   "source": [
    "y_pred = model.predict(x_test)\n",
    "Y_pred_classes = np.argmax(y_pred,axis=1)\n",
    "y_act = np.argmax(y_test,axis=1)"
   ]
  },
  {
   "cell_type": "code",
   "execution_count": 29,
   "metadata": {},
   "outputs": [
    {
     "data": {
      "text/plain": [
       "array([[225.,  23.,   0.],\n",
       "       [ 57., 520.,   0.],\n",
       "       [  0.,   0.,   8.]])"
      ]
     },
     "execution_count": 29,
     "metadata": {},
     "output_type": "execute_result"
    }
   ],
   "source": [
    "conf_matrix = np.zeros((3,3))\n",
    "for i in range(len(y_act)):\n",
    "    conf_matrix[Y_pred_classes[i]][y_act[i]] += 1\n",
    "conf_matrix"
   ]
  },
  {
   "cell_type": "code",
   "execution_count": 30,
   "metadata": {},
   "outputs": [
    {
     "name": "stdout",
     "output_type": "stream",
     "text": [
      "Precision:  0.9361570786977507\n",
      "Recall:  0.9185050220080195\n",
      "F1-score:  0.9258760107816711\n"
     ]
    }
   ],
   "source": [
    "precision = precision_score(Y_test, Y_pred_classes, average='macro')\n",
    "recall = recall_score(Y_test, Y_pred_classes, average='macro')\n",
    "f1score = f1_score(Y_test, Y_pred_classes, average='macro')\n",
    "print(\"Precision: \", precision)\n",
    "print(\"Recall: \", recall)\n",
    "print(\"F1-score: \", f1score)"
   ]
  },
  {
   "cell_type": "code",
   "execution_count": 31,
   "metadata": {},
   "outputs": [
    {
     "data": {
      "text/plain": [
       "0.9231571757559649"
      ]
     },
     "execution_count": 31,
     "metadata": {},
     "output_type": "execute_result"
    }
   ],
   "source": [
    "#roc auc score\n",
    "from sklearn.metrics import roc_auc_score,roc_curve\n",
    "from sklearn.metrics import roc_curve, auc\n",
    "roc_auc_score(y_test, y_pred, multi_class='ovo', average='weighted')"
   ]
  },
  {
   "cell_type": "code",
   "execution_count": 32,
   "metadata": {},
   "outputs": [
    {
     "data": {
      "image/png": "[encoded data removed]",
      "text/plain": [
       "<Figure size 432x288 with 1 Axes>"
      ]
     },
     "metadata": {
      "needs_background": "light"
     },
     "output_type": "display_data"
    }
   ],
   "source": [
    "# roc curve for classes\n",
    "fpr = {}\n",
    "tpr = {}\n",
    "roc_auc ={}\n",
    "\n",
    "for i in range(fields):\n",
    "    fpr[i], tpr[i], _ = roc_curve(y_test[:, i], y_pred[:, i])\n",
    "    roc_auc[i] = auc(fpr[i], tpr[i])\n",
    "\n",
    "# Compute micro-average ROC curve and ROC area\n",
    "fpr[\"micro\"], tpr[\"micro\"], _ = roc_curve(y_test.ravel(), y_pred.ravel())\n",
    "roc_auc[\"micro\"] = auc(fpr[\"micro\"], tpr[\"micro\"])\n",
    "\n",
    "# plotting    \n",
    "plt.plot(fpr[0], tpr[0], linestyle='--',color='orange', label='MERS vs Rest')\n",
    "plt.plot(fpr[1], tpr[1], linestyle='--',color='green', label='SARS vs Rest')\n",
    "plt.plot(fpr[2], tpr[2], linestyle='--',color='blue', label='SARS-COV 2 vs Rest')\n",
    "plt.title('CNN_kmer relu ROC curve')\n",
    "plt.xlabel('False Positive Rate')\n",
    "plt.ylabel('True Positive rate')\n",
    "plt.legend(loc='best')\n",
    "plt.show()"
   ]
  },
  {
   "cell_type": "markdown",
   "metadata": {},
   "source": [
    "### Sigmoid Activation"
   ]
  },
  {
   "cell_type": "code",
   "execution_count": 33,
   "metadata": {},
   "outputs": [],
   "source": [
    "model = Sequential()\n",
    "model.add(Conv2D(32, kernel_size=(5,5), activation='sigmoid', input_shape=(data_shape[0],data_shape[1],1)))\n",
    "model.add(MaxPooling2D(pool_size=(2,2)))\n",
    "model.add(Flatten())\n",
    "model.add(Dense(1024, activation='sigmoid'))\n",
    "model.add(Dense(64, activation='sigmoid'))\n",
    "model.add(Dense(3, activation='softmax'))"
   ]
  },
  {
   "cell_type": "code",
   "execution_count": 34,
   "metadata": {
    "scrolled": true
   },
   "outputs": [
    {
     "name": "stdout",
     "output_type": "stream",
     "text": [
      "Epoch 1/16\n",
      "53/53 [==============================] - 3s 50ms/step - loss: 0.8466 - accuracy: 0.6515\n",
      "Epoch 2/16\n",
      "53/53 [==============================] - 3s 49ms/step - loss: 0.7109 - accuracy: 0.6865\n",
      "Epoch 3/16\n",
      "53/53 [==============================] - 3s 48ms/step - loss: 0.6994 - accuracy: 0.6803\n",
      "Epoch 4/16\n",
      "53/53 [==============================] - 3s 48ms/step - loss: 0.6975 - accuracy: 0.6614\n",
      "Epoch 5/16\n",
      "53/53 [==============================] - 3s 48ms/step - loss: 0.6835 - accuracy: 0.6760\n",
      "Epoch 6/16\n",
      "53/53 [==============================] - 3s 48ms/step - loss: 0.6530 - accuracy: 0.7018\n",
      "Epoch 7/16\n",
      "53/53 [==============================] - 3s 52ms/step - loss: 0.6794 - accuracy: 0.6792\n",
      "Epoch 8/16\n",
      "53/53 [==============================] - 3s 50ms/step - loss: 0.6700 - accuracy: 0.6853\n",
      "Epoch 9/16\n",
      "53/53 [==============================] - 3s 48ms/step - loss: 0.6619 - accuracy: 0.6968\n",
      "Epoch 10/16\n",
      "53/53 [==============================] - 3s 48ms/step - loss: 0.6735 - accuracy: 0.6838\n",
      "Epoch 11/16\n",
      "53/53 [==============================] - 3s 48ms/step - loss: 0.6669 - accuracy: 0.6991\n",
      "Epoch 12/16\n",
      "53/53 [==============================] - 3s 49ms/step - loss: 0.6688 - accuracy: 0.6922\n",
      "Epoch 13/16\n",
      "53/53 [==============================] - 3s 49ms/step - loss: 0.6672 - accuracy: 0.6933\n",
      "Epoch 14/16\n",
      "53/53 [==============================] - 3s 50ms/step - loss: 0.7047 - accuracy: 0.6653\n",
      "Epoch 15/16\n",
      "53/53 [==============================] - 3s 48ms/step - loss: 0.6797 - accuracy: 0.6766 1s\n",
      "Epoch 16/16\n",
      "53/53 [==============================] - 3s 50ms/step - loss: 0.6678 - accuracy: 0.6820\n"
     ]
    },
    {
     "data": {
      "text/plain": [
       "<tensorflow.python.keras.callbacks.History at 0x105336bfee0>"
      ]
     },
     "execution_count": 34,
     "metadata": {},
     "output_type": "execute_result"
    }
   ],
   "source": [
    "model.compile(optimizer='adagrad', loss = \"categorical_crossentropy\", metrics = ['accuracy']) \n",
    "model.fit(x_train, y_train, epochs = 16)"
   ]
  },
  {
   "cell_type": "code",
   "execution_count": 35,
   "metadata": {},
   "outputs": [
    {
     "name": "stdout",
     "output_type": "stream",
     "text": [
      "53/53 [==============================] - 1s 9ms/step - loss: 0.6805 - accuracy: 0.6789\n",
      "Training Accuracy: 0.6789\n",
      "27/27 [==============================] - 0s 8ms/step - loss: 0.6927 - accuracy: 0.6519\n",
      "Testing Accuracy:  0.6519\n",
      "\n",
      "Final Loss =  0.6926966905593872\n"
     ]
    }
   ],
   "source": [
    "#Printing the loss and accuracy of training and testing sets\n",
    "loss, accuracy = model.evaluate(x_train, y_train, verbose=1)\n",
    "print(\"Training Accuracy: {:.4f}\".format(accuracy))\n",
    "loss, accuracy = model.evaluate(x_test, y_test, verbose=1)\n",
    "print(\"Testing Accuracy:  {:.4f}\".format(accuracy))\n",
    "print(\"\\nFinal Loss = \",loss)"
   ]
  },
  {
   "cell_type": "code",
   "execution_count": 36,
   "metadata": {},
   "outputs": [],
   "source": [
    "y_pred = model.predict(x_test)\n",
    "Y_pred_classes = np.argmax(y_pred,axis=1)\n",
    "y_act = np.argmax(y_test,axis=1)"
   ]
  },
  {
   "cell_type": "code",
   "execution_count": 37,
   "metadata": {},
   "outputs": [
    {
     "data": {
      "text/plain": [
       "array([[  0.,   0.,   0.],\n",
       "       [282., 543.,   8.],\n",
       "       [  0.,   0.,   0.]])"
      ]
     },
     "execution_count": 37,
     "metadata": {},
     "output_type": "execute_result"
    }
   ],
   "source": [
    "conf_matrix = np.zeros((3,3))\n",
    "for i in range(len(y_act)):\n",
    "    conf_matrix[Y_pred_classes[i]][y_act[i]] += 1\n",
    "conf_matrix"
   ]
  },
  {
   "cell_type": "code",
   "execution_count": 38,
   "metadata": {},
   "outputs": [
    {
     "name": "stdout",
     "output_type": "stream",
     "text": [
      "Precision:  0.21728691476590636\n",
      "Recall:  0.3333333333333333\n",
      "F1-score:  0.26308139534883723\n"
     ]
    },
    {
     "name": "stderr",
     "output_type": "stream",
     "text": [
      "C:\\Users\\ARRUN\\anaconda3\\lib\\site-packages\\sklearn\\metrics\\_classification.py:1248: UndefinedMetricWarning: Precision is ill-defined and being set to 0.0 in labels with no predicted samples. Use `zero_division` parameter to control this behavior.\n",
      "  _warn_prf(average, modifier, msg_start, len(result))\n"
     ]
    }
   ],
   "source": [
    "precision = precision_score(Y_test, Y_pred_classes, average='macro')\n",
    "recall = recall_score(Y_test, Y_pred_classes, average='macro')\n",
    "f1score = f1_score(Y_test, Y_pred_classes, average='macro')\n",
    "print(\"Precision: \", precision)\n",
    "print(\"Recall: \", recall)\n",
    "print(\"F1-score: \", f1score)\n"
   ]
  },
  {
   "cell_type": "code",
   "execution_count": 39,
   "metadata": {},
   "outputs": [
    {
     "data": {
      "image/png": "[encoded data removed]",
      "text/plain": [
       "<Figure size 432x288 with 1 Axes>"
      ]
     },
     "metadata": {
      "needs_background": "light"
     },
     "output_type": "display_data"
    }
   ],
   "source": [
    "roc_auc_score(y_test, y_pred, multi_class='ovo', average='weighted')\n",
    "# roc curve for classes\n",
    "fpr = {}\n",
    "tpr = {}\n",
    "roc_auc ={}\n",
    "\n",
    "for i in range(fields):\n",
    "    fpr[i], tpr[i], _ = roc_curve(y_test[:, i], y_pred[:, i])\n",
    "    roc_auc[i] = auc(fpr[i], tpr[i])\n",
    "\n",
    "# Compute micro-average ROC curve and ROC area\n",
    "fpr[\"micro\"], tpr[\"micro\"], _ = roc_curve(y_test.ravel(), y_pred.ravel())\n",
    "roc_auc[\"micro\"] = auc(fpr[\"micro\"], tpr[\"micro\"])\n",
    "\n",
    "# plotting    \n",
    "plt.plot(fpr[0], tpr[0], linestyle='--',color='orange', label='MERS vs Rest')\n",
    "plt.plot(fpr[1], tpr[1], linestyle='--',color='green', label='SARS vs Rest')\n",
    "plt.plot(fpr[2], tpr[2], linestyle='--',color='blue', label='SARS-COV 2 vs Rest')\n",
    "plt.title('CNN_kmer sigmoid ROC curve')\n",
    "plt.xlabel('False Positive Rate')\n",
    "plt.ylabel('True Positive rate')\n",
    "plt.legend(loc='best')\n",
    "plt.show()"
   ]
  },
  {
   "cell_type": "markdown",
   "metadata": {},
   "source": [
    "### tanh Activation"
   ]
  },
  {
   "cell_type": "code",
   "execution_count": 40,
   "metadata": {},
   "outputs": [],
   "source": [
    "model = Sequential()\n",
    "model.add(Conv2D(32, kernel_size=(5,5), activation='tanh', input_shape=(data_shape[0],data_shape[1],1)))\n",
    "model.add(MaxPooling2D(pool_size=(2,2)))\n",
    "model.add(Flatten())\n",
    "model.add(Dense(1024, activation='tanh'))\n",
    "model.add(Dense(64, activation='tanh'))\n",
    "model.add(Dense(3, activation='softmax'))"
   ]
  },
  {
   "cell_type": "code",
   "execution_count": 41,
   "metadata": {
    "scrolled": true
   },
   "outputs": [
    {
     "name": "stdout",
     "output_type": "stream",
     "text": [
      "Epoch 1/32\n",
      "53/53 [==============================] - 3s 52ms/step - loss: 0.1604 - accuracy: 0.6518\n",
      "Epoch 2/32\n",
      "53/53 [==============================] - 3s 53ms/step - loss: 0.1313 - accuracy: 0.7218\n",
      "Epoch 3/32\n",
      "53/53 [==============================] - 3s 55ms/step - loss: 0.1104 - accuracy: 0.7752\n",
      "Epoch 4/32\n",
      "53/53 [==============================] - 3s 53ms/step - loss: 0.0980 - accuracy: 0.7965\n",
      "Epoch 5/32\n",
      "53/53 [==============================] - 3s 55ms/step - loss: 0.0804 - accuracy: 0.8361\n",
      "Epoch 6/32\n",
      "53/53 [==============================] - 3s 53ms/step - loss: 0.0618 - accuracy: 0.8799\n",
      "Epoch 7/32\n",
      "53/53 [==============================] - 3s 53ms/step - loss: 0.0623 - accuracy: 0.8759\n",
      "Epoch 8/32\n",
      "53/53 [==============================] - 3s 54ms/step - loss: 0.0509 - accuracy: 0.9032\n",
      "Epoch 9/32\n",
      "53/53 [==============================] - 3s 54ms/step - loss: 0.0538 - accuracy: 0.8996\n",
      "Epoch 10/32\n",
      "53/53 [==============================] - 3s 52ms/step - loss: 0.0423 - accuracy: 0.9244\n",
      "Epoch 11/32\n",
      "53/53 [==============================] - 3s 53ms/step - loss: 0.0472 - accuracy: 0.9147\n",
      "Epoch 12/32\n",
      "53/53 [==============================] - 3s 52ms/step - loss: 0.0408 - accuracy: 0.9228\n",
      "Epoch 13/32\n",
      "53/53 [==============================] - 3s 52ms/step - loss: 0.0355 - accuracy: 0.9376\n",
      "Epoch 14/32\n",
      "53/53 [==============================] - 3s 55ms/step - loss: 0.0293 - accuracy: 0.9483\n",
      "Epoch 15/32\n",
      "53/53 [==============================] - 3s 53ms/step - loss: 0.0295 - accuracy: 0.9445\n",
      "Epoch 16/32\n",
      "53/53 [==============================] - 3s 52ms/step - loss: 0.0289 - accuracy: 0.9443\n",
      "Epoch 17/32\n",
      "53/53 [==============================] - 3s 53ms/step - loss: 0.0285 - accuracy: 0.9481\n",
      "Epoch 18/32\n",
      "53/53 [==============================] - 3s 53ms/step - loss: 0.0248 - accuracy: 0.9608\n",
      "Epoch 19/32\n",
      "53/53 [==============================] - 3s 54ms/step - loss: 0.0255 - accuracy: 0.9593\n",
      "Epoch 20/32\n",
      "53/53 [==============================] - 3s 58ms/step - loss: 0.0271 - accuracy: 0.9547\n",
      "Epoch 21/32\n",
      "53/53 [==============================] - 3s 53ms/step - loss: 0.0747 - accuracy: 0.8620\n",
      "Epoch 22/32\n",
      "53/53 [==============================] - 3s 53ms/step - loss: 0.0270 - accuracy: 0.9552\n",
      "Epoch 23/32\n",
      "53/53 [==============================] - 3s 53ms/step - loss: 0.0232 - accuracy: 0.9610\n",
      "Epoch 24/32\n",
      "53/53 [==============================] - 3s 52ms/step - loss: 0.0224 - accuracy: 0.9626\n",
      "Epoch 25/32\n",
      "53/53 [==============================] - 3s 54ms/step - loss: 0.0199 - accuracy: 0.9663\n",
      "Epoch 26/32\n",
      "53/53 [==============================] - 3s 53ms/step - loss: 0.0177 - accuracy: 0.9726\n",
      "Epoch 27/32\n",
      "53/53 [==============================] - 3s 54ms/step - loss: 0.0176 - accuracy: 0.9717 0s - loss: 0.0176 - accuracy - ETA: 0s - loss: 0.0176 - accuracy: 0.97\n",
      "Epoch 28/32\n",
      "53/53 [==============================] - 3s 55ms/step - loss: 0.0176 - accuracy: 0.9661\n",
      "Epoch 29/32\n",
      "53/53 [==============================] - 3s 53ms/step - loss: 0.0140 - accuracy: 0.9766\n",
      "Epoch 30/32\n",
      "53/53 [==============================] - 3s 54ms/step - loss: 0.0147 - accuracy: 0.9733\n",
      "Epoch 31/32\n",
      "53/53 [==============================] - 3s 56ms/step - loss: 0.0187 - accuracy: 0.9685\n",
      "Epoch 32/32\n",
      "53/53 [==============================] - 3s 55ms/step - loss: 0.0137 - accuracy: 0.9802\n"
     ]
    },
    {
     "data": {
      "text/plain": [
       "<tensorflow.python.keras.callbacks.History at 0x10533d0edc0>"
      ]
     },
     "execution_count": 41,
     "metadata": {},
     "output_type": "execute_result"
    }
   ],
   "source": [
    "model.compile(optimizer='adam', loss = \"mean_squared_error\", metrics = ['accuracy']) \n",
    "model.fit(x_train, y_train, epochs = 32)"
   ]
  },
  {
   "cell_type": "code",
   "execution_count": 42,
   "metadata": {},
   "outputs": [
    {
     "name": "stdout",
     "output_type": "stream",
     "text": [
      "53/53 [==============================] - 1s 9ms/step - loss: 0.0109 - accuracy: 0.9829\n",
      "Training Accuracy: 0.9829\n",
      "27/27 [==============================] - 0s 9ms/step - loss: 0.0441 - accuracy: 0.9220\n",
      "Testing Accuracy:  0.9220\n",
      "\n",
      "Final Loss =  0.04413331672549248\n"
     ]
    }
   ],
   "source": [
    "#Printing the loss and accuracy of training and testing sets\n",
    "loss, accuracy = model.evaluate(x_train, y_train, verbose=1)\n",
    "print(\"Training Accuracy: {:.4f}\".format(accuracy))\n",
    "loss, accuracy = model.evaluate(x_test, y_test, verbose=1)\n",
    "print(\"Testing Accuracy:  {:.4f}\".format(accuracy))\n",
    "print(\"\\nFinal Loss = \",loss)"
   ]
  },
  {
   "cell_type": "code",
   "execution_count": 43,
   "metadata": {},
   "outputs": [],
   "source": [
    "y_pred = model.predict(x_test)\n",
    "Y_pred_classes = np.argmax(y_pred,axis=1)\n",
    "y_act = np.argmax(y_test,axis=1)"
   ]
  },
  {
   "cell_type": "code",
   "execution_count": 44,
   "metadata": {},
   "outputs": [
    {
     "data": {
      "text/plain": [
       "array([[239.,  22.,   0.],\n",
       "       [ 43., 521.,   0.],\n",
       "       [  0.,   0.,   8.]])"
      ]
     },
     "execution_count": 44,
     "metadata": {},
     "output_type": "execute_result"
    }
   ],
   "source": [
    "conf_matrix = np.zeros((3,3))\n",
    "for i in range(len(y_act)):\n",
    "    conf_matrix[Y_pred_classes[i]][y_act[i]] += 1\n",
    "conf_matrix"
   ]
  },
  {
   "cell_type": "code",
   "execution_count": 45,
   "metadata": {},
   "outputs": [
    {
     "name": "stdout",
     "output_type": "stream",
     "text": [
      "Precision:  0.9464892258362544\n",
      "Recall:  0.9356673589070438\n",
      "F1-score:  0.9405258018203263\n"
     ]
    }
   ],
   "source": [
    "precision = precision_score(Y_test, Y_pred_classes, average='macro')\n",
    "recall = recall_score(Y_test, Y_pred_classes, average='macro')\n",
    "f1score = f1_score(Y_test, Y_pred_classes, average='macro')\n",
    "print(\"Precision: \", precision)\n",
    "print(\"Recall: \", recall)\n",
    "print(\"F1-score: \", f1score)\n"
   ]
  },
  {
   "cell_type": "code",
   "execution_count": 46,
   "metadata": {},
   "outputs": [
    {
     "data": {
      "image/png": "[encoded data removed]",
      "text/plain": [
       "<Figure size 432x288 with 1 Axes>"
      ]
     },
     "metadata": {
      "needs_background": "light"
     },
     "output_type": "display_data"
    }
   ],
   "source": [
    "roc_auc_score(y_test, y_pred, multi_class='ovo', average='weighted')\n",
    "# roc curve for classes\n",
    "fpr = {}\n",
    "tpr = {}\n",
    "roc_auc ={}\n",
    "\n",
    "for i in range(fields):\n",
    "    fpr[i], tpr[i], _ = roc_curve(y_test[:, i], y_pred[:, i])\n",
    "    roc_auc[i] = auc(fpr[i], tpr[i])\n",
    "\n",
    "# Compute micro-average ROC curve and ROC area\n",
    "fpr[\"micro\"], tpr[\"micro\"], _ = roc_curve(y_test.ravel(), y_pred.ravel())\n",
    "roc_auc[\"micro\"] = auc(fpr[\"micro\"], tpr[\"micro\"])\n",
    "\n",
    "# plotting    \n",
    "plt.plot(fpr[0], tpr[0], linestyle='--',color='orange', label='MERS vs Rest')\n",
    "plt.plot(fpr[1], tpr[1], linestyle='--',color='green', label='SARS vs Rest')\n",
    "plt.plot(fpr[2], tpr[2], linestyle='--',color='blue', label='SARS-COV 2 vs Rest')\n",
    "plt.title('CNN_kmer tanh ROC curve')\n",
    "plt.xlabel('False Positive Rate')\n",
    "plt.ylabel('True Positive rate')\n",
    "plt.legend(loc='best')\n",
    "plt.show()"
   ]
  },
  {
   "cell_type": "markdown",
   "metadata": {},
   "source": [
    "### elu activation"
   ]
  },
  {
   "cell_type": "code",
   "execution_count": 47,
   "metadata": {},
   "outputs": [],
   "source": [
    "model = Sequential()\n",
    "model.add(Conv2D(32, kernel_size=(5,5), activation='elu', input_shape=(data_shape[0],data_shape[1],1)))\n",
    "model.add(MaxPooling2D(pool_size=(2,2)))\n",
    "model.add(Flatten())\n",
    "model.add(Dense(1024, activation='elu'))\n",
    "model.add(Dense(64, activation='elu'))\n",
    "model.add(Dense(3, activation='softmax'))"
   ]
  },
  {
   "cell_type": "code",
   "execution_count": 48,
   "metadata": {
    "scrolled": true
   },
   "outputs": [
    {
     "name": "stdout",
     "output_type": "stream",
     "text": [
      "Epoch 1/32\n",
      "53/53 [==============================] - 3s 53ms/step - loss: 0.1602 - accuracy: 0.6520\n",
      "Epoch 2/32\n",
      "53/53 [==============================] - 3s 53ms/step - loss: 0.1251 - accuracy: 0.7168\n",
      "Epoch 3/32\n",
      "53/53 [==============================] - 3s 54ms/step - loss: 0.1072 - accuracy: 0.7887\n",
      "Epoch 4/32\n",
      "53/53 [==============================] - 3s 54ms/step - loss: 0.1076 - accuracy: 0.7737\n",
      "Epoch 5/32\n",
      "53/53 [==============================] - 3s 53ms/step - loss: 0.0843 - accuracy: 0.8379\n",
      "Epoch 6/32\n",
      "53/53 [==============================] - 3s 53ms/step - loss: 0.0667 - accuracy: 0.8688\n",
      "Epoch 7/32\n",
      "53/53 [==============================] - 3s 53ms/step - loss: 0.0561 - accuracy: 0.9037\n",
      "Epoch 8/32\n",
      "53/53 [==============================] - 3s 53ms/step - loss: 0.0543 - accuracy: 0.8956\n",
      "Epoch 9/32\n",
      "53/53 [==============================] - 3s 56ms/step - loss: 0.0467 - accuracy: 0.9090\n",
      "Epoch 10/32\n",
      "53/53 [==============================] - 3s 54ms/step - loss: 0.0549 - accuracy: 0.8997\n",
      "Epoch 11/32\n",
      "53/53 [==============================] - 3s 53ms/step - loss: 0.0392 - accuracy: 0.9240\n",
      "Epoch 12/32\n",
      "53/53 [==============================] - 3s 53ms/step - loss: 0.0468 - accuracy: 0.9067\n",
      "Epoch 13/32\n",
      "53/53 [==============================] - 3s 53ms/step - loss: 0.0354 - accuracy: 0.9287\n",
      "Epoch 14/32\n",
      "53/53 [==============================] - 3s 55ms/step - loss: 0.0436 - accuracy: 0.9149\n",
      "Epoch 15/32\n",
      "53/53 [==============================] - 3s 55ms/step - loss: 0.0400 - accuracy: 0.9309\n",
      "Epoch 16/32\n",
      "53/53 [==============================] - 3s 53ms/step - loss: 0.0391 - accuracy: 0.9224\n",
      "Epoch 17/32\n",
      "53/53 [==============================] - 3s 53ms/step - loss: 0.0512 - accuracy: 0.9071\n",
      "Epoch 18/32\n",
      "53/53 [==============================] - 3s 56ms/step - loss: 0.2141 - accuracy: 0.6769\n",
      "Epoch 19/32\n",
      "53/53 [==============================] - 3s 53ms/step - loss: 0.2306 - accuracy: 0.6541\n",
      "Epoch 20/32\n",
      "53/53 [==============================] - 3s 54ms/step - loss: 0.2350 - accuracy: 0.6475\n",
      "Epoch 21/32\n",
      "53/53 [==============================] - 3s 55ms/step - loss: 0.2185 - accuracy: 0.6723\n",
      "Epoch 22/32\n",
      "53/53 [==============================] - 3s 54ms/step - loss: 0.2203 - accuracy: 0.6695\n",
      "Epoch 23/32\n",
      "53/53 [==============================] - 3s 53ms/step - loss: 0.2068 - accuracy: 0.6897\n",
      "Epoch 24/32\n",
      "53/53 [==============================] - 3s 53ms/step - loss: 0.2149 - accuracy: 0.6777\n",
      "Epoch 25/32\n",
      "53/53 [==============================] - 3s 53ms/step - loss: 0.2221 - accuracy: 0.6668\n",
      "Epoch 26/32\n",
      "53/53 [==============================] - 3s 61ms/step - loss: 0.2114 - accuracy: 0.6829\n",
      "Epoch 27/32\n",
      "53/53 [==============================] - 3s 62ms/step - loss: 0.2186 - accuracy: 0.6721\n",
      "Epoch 28/32\n",
      "53/53 [==============================] - 3s 58ms/step - loss: 0.2067 - accuracy: 0.6899\n",
      "Epoch 29/32\n",
      "53/53 [==============================] - 3s 59ms/step - loss: 0.2070 - accuracy: 0.6895\n",
      "Epoch 30/32\n",
      "53/53 [==============================] - 3s 57ms/step - loss: 0.2168 - accuracy: 0.6748\n",
      "Epoch 31/32\n",
      "53/53 [==============================] - 3s 57ms/step - loss: 0.2264 - accuracy: 0.6604\n",
      "Epoch 32/32\n",
      "53/53 [==============================] - 3s 54ms/step - loss: 0.2239 - accuracy: 0.6641\n"
     ]
    },
    {
     "data": {
      "text/plain": [
       "<tensorflow.python.keras.callbacks.History at 0x1053bd25580>"
      ]
     },
     "execution_count": 48,
     "metadata": {},
     "output_type": "execute_result"
    }
   ],
   "source": [
    "model.compile(optimizer='adam', loss = \"mean_squared_error\", metrics = ['accuracy']) \n",
    "model.fit(x_train, y_train, epochs = 32)"
   ]
  },
  {
   "cell_type": "code",
   "execution_count": 49,
   "metadata": {},
   "outputs": [
    {
     "name": "stdout",
     "output_type": "stream",
     "text": [
      "53/53 [==============================] - 1s 9ms/step - loss: 0.2141 - accuracy: 0.6789\n",
      "Training Accuracy: 0.6789\n",
      "27/27 [==============================] - 0s 8ms/step - loss: 0.2321 - accuracy: 0.6519\n",
      "Testing Accuracy:  0.6519\n",
      "\n",
      "Final Loss =  0.23209282755851746\n"
     ]
    }
   ],
   "source": [
    "#Printing the loss and accuracy of training and testing sets\n",
    "loss, accuracy = model.evaluate(x_train, y_train, verbose=1)\n",
    "print(\"Training Accuracy: {:.4f}\".format(accuracy))\n",
    "loss, accuracy = model.evaluate(x_test, y_test, verbose=1)\n",
    "print(\"Testing Accuracy:  {:.4f}\".format(accuracy))\n",
    "print(\"\\nFinal Loss = \",loss)"
   ]
  },
  {
   "cell_type": "code",
   "execution_count": 50,
   "metadata": {},
   "outputs": [],
   "source": [
    "y_pred = model.predict(x_test)\n",
    "Y_pred_classes = np.argmax(y_pred,axis=1)\n",
    "y_act = np.argmax(y_test,axis=1)"
   ]
  },
  {
   "cell_type": "code",
   "execution_count": 51,
   "metadata": {},
   "outputs": [
    {
     "data": {
      "text/plain": [
       "array([[  0.,   0.,   0.],\n",
       "       [282., 543.,   8.],\n",
       "       [  0.,   0.,   0.]])"
      ]
     },
     "execution_count": 51,
     "metadata": {},
     "output_type": "execute_result"
    }
   ],
   "source": [
    "conf_matrix = np.zeros((3,3))\n",
    "for i in range(len(y_act)):\n",
    "    conf_matrix[Y_pred_classes[i]][y_act[i]] += 1\n",
    "conf_matrix"
   ]
  },
  {
   "cell_type": "code",
   "execution_count": 52,
   "metadata": {},
   "outputs": [
    {
     "name": "stdout",
     "output_type": "stream",
     "text": [
      "Precision:  0.21728691476590636\n",
      "Recall:  0.3333333333333333\n",
      "F1-score:  0.26308139534883723\n"
     ]
    },
    {
     "name": "stderr",
     "output_type": "stream",
     "text": [
      "C:\\Users\\ARRUN\\anaconda3\\lib\\site-packages\\sklearn\\metrics\\_classification.py:1248: UndefinedMetricWarning: Precision is ill-defined and being set to 0.0 in labels with no predicted samples. Use `zero_division` parameter to control this behavior.\n",
      "  _warn_prf(average, modifier, msg_start, len(result))\n"
     ]
    }
   ],
   "source": [
    "precision = precision_score(Y_test, Y_pred_classes, average='macro')\n",
    "recall = recall_score(Y_test, Y_pred_classes, average='macro')\n",
    "f1score = f1_score(Y_test, Y_pred_classes, average='macro')\n",
    "print(\"Precision: \", precision)\n",
    "print(\"Recall: \", recall)\n",
    "print(\"F1-score: \", f1score)\n"
   ]
  },
  {
   "cell_type": "code",
   "execution_count": 53,
   "metadata": {},
   "outputs": [
    {
     "data": {
      "image/png": "[encoded data removed]",
      "text/plain": [
       "<Figure size 432x288 with 1 Axes>"
      ]
     },
     "metadata": {
      "needs_background": "light"
     },
     "output_type": "display_data"
    }
   ],
   "source": [
    "roc_auc_score(y_test, y_pred, multi_class='ovo', average='weighted')\n",
    "# roc curve for classes\n",
    "fpr = {}\n",
    "tpr = {}\n",
    "roc_auc ={}\n",
    "\n",
    "for i in range(fields):\n",
    "    fpr[i], tpr[i], _ = roc_curve(y_test[:, i], y_pred[:, i])\n",
    "    roc_auc[i] = auc(fpr[i], tpr[i])\n",
    "\n",
    "# Compute micro-average ROC curve and ROC area\n",
    "fpr[\"micro\"], tpr[\"micro\"], _ = roc_curve(y_test.ravel(), y_pred.ravel())\n",
    "roc_auc[\"micro\"] = auc(fpr[\"micro\"], tpr[\"micro\"])\n",
    "\n",
    "# plotting    \n",
    "plt.plot(fpr[0], tpr[0], linestyle='--',color='orange', label='MERS vs Rest')\n",
    "plt.plot(fpr[1], tpr[1], linestyle='--',color='green', label='SARS vs Rest')\n",
    "plt.plot(fpr[2], tpr[2], linestyle='--',color='blue', label='SARS-COV 2 vs Rest')\n",
    "plt.title('CNN_kmer elu ROC curve')\n",
    "plt.xlabel('False Positive Rate')\n",
    "plt.ylabel('True Positive rate')\n",
    "plt.legend(loc='best')\n",
    "plt.show()"
   ]
  },
  {
   "cell_type": "markdown",
   "metadata": {},
   "source": [
    "### selu Activation"
   ]
  },
  {
   "cell_type": "code",
   "execution_count": 54,
   "metadata": {},
   "outputs": [],
   "source": [
    "model = Sequential()\n",
    "model.add(Conv2D(32, kernel_size=(5,5), activation='selu', input_shape=(data_shape[0],data_shape[1],1)))\n",
    "model.add(MaxPooling2D(pool_size=(2,2)))\n",
    "model.add(Flatten())\n",
    "model.add(Dense(1024, activation='selu'))\n",
    "model.add(Dense(64, activation='selu'))\n",
    "model.add(Dense(3, activation='softmax'))"
   ]
  },
  {
   "cell_type": "code",
   "execution_count": 55,
   "metadata": {
    "scrolled": true
   },
   "outputs": [
    {
     "name": "stdout",
     "output_type": "stream",
     "text": [
      "Epoch 1/32\n",
      "53/53 [==============================] - 3s 55ms/step - loss: 0.1593 - accuracy: 0.6875\n",
      "Epoch 2/32\n",
      "53/53 [==============================] - 3s 54ms/step - loss: 0.1208 - accuracy: 0.7538\n",
      "Epoch 3/32\n",
      "53/53 [==============================] - 3s 58ms/step - loss: 0.0845 - accuracy: 0.8254\n",
      "Epoch 4/32\n",
      "53/53 [==============================] - 3s 57ms/step - loss: 0.0665 - accuracy: 0.8645\n",
      "Epoch 5/32\n",
      "53/53 [==============================] - 3s 57ms/step - loss: 0.0630 - accuracy: 0.8766\n",
      "Epoch 6/32\n",
      "53/53 [==============================] - 3s 57ms/step - loss: 0.0509 - accuracy: 0.9076\n",
      "Epoch 7/32\n",
      "53/53 [==============================] - 3s 58ms/step - loss: 0.0615 - accuracy: 0.8815\n",
      "Epoch 8/32\n",
      "53/53 [==============================] - 3s 55ms/step - loss: 0.0445 - accuracy: 0.9166\n",
      "Epoch 9/32\n",
      "53/53 [==============================] - 3s 54ms/step - loss: 0.0398 - accuracy: 0.9266\n",
      "Epoch 10/32\n",
      "53/53 [==============================] - 3s 52ms/step - loss: 0.0372 - accuracy: 0.9318\n",
      "Epoch 11/32\n",
      "53/53 [==============================] - 3s 54ms/step - loss: 0.0282 - accuracy: 0.9505\n",
      "Epoch 12/32\n",
      "53/53 [==============================] - 3s 52ms/step - loss: 0.0345 - accuracy: 0.9356\n",
      "Epoch 13/32\n",
      "53/53 [==============================] - 3s 53ms/step - loss: 0.0319 - accuracy: 0.9416\n",
      "Epoch 14/32\n",
      "53/53 [==============================] - 3s 55ms/step - loss: 0.0222 - accuracy: 0.9595\n",
      "Epoch 15/32\n",
      "53/53 [==============================] - 3s 57ms/step - loss: 0.0231 - accuracy: 0.9582\n",
      "Epoch 16/32\n",
      "53/53 [==============================] - 3s 52ms/step - loss: 0.0248 - accuracy: 0.9581\n",
      "Epoch 17/32\n",
      "53/53 [==============================] - 3s 52ms/step - loss: 0.0347 - accuracy: 0.9392\n",
      "Epoch 18/32\n",
      "53/53 [==============================] - 3s 52ms/step - loss: 0.0250 - accuracy: 0.9541\n",
      "Epoch 19/32\n",
      "53/53 [==============================] - 3s 52ms/step - loss: 0.0190 - accuracy: 0.9681\n",
      "Epoch 20/32\n",
      "53/53 [==============================] - 3s 54ms/step - loss: 0.0189 - accuracy: 0.9632\n",
      "Epoch 21/32\n",
      "53/53 [==============================] - 3s 52ms/step - loss: 0.0194 - accuracy: 0.9653\n",
      "Epoch 22/32\n",
      "53/53 [==============================] - 3s 52ms/step - loss: 0.0254 - accuracy: 0.9548\n",
      "Epoch 23/32\n",
      "53/53 [==============================] - 3s 52ms/step - loss: 0.0820 - accuracy: 0.8423\n",
      "Epoch 24/32\n",
      "53/53 [==============================] - 3s 52ms/step - loss: 0.0418 - accuracy: 0.9206\n",
      "Epoch 25/32\n",
      "53/53 [==============================] - 3s 52ms/step - loss: 0.0186 - accuracy: 0.9698\n",
      "Epoch 26/32\n",
      "53/53 [==============================] - 3s 54ms/step - loss: 0.0183 - accuracy: 0.9690\n",
      "Epoch 27/32\n",
      "53/53 [==============================] - 3s 51ms/step - loss: 0.0119 - accuracy: 0.9774\n",
      "Epoch 28/32\n",
      "53/53 [==============================] - 3s 52ms/step - loss: 0.0130 - accuracy: 0.9807\n",
      "Epoch 29/32\n",
      "53/53 [==============================] - 3s 51ms/step - loss: 0.0127 - accuracy: 0.9814\n",
      "Epoch 30/32\n",
      "53/53 [==============================] - 3s 52ms/step - loss: 0.0151 - accuracy: 0.9751\n",
      "Epoch 31/32\n",
      "53/53 [==============================] - 3s 53ms/step - loss: 0.0153 - accuracy: 0.9768\n",
      "Epoch 32/32\n",
      "53/53 [==============================] - 3s 54ms/step - loss: 0.0165 - accuracy: 0.9762\n"
     ]
    },
    {
     "data": {
      "text/plain": [
       "<tensorflow.python.keras.callbacks.History at 0x10533d17250>"
      ]
     },
     "execution_count": 55,
     "metadata": {},
     "output_type": "execute_result"
    }
   ],
   "source": [
    "model.compile(optimizer='adam', loss = \"mean_squared_error\", metrics = ['accuracy']) \n",
    "model.fit(x_train, y_train, epochs = 32)"
   ]
  },
  {
   "cell_type": "code",
   "execution_count": 56,
   "metadata": {},
   "outputs": [
    {
     "name": "stdout",
     "output_type": "stream",
     "text": [
      "53/53 [==============================] - 1s 8ms/step - loss: 0.0107 - accuracy: 0.9840\n",
      "Training Accuracy: 0.9840\n",
      "27/27 [==============================] - 0s 8ms/step - loss: 0.0454 - accuracy: 0.9172\n",
      "Testing Accuracy:  0.9172\n",
      "\n",
      "Final Loss =  0.04543384164571762\n"
     ]
    }
   ],
   "source": [
    "#Printing the loss and accuracy of training and testing sets\n",
    "loss, accuracy = model.evaluate(x_train, y_train, verbose=1)\n",
    "print(\"Training Accuracy: {:.4f}\".format(accuracy))\n",
    "loss, accuracy = model.evaluate(x_test, y_test, verbose=1)\n",
    "print(\"Testing Accuracy:  {:.4f}\".format(accuracy))\n",
    "print(\"\\nFinal Loss = \",loss)"
   ]
  },
  {
   "cell_type": "code",
   "execution_count": 57,
   "metadata": {},
   "outputs": [],
   "source": [
    "y_pred = model.predict(x_test)\n",
    "Y_pred_classes = np.argmax(y_pred,axis=1)\n",
    "y_act = np.argmax(y_test,axis=1)"
   ]
  },
  {
   "cell_type": "code",
   "execution_count": 58,
   "metadata": {},
   "outputs": [
    {
     "data": {
      "text/plain": [
       "array([[230.,  17.,   0.],\n",
       "       [ 52., 526.,   0.],\n",
       "       [  0.,   0.,   8.]])"
      ]
     },
     "execution_count": 58,
     "metadata": {},
     "output_type": "execute_result"
    }
   ],
   "source": [
    "conf_matrix = np.zeros((3,3))\n",
    "for i in range(len(y_act)):\n",
    "    conf_matrix[Y_pred_classes[i]][y_act[i]] += 1\n",
    "conf_matrix"
   ]
  },
  {
   "cell_type": "code",
   "execution_count": 59,
   "metadata": {},
   "outputs": [
    {
     "name": "stdout",
     "output_type": "stream",
     "text": [
      "Precision:  0.9470695637149835\n",
      "Recall:  0.9280984287449551\n",
      "F1-score:  0.9360043439475624\n"
     ]
    }
   ],
   "source": [
    "precision = precision_score(Y_test, Y_pred_classes, average='macro')\n",
    "recall = recall_score(Y_test, Y_pred_classes, average='macro')\n",
    "f1score = f1_score(Y_test, Y_pred_classes, average='macro')\n",
    "print(\"Precision: \", precision)\n",
    "print(\"Recall: \", recall)\n",
    "print(\"F1-score: \", f1score)\n"
   ]
  },
  {
   "cell_type": "code",
   "execution_count": 60,
   "metadata": {},
   "outputs": [
    {
     "data": {
      "image/png": "[encoded data removed]",
      "text/plain": [
       "<Figure size 432x288 with 1 Axes>"
      ]
     },
     "metadata": {
      "needs_background": "light"
     },
     "output_type": "display_data"
    }
   ],
   "source": [
    "roc_auc_score(y_test, y_pred, multi_class='ovo', average='weighted')\n",
    "# roc curve for classes\n",
    "fpr = {}\n",
    "tpr = {}\n",
    "roc_auc ={}\n",
    "\n",
    "for i in range(fields):\n",
    "    fpr[i], tpr[i], _ = roc_curve(y_test[:, i], y_pred[:, i])\n",
    "    roc_auc[i] = auc(fpr[i], tpr[i])\n",
    "\n",
    "# Compute micro-average ROC curve and ROC area\n",
    "fpr[\"micro\"], tpr[\"micro\"], _ = roc_curve(y_test.ravel(), y_pred.ravel())\n",
    "roc_auc[\"micro\"] = auc(fpr[\"micro\"], tpr[\"micro\"])\n",
    "\n",
    "# plotting    \n",
    "plt.plot(fpr[0], tpr[0], linestyle='--',color='orange', label='MERS vs Rest')\n",
    "plt.plot(fpr[1], tpr[1], linestyle='--',color='green', label='SARS vs Rest')\n",
    "plt.plot(fpr[2], tpr[2], linestyle='--',color='blue', label='SARS-COV 2 vs Rest')\n",
    "plt.title('CNN_kmer selu ROC curve')\n",
    "plt.xlabel('False Positive Rate')\n",
    "plt.ylabel('True Positive rate')\n",
    "plt.legend(loc='best')\n",
    "plt.show()"
   ]
  }
 ],
 "metadata": {
  "kernelspec": {
   "display_name": "Python 3",
   "language": "python",
   "name": "python3"
  },
  "language_info": {
   "codemirror_mode": {
    "name": "ipython",
    "version": 3
   },
   "file_extension": ".py",
   "mimetype": "text/x-python",
   "name": "python",
   "nbconvert_exporter": "python",
   "pygments_lexer": "ipython3",
   "version": "3.8.5"
  }
 },
 "nbformat": 4,
 "nbformat_minor": 4
}
